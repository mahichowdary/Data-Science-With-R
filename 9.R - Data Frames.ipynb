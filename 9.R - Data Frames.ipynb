{
 "cells": [
  {
   "cell_type": "markdown",
   "metadata": {},
   "source": [
    "A `data frame` is a table or a `two-dimensional` array-like structure in which each column contains values of one variable and each row contains one set of values from each column.\n",
    "\n",
    "Following are the characteristics of a data frame.\n",
    "\n",
    "1. The column names should be non-empty.\n",
    "2. The row names should be unique.\n",
    "3.The data stored in a data frame can be of numeric, factor or character type.\n",
    "4. Each column should contain same number of data items."
   ]
  },
  {
   "cell_type": "code",
   "execution_count": 2,
   "metadata": {},
   "outputs": [
    {
     "data": {
      "text/html": [
       "<table>\n",
       "<thead><tr><th scope=col>emp_id</th><th scope=col>emp_name</th><th scope=col>salary</th><th scope=col>date_of_Join</th></tr></thead>\n",
       "<tbody>\n",
       "\t<tr><td>1         </td><td>Rani      </td><td>623.30    </td><td>2012-01-01</td></tr>\n",
       "\t<tr><td>2         </td><td>Divya     </td><td>515.20    </td><td>2013-09-23</td></tr>\n",
       "\t<tr><td>3         </td><td>Raju      </td><td>611.00    </td><td>2014-11-15</td></tr>\n",
       "\t<tr><td>4         </td><td>Ramya     </td><td>729.00    </td><td>2014-05-11</td></tr>\n",
       "\t<tr><td>5         </td><td>Ram       </td><td>843.25    </td><td>2015-03-27</td></tr>\n",
       "</tbody>\n",
       "</table>\n"
      ],
      "text/latex": [
       "\\begin{tabular}{r|llll}\n",
       " emp\\_id & emp\\_name & salary & date\\_of\\_Join\\\\\n",
       "\\hline\n",
       "\t 1          & Rani       & 623.30     & 2012-01-01\\\\\n",
       "\t 2          & Divya      & 515.20     & 2013-09-23\\\\\n",
       "\t 3          & Raju       & 611.00     & 2014-11-15\\\\\n",
       "\t 4          & Ramya      & 729.00     & 2014-05-11\\\\\n",
       "\t 5          & Ram        & 843.25     & 2015-03-27\\\\\n",
       "\\end{tabular}\n"
      ],
      "text/markdown": [
       "\n",
       "emp_id | emp_name | salary | date_of_Join | \n",
       "|---|---|---|---|---|\n",
       "| 1          | Rani       | 623.30     | 2012-01-01 | \n",
       "| 2          | Divya      | 515.20     | 2013-09-23 | \n",
       "| 3          | Raju       | 611.00     | 2014-11-15 | \n",
       "| 4          | Ramya      | 729.00     | 2014-05-11 | \n",
       "| 5          | Ram        | 843.25     | 2015-03-27 | \n",
       "\n",
       "\n"
      ],
      "text/plain": [
       "  emp_id emp_name salary date_of_Join\n",
       "1 1      Rani     623.30 2012-01-01  \n",
       "2 2      Divya    515.20 2013-09-23  \n",
       "3 3      Raju     611.00 2014-11-15  \n",
       "4 4      Ramya    729.00 2014-05-11  \n",
       "5 5      Ram      843.25 2015-03-27  "
      ]
     },
     "metadata": {},
     "output_type": "display_data"
    }
   ],
   "source": [
    "# Create the data frame.\n",
    "emp.data <- data.frame(\n",
    "    emp_id = c (1:5), \n",
    "    emp_name = c(\"Rani\",\"Divya\",\"Raju\",\"Ramya\",\"Ram\"),\n",
    "    salary = c(623.3,515.2,611.0,729.0,843.25), \n",
    "   \n",
    "   date_of_Join = as.Date(c(\"2012-01-01\", \"2013-09-23\", \"2014-11-15\", \"2014-05-11\",\n",
    "      \"2015-03-27\")),\n",
    "   stringsAsFactors = FALSE\n",
    ")\n",
    "# Print the data frame.\n",
    "emp.data "
   ]
  },
  {
   "cell_type": "markdown",
   "metadata": {},
   "source": [
    "`Get the Structure of the Data Frame`\n",
    "The structure of the data frame can be seen by using str() function."
   ]
  },
  {
   "cell_type": "code",
   "execution_count": 3,
   "metadata": {},
   "outputs": [
    {
     "name": "stdout",
     "output_type": "stream",
     "text": [
      "'data.frame':\t5 obs. of  4 variables:\n",
      " $ emp_id      : int  1 2 3 4 5\n",
      " $ emp_name    : chr  \"Rani\" \"Divya\" \"Raju\" \"Ramya\" ...\n",
      " $ salary      : num  623 515 611 729 843\n",
      " $ date_of_Join: Date, format: \"2012-01-01\" \"2013-09-23\" ...\n"
     ]
    }
   ],
   "source": [
    "str(emp.data)"
   ]
  },
  {
   "cell_type": "code",
   "execution_count": 4,
   "metadata": {},
   "outputs": [
    {
     "name": "stdout",
     "output_type": "stream",
     "text": [
      "     emp_id    emp_name             salary       date_of_Join       \n",
      " Min.   :1   Length:5           Min.   :515.2   Min.   :2012-01-01  \n",
      " 1st Qu.:2   Class :character   1st Qu.:611.0   1st Qu.:2013-09-23  \n",
      " Median :3   Mode  :character   Median :623.3   Median :2014-05-11  \n",
      " Mean   :3                      Mean   :664.4   Mean   :2014-01-14  \n",
      " 3rd Qu.:4                      3rd Qu.:729.0   3rd Qu.:2014-11-15  \n",
      " Max.   :5                      Max.   :843.2   Max.   :2015-03-27  \n"
     ]
    }
   ],
   "source": [
    "print(summary(emp.data)) "
   ]
  },
  {
   "cell_type": "markdown",
   "metadata": {},
   "source": [
    "`**Extract Data from Data Frame**`\n",
    "Extract specific column from a data frame using column name."
   ]
  },
  {
   "cell_type": "code",
   "execution_count": 5,
   "metadata": {},
   "outputs": [
    {
     "data": {
      "text/html": [
       "<table>\n",
       "<thead><tr><th scope=col>emp.data.emp_name</th><th scope=col>emp.data.salary</th></tr></thead>\n",
       "<tbody>\n",
       "\t<tr><td>Rani  </td><td>623.30</td></tr>\n",
       "\t<tr><td>Divya </td><td>515.20</td></tr>\n",
       "\t<tr><td>Raju  </td><td>611.00</td></tr>\n",
       "\t<tr><td>Ramya </td><td>729.00</td></tr>\n",
       "\t<tr><td>Ram   </td><td>843.25</td></tr>\n",
       "</tbody>\n",
       "</table>\n"
      ],
      "text/latex": [
       "\\begin{tabular}{r|ll}\n",
       " emp.data.emp\\_name & emp.data.salary\\\\\n",
       "\\hline\n",
       "\t Rani   & 623.30\\\\\n",
       "\t Divya  & 515.20\\\\\n",
       "\t Raju   & 611.00\\\\\n",
       "\t Ramya  & 729.00\\\\\n",
       "\t Ram    & 843.25\\\\\n",
       "\\end{tabular}\n"
      ],
      "text/markdown": [
       "\n",
       "emp.data.emp_name | emp.data.salary | \n",
       "|---|---|---|---|---|\n",
       "| Rani   | 623.30 | \n",
       "| Divya  | 515.20 | \n",
       "| Raju   | 611.00 | \n",
       "| Ramya  | 729.00 | \n",
       "| Ram    | 843.25 | \n",
       "\n",
       "\n"
      ],
      "text/plain": [
       "  emp.data.emp_name emp.data.salary\n",
       "1 Rani              623.30         \n",
       "2 Divya             515.20         \n",
       "3 Raju              611.00         \n",
       "4 Ramya             729.00         \n",
       "5 Ram               843.25         "
      ]
     },
     "metadata": {},
     "output_type": "display_data"
    }
   ],
   "source": [
    "result <- data.frame(emp.data$emp_name,emp.data$salary)\n",
    "result"
   ]
  },
  {
   "cell_type": "code",
   "execution_count": 13,
   "metadata": {},
   "outputs": [
    {
     "data": {
      "text/html": [
       "<table>\n",
       "<thead><tr><th scope=col>emp_id</th><th scope=col>emp_name</th><th scope=col>salary</th><th scope=col>date_of_Join</th></tr></thead>\n",
       "<tbody>\n",
       "\t<tr><td>1         </td><td>Rani      </td><td>623.3     </td><td>2012-01-01</td></tr>\n",
       "</tbody>\n",
       "</table>\n"
      ],
      "text/latex": [
       "\\begin{tabular}{r|llll}\n",
       " emp\\_id & emp\\_name & salary & date\\_of\\_Join\\\\\n",
       "\\hline\n",
       "\t 1          & Rani       & 623.3      & 2012-01-01\\\\\n",
       "\\end{tabular}\n"
      ],
      "text/markdown": [
       "\n",
       "emp_id | emp_name | salary | date_of_Join | \n",
       "|---|\n",
       "| 1          | Rani       | 623.3      | 2012-01-01 | \n",
       "\n",
       "\n"
      ],
      "text/plain": [
       "  emp_id emp_name salary date_of_Join\n",
       "1 1      Rani     623.3  2012-01-01  "
      ]
     },
     "metadata": {},
     "output_type": "display_data"
    }
   ],
   "source": [
    "# Extract first two rows.\n",
    "result <- emp.data[1,]\n",
    "result"
   ]
  },
  {
   "cell_type": "code",
   "execution_count": 14,
   "metadata": {},
   "outputs": [
    {
     "data": {
      "text/html": [
       "<table>\n",
       "<thead><tr><th></th><th scope=col>emp_name</th><th scope=col>date_of_Join</th></tr></thead>\n",
       "<tbody>\n",
       "\t<tr><th scope=row>3</th><td>Raju      </td><td>2014-11-15</td></tr>\n",
       "\t<tr><th scope=row>5</th><td>Ram       </td><td>2015-03-27</td></tr>\n",
       "</tbody>\n",
       "</table>\n"
      ],
      "text/latex": [
       "\\begin{tabular}{r|ll}\n",
       "  & emp\\_name & date\\_of\\_Join\\\\\n",
       "\\hline\n",
       "\t3 & Raju       & 2014-11-15\\\\\n",
       "\t5 & Ram        & 2015-03-27\\\\\n",
       "\\end{tabular}\n"
      ],
      "text/markdown": [
       "\n",
       "| <!--/--> | emp_name | date_of_Join | \n",
       "|---|---|\n",
       "| 3 | Raju       | 2014-11-15 | \n",
       "| 5 | Ram        | 2015-03-27 | \n",
       "\n",
       "\n"
      ],
      "text/plain": [
       "  emp_name date_of_Join\n",
       "3 Raju     2014-11-15  \n",
       "5 Ram      2015-03-27  "
      ]
     },
     "metadata": {},
     "output_type": "display_data"
    }
   ],
   "source": [
    "# Extract 3rd and 5th row with 2nd and 4th column.\n",
    "result <- emp.data[c(3,5),c(2,4)]\n",
    "result"
   ]
  },
  {
   "cell_type": "code",
   "execution_count": 15,
   "metadata": {},
   "outputs": [
    {
     "data": {
      "text/html": [
       "<table>\n",
       "<thead><tr><th scope=col>emp_id</th><th scope=col>emp_name</th><th scope=col>salary</th><th scope=col>date_of_Join</th><th scope=col>dept</th></tr></thead>\n",
       "<tbody>\n",
       "\t<tr><td>1         </td><td>Rani      </td><td>623.30    </td><td>2012-01-01</td><td>IT        </td></tr>\n",
       "\t<tr><td>2         </td><td>Divya     </td><td>515.20    </td><td>2013-09-23</td><td>Operations</td></tr>\n",
       "\t<tr><td>3         </td><td>Raju      </td><td>611.00    </td><td>2014-11-15</td><td>IT        </td></tr>\n",
       "\t<tr><td>4         </td><td>Ramya     </td><td>729.00    </td><td>2014-05-11</td><td>HR        </td></tr>\n",
       "\t<tr><td>5         </td><td>Ram       </td><td>843.25    </td><td>2015-03-27</td><td>Finance   </td></tr>\n",
       "</tbody>\n",
       "</table>\n"
      ],
      "text/latex": [
       "\\begin{tabular}{r|lllll}\n",
       " emp\\_id & emp\\_name & salary & date\\_of\\_Join & dept\\\\\n",
       "\\hline\n",
       "\t 1          & Rani       & 623.30     & 2012-01-01 & IT        \\\\\n",
       "\t 2          & Divya      & 515.20     & 2013-09-23 & Operations\\\\\n",
       "\t 3          & Raju       & 611.00     & 2014-11-15 & IT        \\\\\n",
       "\t 4          & Ramya      & 729.00     & 2014-05-11 & HR        \\\\\n",
       "\t 5          & Ram        & 843.25     & 2015-03-27 & Finance   \\\\\n",
       "\\end{tabular}\n"
      ],
      "text/markdown": [
       "\n",
       "emp_id | emp_name | salary | date_of_Join | dept | \n",
       "|---|---|---|---|---|\n",
       "| 1          | Rani       | 623.30     | 2012-01-01 | IT         | \n",
       "| 2          | Divya      | 515.20     | 2013-09-23 | Operations | \n",
       "| 3          | Raju       | 611.00     | 2014-11-15 | IT         | \n",
       "| 4          | Ramya      | 729.00     | 2014-05-11 | HR         | \n",
       "| 5          | Ram        | 843.25     | 2015-03-27 | Finance    | \n",
       "\n",
       "\n"
      ],
      "text/plain": [
       "  emp_id emp_name salary date_of_Join dept      \n",
       "1 1      Rani     623.30 2012-01-01   IT        \n",
       "2 2      Divya    515.20 2013-09-23   Operations\n",
       "3 3      Raju     611.00 2014-11-15   IT        \n",
       "4 4      Ramya    729.00 2014-05-11   HR        \n",
       "5 5      Ram      843.25 2015-03-27   Finance   "
      ]
     },
     "metadata": {},
     "output_type": "display_data"
    }
   ],
   "source": [
    "# Add the \"dept\" coulmn.\n",
    "emp.data$dept <- c(\"IT\",\"Operations\",\"IT\",\"HR\",\"Finance\")\n",
    "v <- emp.data\n",
    "v"
   ]
  },
  {
   "cell_type": "code",
   "execution_count": 16,
   "metadata": {},
   "outputs": [
    {
     "data": {
      "text/html": [
       "<table>\n",
       "<thead><tr><th scope=col>emp_id</th><th scope=col>emp_name</th><th scope=col>salary</th><th scope=col>date_of_Join</th><th scope=col>dept</th></tr></thead>\n",
       "<tbody>\n",
       "\t<tr><td>1         </td><td>Rani      </td><td>623.30    </td><td>2012-01-01</td><td>IT        </td></tr>\n",
       "\t<tr><td>2         </td><td>Divya     </td><td>515.20    </td><td>2013-09-23</td><td>Operations</td></tr>\n",
       "\t<tr><td>3         </td><td>Raju      </td><td>611.00    </td><td>2014-11-15</td><td>IT        </td></tr>\n",
       "\t<tr><td>4         </td><td>Ramya     </td><td>729.00    </td><td>2014-05-11</td><td>HR        </td></tr>\n",
       "\t<tr><td>5         </td><td>Ram       </td><td>843.25    </td><td>2015-03-27</td><td>Finance   </td></tr>\n",
       "</tbody>\n",
       "</table>\n"
      ],
      "text/latex": [
       "\\begin{tabular}{r|lllll}\n",
       " emp\\_id & emp\\_name & salary & date\\_of\\_Join & dept\\\\\n",
       "\\hline\n",
       "\t 1          & Rani       & 623.30     & 2012-01-01 & IT        \\\\\n",
       "\t 2          & Divya      & 515.20     & 2013-09-23 & Operations\\\\\n",
       "\t 3          & Raju       & 611.00     & 2014-11-15 & IT        \\\\\n",
       "\t 4          & Ramya      & 729.00     & 2014-05-11 & HR        \\\\\n",
       "\t 5          & Ram        & 843.25     & 2015-03-27 & Finance   \\\\\n",
       "\\end{tabular}\n"
      ],
      "text/markdown": [
       "\n",
       "emp_id | emp_name | salary | date_of_Join | dept | \n",
       "|---|---|---|---|---|\n",
       "| 1          | Rani       | 623.30     | 2012-01-01 | IT         | \n",
       "| 2          | Divya      | 515.20     | 2013-09-23 | Operations | \n",
       "| 3          | Raju       | 611.00     | 2014-11-15 | IT         | \n",
       "| 4          | Ramya      | 729.00     | 2014-05-11 | HR         | \n",
       "| 5          | Ram        | 843.25     | 2015-03-27 | Finance    | \n",
       "\n",
       "\n"
      ],
      "text/plain": [
       "  emp_id emp_name salary date_of_Join dept      \n",
       "1 1      Rani     623.30 2012-01-01   IT        \n",
       "2 2      Divya    515.20 2013-09-23   Operations\n",
       "3 3      Raju     611.00 2014-11-15   IT        \n",
       "4 4      Ramya    729.00 2014-05-11   HR        \n",
       "5 5      Ram      843.25 2015-03-27   Finance   "
      ]
     },
     "metadata": {},
     "output_type": "display_data"
    }
   ],
   "source": [
    "emp.data"
   ]
  },
  {
   "cell_type": "code",
   "execution_count": 17,
   "metadata": {},
   "outputs": [
    {
     "data": {
      "text/html": [
       "<table>\n",
       "<thead><tr><th scope=col>emp_id</th><th scope=col>emp_name</th><th scope=col>salary</th><th scope=col>date_of_Join</th><th scope=col>dept</th></tr></thead>\n",
       "<tbody>\n",
       "\t<tr><td>6         </td><td>Rasmi     </td><td>578.0     </td><td>2013-05-21</td><td>IT        </td></tr>\n",
       "\t<tr><td>7         </td><td>Pranab    </td><td>722.5     </td><td>2013-07-30</td><td>Operations</td></tr>\n",
       "\t<tr><td>8         </td><td>Tusar     </td><td>632.8     </td><td>2014-06-17</td><td>Fianance  </td></tr>\n",
       "</tbody>\n",
       "</table>\n"
      ],
      "text/latex": [
       "\\begin{tabular}{r|lllll}\n",
       " emp\\_id & emp\\_name & salary & date\\_of\\_Join & dept\\\\\n",
       "\\hline\n",
       "\t 6          & Rasmi      & 578.0      & 2013-05-21 & IT        \\\\\n",
       "\t 7          & Pranab     & 722.5      & 2013-07-30 & Operations\\\\\n",
       "\t 8          & Tusar      & 632.8      & 2014-06-17 & Fianance  \\\\\n",
       "\\end{tabular}\n"
      ],
      "text/markdown": [
       "\n",
       "emp_id | emp_name | salary | date_of_Join | dept | \n",
       "|---|---|---|\n",
       "| 6          | Rasmi      | 578.0      | 2013-05-21 | IT         | \n",
       "| 7          | Pranab     | 722.5      | 2013-07-30 | Operations | \n",
       "| 8          | Tusar      | 632.8      | 2014-06-17 | Fianance   | \n",
       "\n",
       "\n"
      ],
      "text/plain": [
       "  emp_id emp_name salary date_of_Join dept      \n",
       "1 6      Rasmi    578.0  2013-05-21   IT        \n",
       "2 7      Pranab   722.5  2013-07-30   Operations\n",
       "3 8      Tusar    632.8  2014-06-17   Fianance  "
      ]
     },
     "metadata": {},
     "output_type": "display_data"
    }
   ],
   "source": [
    "\n",
    "# Create the second data frame\n",
    "emp.newdata <-data.frame(\n",
    "   emp_id = c (6:8), \n",
    "   emp_name = c(\"Rasmi\",\"Pranab\",\"Tusar\"),\n",
    "   salary = c(578.0,722.5,632.8), \n",
    "   date_of_Join = as.Date(c(\"2013-05-21\",\"2013-07-30\",\"2014-06-17\")),\n",
    "   dept = c(\"IT\",\"Operations\",\"Fianance\"),\n",
    "   stringsAsFactors = FALSE\n",
    ")\n",
    "emp.newdata"
   ]
  },
  {
   "cell_type": "code",
   "execution_count": 18,
   "metadata": {},
   "outputs": [
    {
     "data": {
      "text/html": [
       "<table>\n",
       "<thead><tr><th scope=col>emp_id</th><th scope=col>emp_name</th><th scope=col>salary</th><th scope=col>date_of_Join</th><th scope=col>dept</th></tr></thead>\n",
       "<tbody>\n",
       "\t<tr><td>1         </td><td>Rani      </td><td>623.30    </td><td>2012-01-01</td><td>IT        </td></tr>\n",
       "\t<tr><td>2         </td><td>Divya     </td><td>515.20    </td><td>2013-09-23</td><td>Operations</td></tr>\n",
       "\t<tr><td>3         </td><td>Raju      </td><td>611.00    </td><td>2014-11-15</td><td>IT        </td></tr>\n",
       "\t<tr><td>4         </td><td>Ramya     </td><td>729.00    </td><td>2014-05-11</td><td>HR        </td></tr>\n",
       "\t<tr><td>5         </td><td>Ram       </td><td>843.25    </td><td>2015-03-27</td><td>Finance   </td></tr>\n",
       "\t<tr><td>6         </td><td>Rasmi     </td><td>578.00    </td><td>2013-05-21</td><td>IT        </td></tr>\n",
       "\t<tr><td>7         </td><td>Pranab    </td><td>722.50    </td><td>2013-07-30</td><td>Operations</td></tr>\n",
       "\t<tr><td>8         </td><td>Tusar     </td><td>632.80    </td><td>2014-06-17</td><td>Fianance  </td></tr>\n",
       "</tbody>\n",
       "</table>\n"
      ],
      "text/latex": [
       "\\begin{tabular}{r|lllll}\n",
       " emp\\_id & emp\\_name & salary & date\\_of\\_Join & dept\\\\\n",
       "\\hline\n",
       "\t 1          & Rani       & 623.30     & 2012-01-01 & IT        \\\\\n",
       "\t 2          & Divya      & 515.20     & 2013-09-23 & Operations\\\\\n",
       "\t 3          & Raju       & 611.00     & 2014-11-15 & IT        \\\\\n",
       "\t 4          & Ramya      & 729.00     & 2014-05-11 & HR        \\\\\n",
       "\t 5          & Ram        & 843.25     & 2015-03-27 & Finance   \\\\\n",
       "\t 6          & Rasmi      & 578.00     & 2013-05-21 & IT        \\\\\n",
       "\t 7          & Pranab     & 722.50     & 2013-07-30 & Operations\\\\\n",
       "\t 8          & Tusar      & 632.80     & 2014-06-17 & Fianance  \\\\\n",
       "\\end{tabular}\n"
      ],
      "text/markdown": [
       "\n",
       "emp_id | emp_name | salary | date_of_Join | dept | \n",
       "|---|---|---|---|---|---|---|---|\n",
       "| 1          | Rani       | 623.30     | 2012-01-01 | IT         | \n",
       "| 2          | Divya      | 515.20     | 2013-09-23 | Operations | \n",
       "| 3          | Raju       | 611.00     | 2014-11-15 | IT         | \n",
       "| 4          | Ramya      | 729.00     | 2014-05-11 | HR         | \n",
       "| 5          | Ram        | 843.25     | 2015-03-27 | Finance    | \n",
       "| 6          | Rasmi      | 578.00     | 2013-05-21 | IT         | \n",
       "| 7          | Pranab     | 722.50     | 2013-07-30 | Operations | \n",
       "| 8          | Tusar      | 632.80     | 2014-06-17 | Fianance   | \n",
       "\n",
       "\n"
      ],
      "text/plain": [
       "  emp_id emp_name salary date_of_Join dept      \n",
       "1 1      Rani     623.30 2012-01-01   IT        \n",
       "2 2      Divya    515.20 2013-09-23   Operations\n",
       "3 3      Raju     611.00 2014-11-15   IT        \n",
       "4 4      Ramya    729.00 2014-05-11   HR        \n",
       "5 5      Ram      843.25 2015-03-27   Finance   \n",
       "6 6      Rasmi    578.00 2013-05-21   IT        \n",
       "7 7      Pranab   722.50 2013-07-30   Operations\n",
       "8 8      Tusar    632.80 2014-06-17   Fianance  "
      ]
     },
     "metadata": {},
     "output_type": "display_data"
    }
   ],
   "source": [
    "# Bind the two data frames.\n",
    "emp.finaldata <- rbind(emp.data,emp.newdata)\n",
    "emp.finaldata"
   ]
  },
  {
   "cell_type": "code",
   "execution_count": 19,
   "metadata": {},
   "outputs": [
    {
     "data": {
      "text/html": [
       "<table>\n",
       "<thead><tr><th scope=col>emp_id</th><th scope=col>emp_name</th><th scope=col>salary</th><th scope=col>date_of_Join</th><th scope=col>dept</th></tr></thead>\n",
       "<tbody>\n",
       "\t<tr><td>1         </td><td>Rani      </td><td>623.30    </td><td>2012-01-01</td><td>IT        </td></tr>\n",
       "\t<tr><td>2         </td><td>Divya     </td><td>515.20    </td><td>2013-09-23</td><td>Operations</td></tr>\n",
       "\t<tr><td>3         </td><td>Raju      </td><td>611.00    </td><td>2014-11-15</td><td>IT        </td></tr>\n",
       "\t<tr><td>4         </td><td>Ramya     </td><td>729.00    </td><td>2014-05-11</td><td>HR        </td></tr>\n",
       "\t<tr><td>5         </td><td>Ram       </td><td>843.25    </td><td>2015-03-27</td><td>Finance   </td></tr>\n",
       "\t<tr><td>6         </td><td>Rasmi     </td><td>578.00    </td><td>2013-05-21</td><td>IT        </td></tr>\n",
       "\t<tr><td>7         </td><td>Pranab    </td><td>722.50    </td><td>2013-07-30</td><td>Operations</td></tr>\n",
       "\t<tr><td>8         </td><td>Tusar     </td><td>632.80    </td><td>2014-06-17</td><td>Fianance  </td></tr>\n",
       "</tbody>\n",
       "</table>\n"
      ],
      "text/latex": [
       "\\begin{tabular}{r|lllll}\n",
       " emp\\_id & emp\\_name & salary & date\\_of\\_Join & dept\\\\\n",
       "\\hline\n",
       "\t 1          & Rani       & 623.30     & 2012-01-01 & IT        \\\\\n",
       "\t 2          & Divya      & 515.20     & 2013-09-23 & Operations\\\\\n",
       "\t 3          & Raju       & 611.00     & 2014-11-15 & IT        \\\\\n",
       "\t 4          & Ramya      & 729.00     & 2014-05-11 & HR        \\\\\n",
       "\t 5          & Ram        & 843.25     & 2015-03-27 & Finance   \\\\\n",
       "\t 6          & Rasmi      & 578.00     & 2013-05-21 & IT        \\\\\n",
       "\t 7          & Pranab     & 722.50     & 2013-07-30 & Operations\\\\\n",
       "\t 8          & Tusar      & 632.80     & 2014-06-17 & Fianance  \\\\\n",
       "\\end{tabular}\n"
      ],
      "text/markdown": [
       "\n",
       "emp_id | emp_name | salary | date_of_Join | dept | \n",
       "|---|---|---|---|---|---|---|---|\n",
       "| 1          | Rani       | 623.30     | 2012-01-01 | IT         | \n",
       "| 2          | Divya      | 515.20     | 2013-09-23 | Operations | \n",
       "| 3          | Raju       | 611.00     | 2014-11-15 | IT         | \n",
       "| 4          | Ramya      | 729.00     | 2014-05-11 | HR         | \n",
       "| 5          | Ram        | 843.25     | 2015-03-27 | Finance    | \n",
       "| 6          | Rasmi      | 578.00     | 2013-05-21 | IT         | \n",
       "| 7          | Pranab     | 722.50     | 2013-07-30 | Operations | \n",
       "| 8          | Tusar      | 632.80     | 2014-06-17 | Fianance   | \n",
       "\n",
       "\n"
      ],
      "text/plain": [
       "  emp_id emp_name salary date_of_Join dept      \n",
       "1 1      Rani     623.30 2012-01-01   IT        \n",
       "2 2      Divya    515.20 2013-09-23   Operations\n",
       "3 3      Raju     611.00 2014-11-15   IT        \n",
       "4 4      Ramya    729.00 2014-05-11   HR        \n",
       "5 5      Ram      843.25 2015-03-27   Finance   \n",
       "6 6      Rasmi    578.00 2013-05-21   IT        \n",
       "7 7      Pranab   722.50 2013-07-30   Operations\n",
       "8 8      Tusar    632.80 2014-06-17   Fianance  "
      ]
     },
     "metadata": {},
     "output_type": "display_data"
    }
   ],
   "source": [
    "x = emp.finaldata\n",
    "x"
   ]
  },
  {
   "cell_type": "code",
   "execution_count": 20,
   "metadata": {},
   "outputs": [
    {
     "data": {
      "text/html": [
       "<table>\n",
       "<thead><tr><th scope=col>salary</th></tr></thead>\n",
       "<tbody>\n",
       "\t<tr><td>FALSE</td></tr>\n",
       "\t<tr><td> TRUE</td></tr>\n",
       "\t<tr><td>FALSE</td></tr>\n",
       "\t<tr><td>FALSE</td></tr>\n",
       "\t<tr><td>FALSE</td></tr>\n",
       "\t<tr><td> TRUE</td></tr>\n",
       "\t<tr><td>FALSE</td></tr>\n",
       "\t<tr><td>FALSE</td></tr>\n",
       "</tbody>\n",
       "</table>\n"
      ],
      "text/latex": [
       "\\begin{tabular}{l}\n",
       " salary\\\\\n",
       "\\hline\n",
       "\t FALSE\\\\\n",
       "\t  TRUE\\\\\n",
       "\t FALSE\\\\\n",
       "\t FALSE\\\\\n",
       "\t FALSE\\\\\n",
       "\t  TRUE\\\\\n",
       "\t FALSE\\\\\n",
       "\t FALSE\\\\\n",
       "\\end{tabular}\n"
      ],
      "text/markdown": [
       "\n",
       "salary | \n",
       "|---|---|---|---|---|---|---|---|\n",
       "| FALSE | \n",
       "|  TRUE | \n",
       "| FALSE | \n",
       "| FALSE | \n",
       "| FALSE | \n",
       "|  TRUE | \n",
       "| FALSE | \n",
       "| FALSE | \n",
       "\n",
       "\n"
      ],
      "text/plain": [
       "     salary\n",
       "[1,] FALSE \n",
       "[2,]  TRUE \n",
       "[3,] FALSE \n",
       "[4,] FALSE \n",
       "[5,] FALSE \n",
       "[6,]  TRUE \n",
       "[7,] FALSE \n",
       "[8,] FALSE "
      ]
     },
     "metadata": {},
     "output_type": "display_data"
    }
   ],
   "source": [
    "x['salary']<600"
   ]
  },
  {
   "cell_type": "code",
   "execution_count": 21,
   "metadata": {},
   "outputs": [
    {
     "data": {
      "text/html": [
       "<table>\n",
       "<thead><tr><th scope=col>a</th><th scope=col>b</th><th scope=col>c</th><th scope=col>d</th></tr></thead>\n",
       "<tbody>\n",
       "\t<tr><td>10         </td><td>book       </td><td> TRUE      </td><td> 2.5       </td></tr>\n",
       "\t<tr><td>20         </td><td>pen        </td><td>FALSE      </td><td> 8.0       </td></tr>\n",
       "\t<tr><td>30         </td><td>textbook   </td><td> TRUE      </td><td>10.0       </td></tr>\n",
       "\t<tr><td>40         </td><td>pencil_case</td><td>FALSE      </td><td> 7.0       </td></tr>\n",
       "</tbody>\n",
       "</table>\n"
      ],
      "text/latex": [
       "\\begin{tabular}{r|llll}\n",
       " a & b & c & d\\\\\n",
       "\\hline\n",
       "\t 10          & book        &  TRUE       &  2.5       \\\\\n",
       "\t 20          & pen         & FALSE       &  8.0       \\\\\n",
       "\t 30          & textbook    &  TRUE       & 10.0       \\\\\n",
       "\t 40            & pencil\\_case & FALSE         &  7.0         \\\\\n",
       "\\end{tabular}\n"
      ],
      "text/markdown": [
       "\n",
       "a | b | c | d | \n",
       "|---|---|---|---|\n",
       "| 10          | book        |  TRUE       |  2.5        | \n",
       "| 20          | pen         | FALSE       |  8.0        | \n",
       "| 30          | textbook    |  TRUE       | 10.0        | \n",
       "| 40          | pencil_case | FALSE       |  7.0        | \n",
       "\n",
       "\n"
      ],
      "text/plain": [
       "  a  b           c     d   \n",
       "1 10 book         TRUE  2.5\n",
       "2 20 pen         FALSE  8.0\n",
       "3 30 textbook     TRUE 10.0\n",
       "4 40 pencil_case FALSE  7.0"
      ]
     },
     "metadata": {},
     "output_type": "display_data"
    }
   ],
   "source": [
    "# Create a, b, c, d variables\n",
    "a <- c(10,20,30,40)\n",
    "b <- c('book', 'pen', 'textbook', 'pencil_case')\n",
    "c <- c(TRUE,FALSE,TRUE,FALSE)\n",
    "d <- c(2.5, 8, 10, 7)\n",
    "# Join the variables to create a data frame\n",
    "df <- data.frame(a,b,c,d)\n",
    "df"
   ]
  },
  {
   "cell_type": "code",
   "execution_count": 22,
   "metadata": {},
   "outputs": [
    {
     "data": {
      "text/html": [
       "<table>\n",
       "<thead><tr><th scope=col>ID</th><th scope=col>items</th><th scope=col>store</th><th scope=col>price</th></tr></thead>\n",
       "<tbody>\n",
       "\t<tr><td>10         </td><td>book       </td><td> TRUE      </td><td> 2.5       </td></tr>\n",
       "\t<tr><td>20         </td><td>pen        </td><td>FALSE      </td><td> 8.0       </td></tr>\n",
       "\t<tr><td>30         </td><td>textbook   </td><td> TRUE      </td><td>10.0       </td></tr>\n",
       "\t<tr><td>40         </td><td>pencil_case</td><td>FALSE      </td><td> 7.0       </td></tr>\n",
       "</tbody>\n",
       "</table>\n"
      ],
      "text/latex": [
       "\\begin{tabular}{r|llll}\n",
       " ID & items & store & price\\\\\n",
       "\\hline\n",
       "\t 10          & book        &  TRUE       &  2.5       \\\\\n",
       "\t 20          & pen         & FALSE       &  8.0       \\\\\n",
       "\t 30          & textbook    &  TRUE       & 10.0       \\\\\n",
       "\t 40            & pencil\\_case & FALSE         &  7.0         \\\\\n",
       "\\end{tabular}\n"
      ],
      "text/markdown": [
       "\n",
       "ID | items | store | price | \n",
       "|---|---|---|---|\n",
       "| 10          | book        |  TRUE       |  2.5        | \n",
       "| 20          | pen         | FALSE       |  8.0        | \n",
       "| 30          | textbook    |  TRUE       | 10.0        | \n",
       "| 40          | pencil_case | FALSE       |  7.0        | \n",
       "\n",
       "\n"
      ],
      "text/plain": [
       "  ID items       store price\n",
       "1 10 book         TRUE  2.5 \n",
       "2 20 pen         FALSE  8.0 \n",
       "3 30 textbook     TRUE 10.0 \n",
       "4 40 pencil_case FALSE  7.0 "
      ]
     },
     "metadata": {},
     "output_type": "display_data"
    }
   ],
   "source": [
    "# Name the data frame\n",
    "names(df) <- c('ID', 'items', 'store', 'price')\n",
    "df"
   ]
  },
  {
   "cell_type": "code",
   "execution_count": 23,
   "metadata": {},
   "outputs": [
    {
     "name": "stdout",
     "output_type": "stream",
     "text": [
      "'data.frame':\t4 obs. of  4 variables:\n",
      " $ ID   : num  10 20 30 40\n",
      " $ items: Factor w/ 4 levels \"book\",\"pen\",\"pencil_case\",..: 1 2 4 3\n",
      " $ store: logi  TRUE FALSE TRUE FALSE\n",
      " $ price: num  2.5 8 10 7\n"
     ]
    }
   ],
   "source": [
    "# Print the structure\n",
    "str(df)"
   ]
  },
  {
   "cell_type": "markdown",
   "metadata": {},
   "source": [
    "### Slice Data Frame\n",
    "\n",
    "It is possible to SLICE values of a Data Frame. We select the rows and columns to return into bracket precede by the name of the data frame.\n",
    "\n",
    "A data frame is composed of rows and columns, df[A, B]. A represents the rows and B the columns. We can slice either by specifying the rows and/or columns.\n",
    "\n",
    "From picture 1, the left part represents the rows, and the right part is the columns. Note that the symbol : means to. For instance, 1:3 intends to select values from 1 to 3.\n",
    "\n",
    "![](https://lh3.googleusercontent.com/-w0N3CuICLJ4/XXnz9odzUjI/AAAAAAAAhmw/6e6vlEBDdh8vHqTbtKwhxg4V2UXh_Cx7gCK8BGAsYHg/s0/2019-09-12.png)\n",
    "\n",
    "In below diagram we display how to access different selection of the data frame:\n",
    "\n",
    "* The yellow arrow selects the row 1 in column 2\n",
    "* The green arrow selects the rows 1 to 2\n",
    "* The red arrow selects the column 1\n",
    "* The blue arrow selects the rows 1 to 3 and columns 3 to 4\n",
    "\n",
    "Note that, if we let the left part blank, R will select all the rows. By analogy, if we let the right part blank, R will select all the columns.\n",
    "![](https://lh3.googleusercontent.com/-WZzs8CzMc98/XXnz-4HuvoI/AAAAAAAAhm0/Pl5zLDPm_HMgOLRhYQvN9HdQoK6VMo9YQCK8BGAsYHg/s0/2019-09-12.png)\n"
   ]
  },
  {
   "cell_type": "code",
   "execution_count": 25,
   "metadata": {},
   "outputs": [
    {
     "data": {
      "text/html": [
       "book\n",
       "<details>\n",
       "\t<summary style=display:list-item;cursor:pointer>\n",
       "\t\t<strong>Levels</strong>:\n",
       "\t</summary>\n",
       "\t<ol class=list-inline>\n",
       "\t\t<li>'book'</li>\n",
       "\t\t<li>'pen'</li>\n",
       "\t\t<li>'pencil_case'</li>\n",
       "\t\t<li>'textbook'</li>\n",
       "\t</ol>\n",
       "</details>"
      ],
      "text/latex": [
       "book\n",
       "\\emph{Levels}: \\begin{enumerate*}\n",
       "\\item 'book'\n",
       "\\item 'pen'\n",
       "\\item 'pencil\\_case'\n",
       "\\item 'textbook'\n",
       "\\end{enumerate*}\n"
      ],
      "text/markdown": [
       "book\n",
       "**Levels**: 1. 'book'\n",
       "2. 'pen'\n",
       "3. 'pencil_case'\n",
       "4. 'textbook'\n",
       "\n",
       "\n"
      ],
      "text/plain": [
       "[1] book\n",
       "Levels: book pen pencil_case textbook"
      ]
     },
     "metadata": {},
     "output_type": "display_data"
    }
   ],
   "source": [
    "## Select row 1 in column 2\n",
    "df[1,2]"
   ]
  },
  {
   "cell_type": "code",
   "execution_count": 26,
   "metadata": {},
   "outputs": [
    {
     "data": {
      "text/html": [
       "<table>\n",
       "<thead><tr><th scope=col>ID</th><th scope=col>items</th><th scope=col>store</th><th scope=col>price</th></tr></thead>\n",
       "<tbody>\n",
       "\t<tr><td>10   </td><td>book </td><td> TRUE</td><td>2.5  </td></tr>\n",
       "\t<tr><td>20   </td><td>pen  </td><td>FALSE</td><td>8.0  </td></tr>\n",
       "</tbody>\n",
       "</table>\n"
      ],
      "text/latex": [
       "\\begin{tabular}{r|llll}\n",
       " ID & items & store & price\\\\\n",
       "\\hline\n",
       "\t 10    & book  &  TRUE & 2.5  \\\\\n",
       "\t 20    & pen   & FALSE & 8.0  \\\\\n",
       "\\end{tabular}\n"
      ],
      "text/markdown": [
       "\n",
       "ID | items | store | price | \n",
       "|---|---|\n",
       "| 10    | book  |  TRUE | 2.5   | \n",
       "| 20    | pen   | FALSE | 8.0   | \n",
       "\n",
       "\n"
      ],
      "text/plain": [
       "  ID items store price\n",
       "1 10 book   TRUE 2.5  \n",
       "2 20 pen   FALSE 8.0  "
      ]
     },
     "metadata": {},
     "output_type": "display_data"
    }
   ],
   "source": [
    "## Select Rows 1 to 2\n",
    "df[1:2,]"
   ]
  },
  {
   "cell_type": "code",
   "execution_count": 27,
   "metadata": {},
   "outputs": [
    {
     "data": {
      "text/html": [
       "<ol class=list-inline>\n",
       "\t<li>10</li>\n",
       "\t<li>20</li>\n",
       "\t<li>30</li>\n",
       "\t<li>40</li>\n",
       "</ol>\n"
      ],
      "text/latex": [
       "\\begin{enumerate*}\n",
       "\\item 10\n",
       "\\item 20\n",
       "\\item 30\n",
       "\\item 40\n",
       "\\end{enumerate*}\n"
      ],
      "text/markdown": [
       "1. 10\n",
       "2. 20\n",
       "3. 30\n",
       "4. 40\n",
       "\n",
       "\n"
      ],
      "text/plain": [
       "[1] 10 20 30 40"
      ]
     },
     "metadata": {},
     "output_type": "display_data"
    }
   ],
   "source": [
    "## Select Columns 1\n",
    "df[,1]\n"
   ]
  },
  {
   "cell_type": "code",
   "execution_count": 28,
   "metadata": {},
   "outputs": [
    {
     "data": {
      "text/html": [
       "<table>\n",
       "<thead><tr><th scope=col>store</th><th scope=col>price</th></tr></thead>\n",
       "<tbody>\n",
       "\t<tr><td> TRUE</td><td> 2.5 </td></tr>\n",
       "\t<tr><td>FALSE</td><td> 8.0 </td></tr>\n",
       "\t<tr><td> TRUE</td><td>10.0 </td></tr>\n",
       "</tbody>\n",
       "</table>\n"
      ],
      "text/latex": [
       "\\begin{tabular}{r|ll}\n",
       " store & price\\\\\n",
       "\\hline\n",
       "\t  TRUE &  2.5 \\\\\n",
       "\t FALSE &  8.0 \\\\\n",
       "\t  TRUE & 10.0 \\\\\n",
       "\\end{tabular}\n"
      ],
      "text/markdown": [
       "\n",
       "store | price | \n",
       "|---|---|---|\n",
       "|  TRUE |  2.5  | \n",
       "| FALSE |  8.0  | \n",
       "|  TRUE | 10.0  | \n",
       "\n",
       "\n"
      ],
      "text/plain": [
       "  store price\n",
       "1  TRUE  2.5 \n",
       "2 FALSE  8.0 \n",
       "3  TRUE 10.0 "
      ]
     },
     "metadata": {},
     "output_type": "display_data"
    }
   ],
   "source": [
    "## Select Rows 1 to 3 and columns 3 to 4\n",
    "df[1:3, 3:4]"
   ]
  },
  {
   "cell_type": "markdown",
   "metadata": {},
   "source": [
    "It is also possible to select the columns with their names. For instance, the code below extracts two columns: ID and store."
   ]
  },
  {
   "cell_type": "code",
   "execution_count": 29,
   "metadata": {},
   "outputs": [
    {
     "data": {
      "text/html": [
       "<table>\n",
       "<thead><tr><th scope=col>ID</th><th scope=col>store</th></tr></thead>\n",
       "<tbody>\n",
       "\t<tr><td>10   </td><td> TRUE</td></tr>\n",
       "\t<tr><td>20   </td><td>FALSE</td></tr>\n",
       "\t<tr><td>30   </td><td> TRUE</td></tr>\n",
       "\t<tr><td>40   </td><td>FALSE</td></tr>\n",
       "</tbody>\n",
       "</table>\n"
      ],
      "text/latex": [
       "\\begin{tabular}{r|ll}\n",
       " ID & store\\\\\n",
       "\\hline\n",
       "\t 10    &  TRUE\\\\\n",
       "\t 20    & FALSE\\\\\n",
       "\t 30    &  TRUE\\\\\n",
       "\t 40    & FALSE\\\\\n",
       "\\end{tabular}\n"
      ],
      "text/markdown": [
       "\n",
       "ID | store | \n",
       "|---|---|---|---|\n",
       "| 10    |  TRUE | \n",
       "| 20    | FALSE | \n",
       "| 30    |  TRUE | \n",
       "| 40    | FALSE | \n",
       "\n",
       "\n"
      ],
      "text/plain": [
       "  ID store\n",
       "1 10  TRUE\n",
       "2 20 FALSE\n",
       "3 30  TRUE\n",
       "4 40 FALSE"
      ]
     },
     "metadata": {},
     "output_type": "display_data"
    }
   ],
   "source": [
    "# Slice with columns name\n",
    "df[, c('ID', 'store')]"
   ]
  },
  {
   "cell_type": "markdown",
   "metadata": {},
   "source": [
    "### Append a Column to Data Frame\n",
    "You can also append a column to a Data Frame. You need to use the symbol $ to append a new variable."
   ]
  },
  {
   "cell_type": "code",
   "execution_count": 30,
   "metadata": {},
   "outputs": [
    {
     "data": {
      "text/html": [
       "<table>\n",
       "<thead><tr><th scope=col>ID</th><th scope=col>items</th><th scope=col>store</th><th scope=col>price</th><th scope=col>quantity</th></tr></thead>\n",
       "<tbody>\n",
       "\t<tr><td>10         </td><td>book       </td><td> TRUE      </td><td> 2.5       </td><td>10         </td></tr>\n",
       "\t<tr><td>20         </td><td>pen        </td><td>FALSE      </td><td> 8.0       </td><td>35         </td></tr>\n",
       "\t<tr><td>30         </td><td>textbook   </td><td> TRUE      </td><td>10.0       </td><td>40         </td></tr>\n",
       "\t<tr><td>40         </td><td>pencil_case</td><td>FALSE      </td><td> 7.0       </td><td> 5         </td></tr>\n",
       "</tbody>\n",
       "</table>\n"
      ],
      "text/latex": [
       "\\begin{tabular}{r|lllll}\n",
       " ID & items & store & price & quantity\\\\\n",
       "\\hline\n",
       "\t 10          & book        &  TRUE       &  2.5        & 10         \\\\\n",
       "\t 20          & pen         & FALSE       &  8.0        & 35         \\\\\n",
       "\t 30          & textbook    &  TRUE       & 10.0        & 40         \\\\\n",
       "\t 40            & pencil\\_case & FALSE         &  7.0          &  5           \\\\\n",
       "\\end{tabular}\n"
      ],
      "text/markdown": [
       "\n",
       "ID | items | store | price | quantity | \n",
       "|---|---|---|---|\n",
       "| 10          | book        |  TRUE       |  2.5        | 10          | \n",
       "| 20          | pen         | FALSE       |  8.0        | 35          | \n",
       "| 30          | textbook    |  TRUE       | 10.0        | 40          | \n",
       "| 40          | pencil_case | FALSE       |  7.0        |  5          | \n",
       "\n",
       "\n"
      ],
      "text/plain": [
       "  ID items       store price quantity\n",
       "1 10 book         TRUE  2.5  10      \n",
       "2 20 pen         FALSE  8.0  35      \n",
       "3 30 textbook     TRUE 10.0  40      \n",
       "4 40 pencil_case FALSE  7.0   5      "
      ]
     },
     "metadata": {},
     "output_type": "display_data"
    }
   ],
   "source": [
    "# Create a new vector\n",
    "quantity <- c(10, 35, 40, 5)\n",
    "\n",
    "# Add `quantity` to the `df` data frame\n",
    "df$quantity <- quantity\n",
    "df"
   ]
  },
  {
   "cell_type": "code",
   "execution_count": 26,
   "metadata": {},
   "outputs": [],
   "source": [
    "quantity <- c(10, 35, 40,50)\n"
   ]
  },
  {
   "cell_type": "code",
   "execution_count": 27,
   "metadata": {},
   "outputs": [],
   "source": [
    "# Add `quantity` to the `df` data frame\n",
    "df$quantity <- quantity"
   ]
  },
  {
   "cell_type": "code",
   "execution_count": 29,
   "metadata": {},
   "outputs": [
    {
     "data": {
      "text/html": [
       "<ol class=list-inline>\n",
       "\t<li>10</li>\n",
       "\t<li>20</li>\n",
       "\t<li>30</li>\n",
       "\t<li>40</li>\n",
       "</ol>\n"
      ],
      "text/latex": [
       "\\begin{enumerate*}\n",
       "\\item 10\n",
       "\\item 20\n",
       "\\item 30\n",
       "\\item 40\n",
       "\\end{enumerate*}\n"
      ],
      "text/markdown": [
       "1. 10\n",
       "2. 20\n",
       "3. 30\n",
       "4. 40\n",
       "\n",
       "\n"
      ],
      "text/plain": [
       "[1] 10 20 30 40"
      ]
     },
     "metadata": {},
     "output_type": "display_data"
    }
   ],
   "source": [
    "# Select the column ID\n",
    "df$ID"
   ]
  },
  {
   "cell_type": "code",
   "execution_count": 31,
   "metadata": {},
   "outputs": [
    {
     "data": {
      "text/html": [
       "<table>\n",
       "<thead><tr><th></th><th scope=col>ID</th><th scope=col>items</th><th scope=col>store</th><th scope=col>price</th><th scope=col>quantity</th></tr></thead>\n",
       "<tbody>\n",
       "\t<tr><th scope=row>2</th><td>20         </td><td>pen        </td><td>FALSE      </td><td> 8         </td><td>35         </td></tr>\n",
       "\t<tr><th scope=row>3</th><td>30         </td><td>textbook   </td><td> TRUE      </td><td>10         </td><td>40         </td></tr>\n",
       "\t<tr><th scope=row>4</th><td>40         </td><td>pencil_case</td><td>FALSE      </td><td> 7         </td><td>50         </td></tr>\n",
       "</tbody>\n",
       "</table>\n"
      ],
      "text/latex": [
       "\\begin{tabular}{r|lllll}\n",
       "  & ID & items & store & price & quantity\\\\\n",
       "\\hline\n",
       "\t2 & 20          & pen         & FALSE       &  8          & 35         \\\\\n",
       "\t3 & 30          & textbook    &  TRUE       & 10          & 40         \\\\\n",
       "\t4 & 40            & pencil\\_case & FALSE         &  7            & 50           \\\\\n",
       "\\end{tabular}\n"
      ],
      "text/markdown": [
       "\n",
       "| <!--/--> | ID | items | store | price | quantity | \n",
       "|---|---|---|\n",
       "| 2 | 20          | pen         | FALSE       |  8          | 35          | \n",
       "| 3 | 30          | textbook    |  TRUE       | 10          | 40          | \n",
       "| 4 | 40          | pencil_case | FALSE       |  7          | 50          | \n",
       "\n",
       "\n"
      ],
      "text/plain": [
       "  ID items       store price quantity\n",
       "2 20 pen         FALSE  8    35      \n",
       "3 30 textbook     TRUE 10    40      \n",
       "4 40 pencil_case FALSE  7    50      "
      ]
     },
     "metadata": {},
     "output_type": "display_data"
    }
   ],
   "source": [
    "# Select price above 5\n",
    "subset(df, subset = price > 5)"
   ]
  },
  {
   "cell_type": "code",
   "execution_count": null,
   "metadata": {},
   "outputs": [],
   "source": []
  }
 ],
 "metadata": {
  "kernelspec": {
   "display_name": "R",
   "language": "R",
   "name": "ir"
  },
  "language_info": {
   "codemirror_mode": "r",
   "file_extension": ".r",
   "mimetype": "text/x-r-source",
   "name": "R",
   "pygments_lexer": "r",
   "version": "3.5.1"
  }
 },
 "nbformat": 4,
 "nbformat_minor": 2
}
