{
 "cells": [
  {
   "cell_type": "markdown",
   "metadata": {},
   "source": [
    "A for loop is very valuable when we need to iterate over a list of elements or a range of numbers. Loop can be used to iterate over a list, data frame, vector, matrix or any other object. The braces and square bracket a\n",
    "\n",
    "\n",
    "#### For Loop Syntax and Examples"
   ]
  },
  {
   "cell_type": "raw",
   "metadata": {},
   "source": [
    "For (i in vector) {\n",
    "    Exp\t\n",
    "}"
   ]
  },
  {
   "cell_type": "markdown",
   "metadata": {},
   "source": [
    "R will loop over all the variables in vector and do the computation written inside the exp.\n",
    "\n",
    "![](https://lh3.googleusercontent.com/--Kdi3y9OwWI/XZGinRouBfI/AAAAAAAAiOY/fPeIpNMRPWIJRYd0DNzcjXjHuSQYwXHFgCK8BGAsYHg/s0/2019-09-29.png)"
   ]
  },
  {
   "cell_type": "markdown",
   "metadata": {},
   "source": [
    "##### Example 1: \n",
    "We iterate over all the elements of a vector and print the current value."
   ]
  },
  {
   "cell_type": "code",
   "execution_count": 5,
   "metadata": {},
   "outputs": [
    {
     "name": "stdout",
     "output_type": "stream",
     "text": [
      "[1] \"Apple\"\n",
      "[1] \"Orange\"\n",
      "[1] \"Passion fruit\"\n",
      "[1] \"Banana\"\n"
     ]
    }
   ],
   "source": [
    "# Create fruit vector\n",
    "fruit <- c('Apple', 'Orange', 'Passion fruit', 'Banana')\n",
    "# Create the for statement\n",
    "for ( i in fruit){ \n",
    " print(i)\n",
    "}"
   ]
  },
  {
   "cell_type": "code",
   "execution_count": 6,
   "metadata": {},
   "outputs": [
    {
     "data": {
      "text/html": [
       "<ol class=list-inline>\n",
       "\t<li>1</li>\n",
       "\t<li>2</li>\n",
       "\t<li>3</li>\n",
       "\t<li>4</li>\n",
       "</ol>\n"
      ],
      "text/latex": [
       "\\begin{enumerate*}\n",
       "\\item 1\n",
       "\\item 2\n",
       "\\item 3\n",
       "\\item 4\n",
       "\\end{enumerate*}\n"
      ],
      "text/markdown": [
       "1. 1\n",
       "2. 2\n",
       "3. 3\n",
       "4. 4\n",
       "\n",
       "\n"
      ],
      "text/plain": [
       "[1] 1 2 3 4"
      ]
     },
     "metadata": {},
     "output_type": "display_data"
    }
   ],
   "source": [
    "seq(1, 4, by=1)"
   ]
  },
  {
   "cell_type": "code",
   "execution_count": 8,
   "metadata": {},
   "outputs": [
    {
     "name": "stdout",
     "output_type": "stream",
     "text": [
      "[1]  1  4  9 16\n"
     ]
    }
   ],
   "source": [
    "# Create an empty list\n",
    "list <- c()\n",
    "# Create a for statement to populate the list\n",
    "for (i in seq(1, 4, by=1)) {\n",
    "  list[[i]] <- i*i\n",
    "}\n",
    "print(list)"
   ]
  },
  {
   "cell_type": "code",
   "execution_count": 21,
   "metadata": {},
   "outputs": [
    {
     "name": "stdout",
     "output_type": "stream",
     "text": [
      "[1] \"Given Number is Even:\"\n",
      "[1] \"Given Number is Even:\"\n",
      "[1] \"Given Number is Even:\"\n",
      "[1] \"Given Number is Even:\"\n",
      "[1] \"Given Number is Even:\"\n",
      "[1] \"Given Number is Even:\"\n"
     ]
    }
   ],
   "source": [
    "# List of Element In a vector\n",
    "l <-c(5,2,4,2,8,9,10,25,30,23)\n",
    "\n",
    "# it is loop\n",
    "for (i in l){\n",
    "    # Condition Statement\n",
    "    if (i%%2==0){\n",
    "        print(\"Given Number is Even:\")\n",
    "    }else{\n",
    "        print(\"Given Number is Odd\")\n",
    "    }\n",
    "}"
   ]
  },
  {
   "cell_type": "markdown",
   "metadata": {},
   "source": [
    "The for loop is very valuable for machine learning tasks. After we have trained a model, we need to regularize the model to avoid over-fitting. Regularization is a very tedious task because we need to find the value that minimizes the loss function. To help us detect those values, we can make use of a for loop to iterate over a range of values and define the best candidate.\n",
    "\n",
    "### For Loop over a list\n",
    "\n",
    "    Looping over a list is just as easy and convenient as looping over a vector. Let's see an example\n",
    "\n"
   ]
  },
  {
   "cell_type": "code",
   "execution_count": 25,
   "metadata": {},
   "outputs": [
    {
     "name": "stdout",
     "output_type": "stream",
     "text": [
      "[1] \"Apple\"         \"Orange\"        \"Passion fruit\" \"Banana\"       \n",
      "[1] 10 12 15 10\n",
      "[1] FALSE\n"
     ]
    }
   ],
   "source": [
    "# Create a list with three vectors\n",
    "fruit <- list(Basket = c('Apple', 'Orange', 'Passion fruit', 'Banana'), \n",
    "Money = c(10, 12, 15,10), purchase = FALSE)\n",
    "for (p  in fruit) \n",
    "{ \n",
    "    print(p)\n",
    "}"
   ]
  },
  {
   "cell_type": "markdown",
   "metadata": {},
   "source": [
    "### For Loop over a matrix\n",
    "\n",
    "A matrix has 2-dimension, rows and columns. To iterate over a matrix, we have to define two for loop, namely one for the rows and another for the column."
   ]
  },
  {
   "cell_type": "code",
   "execution_count": 28,
   "metadata": {},
   "outputs": [
    {
     "name": "stdout",
     "output_type": "stream",
     "text": [
      "     [,1] [,2]\n",
      "[1,]    1    7\n",
      "[2,]    2    8\n",
      "[3,]    3    9\n",
      "[4,]    4   10\n",
      "[5,]    5   11\n",
      "[6,]    6   12\n",
      "[1] \"Row 1 and column 1 have values of 1\"\n",
      "[1] \"Row 1 and column 2 have values of 7\"\n",
      "[1] \"Row 2 and column 1 have values of 2\"\n",
      "[1] \"Row 2 and column 2 have values of 8\"\n",
      "[1] \"Row 3 and column 1 have values of 3\"\n",
      "[1] \"Row 3 and column 2 have values of 9\"\n",
      "[1] \"Row 4 and column 1 have values of 4\"\n",
      "[1] \"Row 4 and column 2 have values of 10\"\n",
      "[1] \"Row 5 and column 1 have values of 5\"\n",
      "[1] \"Row 5 and column 2 have values of 11\"\n",
      "[1] \"Row 6 and column 1 have values of 6\"\n",
      "[1] \"Row 6 and column 2 have values of 12\"\n"
     ]
    }
   ],
   "source": [
    "# Create a matrix\n",
    "mat <- matrix(data = seq(1, 12, by=1), nrow = 6, ncol =2)\n",
    "print(mat)\n",
    "# Create the loop with r and c to iterate over the matrix\n",
    "for (r in 1:nrow(mat))   \n",
    "    for (c in 1:ncol(mat))  \n",
    "         print(paste(\"Row\", r, \"and column\",c, \"have values of\", mat[r,c]))  "
   ]
  },
  {
   "cell_type": "code",
   "execution_count": null,
   "metadata": {},
   "outputs": [],
   "source": []
  }
 ],
 "metadata": {
  "kernelspec": {
   "display_name": "R",
   "language": "R",
   "name": "ir"
  },
  "language_info": {
   "codemirror_mode": "r",
   "file_extension": ".r",
   "mimetype": "text/x-r-source",
   "name": "R",
   "pygments_lexer": "r",
   "version": "3.5.1"
  }
 },
 "nbformat": 4,
 "nbformat_minor": 2
}
