{
 "cells": [
  {
   "cell_type": "markdown",
   "metadata": {},
   "source": [
    "`Arrays` are the R data objects which can store data in more than two dimensions. For example − If we create an array of dimension (2, 3, 4) then it creates 4 rectangular matrices each with 2 rows and 3 columns. Arrays can store only data type.\n",
    "\n",
    "An array is created using the array() function. It takes vectors as input and uses the values in the dim parameter to create an array."
   ]
  },
  {
   "cell_type": "code",
   "execution_count": 14,
   "metadata": {},
   "outputs": [
    {
     "name": "stdout",
     "output_type": "stream",
     "text": [
      ", , 1\n",
      "\n",
      "     [,1] [,2]\n",
      "[1,]    1    4\n",
      "[2,]    2    5\n",
      "[3,]    3    6\n",
      "\n",
      ", , 2\n",
      "\n",
      "     [,1] [,2]\n",
      "[1,]    7   10\n",
      "[2,]    8   11\n",
      "[3,]    9   12\n",
      "\n"
     ]
    }
   ],
   "source": [
    "Array <- array(c(1:12),dim=c(3,2,2))\n",
    "print(Array)"
   ]
  },
  {
   "cell_type": "code",
   "execution_count": 20,
   "metadata": {},
   "outputs": [
    {
     "name": "stdout",
     "output_type": "stream",
     "text": [
      ", , 1\n",
      "\n",
      "     [,1] [,2]\n",
      "[1,]    1    4\n",
      "[2,]    2    5\n",
      "[3,]    3    6\n",
      "\n",
      ", , 2\n",
      "\n",
      "     [,1] [,2]\n",
      "[1,]    7   10\n",
      "[2,]    8   11\n",
      "[3,]    9   12\n",
      "\n"
     ]
    }
   ],
   "source": [
    "Arr <-array(c(1:12),dim=c(3,2,2))\n",
    "print(Arr)"
   ]
  },
  {
   "cell_type": "code",
   "execution_count": 22,
   "metadata": {},
   "outputs": [
    {
     "name": "stdout",
     "output_type": "stream",
     "text": [
      ", , 1\n",
      "\n",
      "     [,1] [,2]\n",
      "[1,]    2    8\n",
      "[2,]    4   10\n",
      "[3,]    6   12\n",
      "\n",
      ", , 2\n",
      "\n",
      "     [,1] [,2]\n",
      "[1,]   14   20\n",
      "[2,]   16   22\n",
      "[3,]   18   24\n",
      "\n"
     ]
    }
   ],
   "source": [
    "a <- Array+Arr\n",
    "print(a)"
   ]
  },
  {
   "cell_type": "code",
   "execution_count": 1,
   "metadata": {},
   "outputs": [
    {
     "name": "stdout",
     "output_type": "stream",
     "text": [
      ", , 1\n",
      "\n",
      "     [,1] [,2]\n",
      "[1,]    5   10\n",
      "[2,]    9   11\n",
      "[3,]    3   12\n",
      "\n",
      ", , 2\n",
      "\n",
      "     [,1] [,2]\n",
      "[1,]   13    5\n",
      "[2,]   14    9\n",
      "[3,]   15    3\n",
      "\n",
      ", , 3\n",
      "\n",
      "     [,1] [,2]\n",
      "[1,]   10   13\n",
      "[2,]   11   14\n",
      "[3,]   12   15\n",
      "\n"
     ]
    }
   ],
   "source": [
    "# Create two vectors of different lengths.\n",
    "vector1 <- c(5,9,3)\n",
    "vector2 <- c(10,11,12,13,14,15)\n",
    "\n",
    "# Take these vectors as input to the array.\n",
    "result <- array(c(vector1,vector2),dim = c(3,2,3))\n",
    "print(result)"
   ]
  },
  {
   "cell_type": "markdown",
   "metadata": {},
   "source": [
    "**Naming Columns and Rows**\n",
    "\n",
    "We can give names to the rows, columns and matrices in the array by using the dimnames parameter."
   ]
  },
  {
   "cell_type": "code",
   "execution_count": 4,
   "metadata": {},
   "outputs": [
    {
     "name": "stdout",
     "output_type": "stream",
     "text": [
      ", , Matrix1\n",
      "\n",
      "     COL1 COL2 COL3\n",
      "ROW1    5   10   13\n",
      "ROW2    9   11   14\n",
      "ROW3    3   12   15\n",
      "\n",
      ", , Matrix2\n",
      "\n",
      "     COL1 COL2 COL3\n",
      "ROW1    5   10   13\n",
      "ROW2    9   11   14\n",
      "ROW3    3   12   15\n",
      "\n"
     ]
    }
   ],
   "source": [
    "# Create two vectors of different lengths.\n",
    "vector1 <- c(5,9,3)\n",
    "vector2 <- c(10,11,12,13,14,15)\n",
    "column.names <- c(\"COL1\",\"COL2\",\"COL3\")\n",
    "row.names <- c(\"ROW1\",\"ROW2\",\"ROW3\")\n",
    "matrix.names <- c(\"Matrix1\",\"Matrix2\")\n",
    "\n",
    "# Take these vectors as input to the array.\n",
    "result <- array(c(vector1,vector2),dim = c(3,3,2),dimnames = list(row.names,column.names,\n",
    "   matrix.names))\n",
    "print(result)"
   ]
  },
  {
   "cell_type": "markdown",
   "metadata": {},
   "source": [
    "**Accessing Array Elements**"
   ]
  },
  {
   "cell_type": "code",
   "execution_count": 8,
   "metadata": {},
   "outputs": [
    {
     "data": {
      "text/html": [
       "<ol class=list-inline>\n",
       "\t<li>5</li>\n",
       "\t<li>9</li>\n",
       "\t<li>3</li>\n",
       "\t<li>10</li>\n",
       "\t<li>11</li>\n",
       "\t<li>12</li>\n",
       "\t<li>13</li>\n",
       "\t<li>14</li>\n",
       "\t<li>15</li>\n",
       "\t<li>5</li>\n",
       "\t<li>9</li>\n",
       "\t<li>3</li>\n",
       "\t<li>10</li>\n",
       "\t<li>11</li>\n",
       "\t<li>12</li>\n",
       "\t<li>13</li>\n",
       "\t<li>14</li>\n",
       "\t<li>15</li>\n",
       "</ol>\n"
      ],
      "text/latex": [
       "\\begin{enumerate*}\n",
       "\\item 5\n",
       "\\item 9\n",
       "\\item 3\n",
       "\\item 10\n",
       "\\item 11\n",
       "\\item 12\n",
       "\\item 13\n",
       "\\item 14\n",
       "\\item 15\n",
       "\\item 5\n",
       "\\item 9\n",
       "\\item 3\n",
       "\\item 10\n",
       "\\item 11\n",
       "\\item 12\n",
       "\\item 13\n",
       "\\item 14\n",
       "\\item 15\n",
       "\\end{enumerate*}\n"
      ],
      "text/markdown": [
       "1. 5\n",
       "2. 9\n",
       "3. 3\n",
       "4. 10\n",
       "5. 11\n",
       "6. 12\n",
       "7. 13\n",
       "8. 14\n",
       "9. 15\n",
       "10. 5\n",
       "11. 9\n",
       "12. 3\n",
       "13. 10\n",
       "14. 11\n",
       "15. 12\n",
       "16. 13\n",
       "17. 14\n",
       "18. 15\n",
       "\n",
       "\n"
      ],
      "text/plain": [
       ", , Matrix1\n",
       "\n",
       "     COL1 COL2 COL3\n",
       "ROW1    5   10   13\n",
       "ROW2    9   11   14\n",
       "ROW3    3   12   15\n",
       "\n",
       ", , Matrix2\n",
       "\n",
       "     COL1 COL2 COL3\n",
       "ROW1    5   10   13\n",
       "ROW2    9   11   14\n",
       "ROW3    3   12   15\n"
      ]
     },
     "metadata": {},
     "output_type": "display_data"
    }
   ],
   "source": [
    "# Create two vectors of different lengths.\n",
    "vector1 <- c(5,9,3)\n",
    "vector2 <- c(10,11,12,13,14,15)\n",
    "column.names <- c(\"COL1\",\"COL2\",\"COL3\")\n",
    "row.names <- c(\"ROW1\",\"ROW2\",\"ROW3\")\n",
    "matrix.names <- c(\"Matrix1\",\"Matrix2\")\n",
    "\n",
    "# Take these vectors as input to the array.\n",
    "result <- array(c(vector1,vector2),dim = c(3,3,2),dimnames = list(row.names,\n",
    "   column.names, matrix.names))\n",
    "result"
   ]
  },
  {
   "cell_type": "code",
   "execution_count": 10,
   "metadata": {},
   "outputs": [
    {
     "name": "stdout",
     "output_type": "stream",
     "text": [
      "COL1 COL2 COL3 \n",
      "   3   12   15 \n",
      "[1] 13\n",
      "     COL1 COL2 COL3\n",
      "ROW1    5   10   13\n",
      "ROW2    9   11   14\n",
      "ROW3    3   12   15\n"
     ]
    }
   ],
   "source": [
    "# Print the third row of the second matrix of the array.\n",
    "print(result[3,,2])\n",
    "\n",
    "# Print the element in the 1st row and 3rd column of the 1st matrix.\n",
    "print(result[1,3,1])\n",
    "\n",
    "# Print the 2nd Matrix.\n",
    "print(result[,,2])"
   ]
  },
  {
   "cell_type": "markdown",
   "metadata": {},
   "source": [
    "`Manipulating Array Elements`\n",
    "As array is made up matrices in multiple dimensions, the operations on elements of array are carried out by accessing elements of the matrices."
   ]
  },
  {
   "cell_type": "code",
   "execution_count": 12,
   "metadata": {},
   "outputs": [
    {
     "name": "stdout",
     "output_type": "stream",
     "text": [
      "     [,1] [,2] [,3]\n",
      "[1,]   10   20   26\n",
      "[2,]   18   22   28\n",
      "[3,]    6   24   30\n"
     ]
    }
   ],
   "source": [
    "# Create two vectors of different lengths.\n",
    "vector1 <- c(5,9,3)\n",
    "vector2 <- c(10,11,12,13,14,15)\n",
    "\n",
    "# Take these vectors as input to the array.\n",
    "array1 <- array(c(vector1,vector2),dim = c(3,3,2))\n",
    "\n",
    "# Create two vectors of different lengths.\n",
    "vector3 <- c(9,1,0)\n",
    "vector4 <- c(6,0,11,3,14,1,2,6,9)\n",
    "array2 <- array(c(vector1,vector2),dim = c(3,3,2))\n",
    "\n",
    "# create matrices from these arrays.\n",
    "matrix1 <- array1[,,2]\n",
    "matrix2 <- array2[,,2]\n",
    "\n",
    "# Add the matrices.\n",
    "result <- matrix1+matrix2\n",
    "print(result)"
   ]
  },
  {
   "cell_type": "markdown",
   "metadata": {},
   "source": [
    "**Calculations Across Array Elements**\n",
    "\n",
    "We can do calculations across the elements in an array using the apply() function."
   ]
  },
  {
   "cell_type": "code",
   "execution_count": 15,
   "metadata": {},
   "outputs": [
    {
     "name": "stdout",
     "output_type": "stream",
     "text": [
      ", , 1\n",
      "\n",
      "     [,1] [,2] [,3]\n",
      "[1,]    5   10   13\n",
      "[2,]    9   11   14\n",
      "[3,]    3   12   15\n",
      "\n",
      ", , 2\n",
      "\n",
      "     [,1] [,2] [,3]\n",
      "[1,]    5   10   13\n",
      "[2,]    9   11   14\n",
      "[3,]    3   12   15\n",
      "\n",
      "[1] 56 68 60\n"
     ]
    }
   ],
   "source": [
    "# Create two vectors of different lengths.\n",
    "vector1 <- c(5,9,3)\n",
    "vector2 <- c(10,11,12,13,14,15)\n",
    "\n",
    "# Take these vectors as input to the array.\n",
    "new.array <- array(c(vector1,vector2),dim = c(3,3,2))\n",
    "print(new.array)\n",
    "\n",
    "# Use apply to calculate the sum of the rows across all the matrices.\n",
    "result <- apply(new.array, c(1), sum)\n",
    "print(result)"
   ]
  }
 ],
 "metadata": {
  "kernelspec": {
   "display_name": "R",
   "language": "R",
   "name": "ir"
  },
  "language_info": {
   "codemirror_mode": "r",
   "file_extension": ".r",
   "mimetype": "text/x-r-source",
   "name": "R",
   "pygments_lexer": "r",
   "version": "3.5.1"
  }
 },
 "nbformat": 4,
 "nbformat_minor": 2
}
