{
 "cells": [
  {
   "cell_type": "markdown",
   "metadata": {},
   "source": [
    "A loop is a statement that keeps running until a condition is satisfied. The syntax for a while loop is the following:"
   ]
  },
  {
   "cell_type": "raw",
   "metadata": {},
   "source": [
    "while (condition) {\n",
    "     Exp\t\n",
    "}"
   ]
  },
  {
   "cell_type": "markdown",
   "metadata": {},
   "source": [
    "![](https://lh3.googleusercontent.com/-CVhNfUjZzKk/XZGl4DuCrKI/AAAAAAAAiOk/NSh4xfJ5hq0oU_4zmAwYZNu9IURZGwAngCK8BGAsYHg/s0/2019-09-29.png)"
   ]
  },
  {
   "cell_type": "markdown",
   "metadata": {},
   "source": [
    "**Note:** Remember to write a closing condition at some point otherwise the loop will go on indefinitely.\n",
    "\n",
    "**Example 1:**\n",
    "\n",
    "Let's go through a very simple example to understand the concept of while loop. You will create a loop and after each run add 1 to the stored variable. You need to close the loop, therefore we explicitely tells R to stop looping when the variable reached 10.\n",
    "\n",
    "**Note:** If you want to see current loop value, you need to wrap the variable inside the function print()."
   ]
  },
  {
   "cell_type": "code",
   "execution_count": 1,
   "metadata": {},
   "outputs": [
    {
     "name": "stdout",
     "output_type": "stream",
     "text": [
      "This is loop number 1[1] 2\n",
      "This is loop number 2[1] 3\n",
      "This is loop number 3[1] 4\n",
      "This is loop number 4[1] 5\n",
      "This is loop number 5[1] 6\n",
      "This is loop number 6[1] 7\n",
      "This is loop number 7[1] 8\n",
      "This is loop number 8[1] 9\n",
      "This is loop number 9[1] 10\n",
      "This is loop number 10[1] 11\n"
     ]
    }
   ],
   "source": [
    "#Create a variable with value 1\n",
    "begin <- 1\n",
    "\n",
    "#Create the loop\n",
    "while (begin <= 10){\n",
    "\n",
    "#See which we are  \n",
    "cat('This is loop number',begin)\n",
    "\n",
    "#add 1 to the variable begin after each loop\n",
    "begin <- begin+1\n",
    "print(begin)\n",
    "}"
   ]
  },
  {
   "cell_type": "markdown",
   "metadata": {},
   "source": [
    "### Example 2:\n",
    "\n",
    "You bought a stock at price of 50 dollars. If the price goes below 45, we want to short it. Otherwise, we keep it in our portfolio. The price can fluctuate between -10 to +10 around 50 after each loop. You can write the code as follow:"
   ]
  },
  {
   "cell_type": "code",
   "execution_count": 2,
   "metadata": {},
   "outputs": [
    {
     "name": "stdout",
     "output_type": "stream",
     "text": [
      "[1] 2\n",
      "[1] 3\n",
      "[1] 4\n",
      "[1] 5\n",
      "[1] 6\n",
      "[1] 7\n"
     ]
    }
   ],
   "source": [
    "set.seed(123)\n",
    "# Set variable stock and price\n",
    "stock <- 50\n",
    "price <- 50\n",
    "\n",
    "# Loop variable counts the number of loops \n",
    "loop <- 1\n",
    "\n",
    "# Set the while statement\n",
    "while (price > 45){\n",
    "\n",
    "# Create a random price between 40 and 60\n",
    "price <- stock + sample(-10:10, 1)\n",
    "\n",
    "# Count the number of loop\n",
    "loop = loop +1 \n",
    "\n",
    "# Print the number of loop\n",
    "print(loop)\n",
    "}"
   ]
  },
  {
   "cell_type": "code",
   "execution_count": null,
   "metadata": {},
   "outputs": [],
   "source": [
    "cat('it took',loop,'loop before we short the price. The lowest price is',price)"
   ]
  },
  {
   "cell_type": "markdown",
   "metadata": {},
   "source": [
    "#### Pracites"
   ]
  },
  {
   "cell_type": "code",
   "execution_count": null,
   "metadata": {},
   "outputs": [],
   "source": [
    "i <- 1\n",
    "while (i < 6){\n",
    "    print(i)\n",
    "    i=i+1\n",
    "}"
   ]
  },
  {
   "cell_type": "code",
   "execution_count": null,
   "metadata": {},
   "outputs": [],
   "source": [
    "# Find the Sum of Natural Numbers \n",
    "\n",
    "num = as.integer(readline(prompt = \"Enter the Number\"))\n",
    "\n",
    "if(num <0){\n",
    "    print(\"Enter the Postive Number:\")\n",
    "}else{\n",
    "    sum = 0\n",
    "    while (num>0){\n",
    "        sum = sum + num\n",
    "        num = num-1\n",
    "    }\n",
    "    print(paste(\"The Sum is\",sum))\n",
    "\n",
    "}\n"
   ]
  },
  {
   "cell_type": "code",
   "execution_count": null,
   "metadata": {},
   "outputs": [],
   "source": [
    "# Fibonacci Sequence \n",
    "nterms = as.integer(readline(prompt = \"How Many Terms\"))\n",
    "\n",
    "n1 = 0\n",
    "n2 = 1\n",
    "\n",
    "count = 2\n",
    "\n",
    "if(nterms<=0){\n",
    "    print(\"Please Enter a Postive Number\")\n",
    "}else{\n",
    "    if(nterms == 1){\n",
    "        print(\"Fibonacci Number:\")\n",
    "        print(n1)\n",
    "        \n",
    "    }\n",
    "    else{\n",
    "        print(\"Fibonacci Sequence\")\n",
    "        print(n1)\n",
    "        print(n2)\n",
    "        while(count < nterms){\n",
    "            nth = n1 + n2\n",
    "            print(nth)\n",
    "            # Update vlaues\n",
    "            n1 = n2\n",
    "            n2 = nth\n",
    "            count= count + 1            \n",
    "        }\n",
    "    }\n",
    "}\n"
   ]
  },
  {
   "cell_type": "code",
   "execution_count": null,
   "metadata": {},
   "outputs": [],
   "source": [
    "# Initialize Sum\n",
    "sum = as.integer(readline(prompt = \"Enter Number:\")) \n",
    "\n",
    "# Find the sum of the cub of each digits\n",
    "temp = num\n",
    "while (temp > 0){\n",
    "    digit = temp %% 10\n",
    "    sum = sum +(digit^3)\n",
    "    temp = floor(temp/10)\n",
    "}\n",
    "if(num == sum){\n",
    "    print(paste(num,'is an armstrong number'))\n",
    "}else{\n",
    "    print(paste(num,'is not an armstrong number'))\n",
    "}"
   ]
  }
 ],
 "metadata": {
  "kernelspec": {
   "display_name": "R",
   "language": "R",
   "name": "ir"
  },
  "language_info": {
   "codemirror_mode": "r",
   "file_extension": ".r",
   "mimetype": "text/x-r-source",
   "name": "R",
   "pygments_lexer": "r",
   "version": "3.5.1"
  }
 },
 "nbformat": 4,
 "nbformat_minor": 2
}
