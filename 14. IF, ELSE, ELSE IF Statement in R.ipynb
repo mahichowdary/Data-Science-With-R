{
 "cells": [
  {
   "cell_type": "markdown",
   "metadata": {},
   "source": [
    "### if Else\n",
    "\n",
    "The if else statement\n",
    "\n",
    "An if-else statement is a great tool for the developer trying to return an output based on a condition. In R, the syntax is:"
   ]
  },
  {
   "cell_type": "raw",
   "metadata": {},
   "source": [
    "if (condition) {\n",
    "    Expr1 \n",
    "} else {\n",
    "    Expr2\n",
    "}"
   ]
  },
  {
   "cell_type": "markdown",
   "metadata": {},
   "source": [
    "![](https://lh3.googleusercontent.com/-Nrd4a_ERly0/XZGdSVF6dBI/AAAAAAAAiOM/e5tKvNrsiDMV5YNfD8oTTWhpPmqdsofAwCK8BGAsYHg/s0/2019-09-29.png)\n",
    "\n",
    "\n",
    "\n",
    "We want to examine whether a variable stored as \"quantity\" is above 20. If quantity is greater than 20, the code will print \"You sold a lot!\" otherwise Not enough for today."
   ]
  },
  {
   "cell_type": "code",
   "execution_count": 6,
   "metadata": {},
   "outputs": [
    {
     "name": "stdout",
     "output_type": "stream",
     "text": [
      "[1] \"You sold a lot!\"\n"
     ]
    }
   ],
   "source": [
    "# Create vector quantity\n",
    "quantity <-  25\n",
    "\n",
    "# Set the is-else statement\n",
    "if (quantity > 20) \n",
    "{\n",
    "    print('You sold a lot!')\n",
    "} else \n",
    "{\n",
    "    print('Not enough for today')  \n",
    "}"
   ]
  },
  {
   "cell_type": "code",
   "execution_count": 26,
   "metadata": {},
   "outputs": [
    {
     "name": "stdout",
     "output_type": "stream",
     "text": [
      "Please Enter the Number:10\n",
      "[1] \"Given Number is Even\"\n"
     ]
    }
   ],
   "source": [
    "a <- readline(prompt = \"Please Enter the Number:\")\n",
    "a <- as.integer(a) \n",
    "if (a%%2==0){\n",
    "    print(\"Given Number is Even\",a)\n",
    "}else{\n",
    "    print(\"Given Number is Odd\",a)\n",
    "}"
   ]
  },
  {
   "cell_type": "markdown",
   "metadata": {},
   "source": [
    "###### Give Number is Postive Or nagative Number "
   ]
  },
  {
   "cell_type": "code",
   "execution_count": 49,
   "metadata": {},
   "outputs": [
    {
     "name": "stdout",
     "output_type": "stream",
     "text": [
      "Please Enter the Number:-2\n",
      "[1] \"Given Number is Nagative Number\"\n"
     ]
    }
   ],
   "source": [
    "a <- readline(prompt = \"Please Enter the Number:\")\n",
    "x <- as.integer(a) \n",
    "if (x>0){\n",
    "    print(\"Given Number is Postive Number\")\n",
    "}else{\n",
    "    print(\"Given Number is Nagative Number\")\n",
    "}"
   ]
  },
  {
   "cell_type": "markdown",
   "metadata": {},
   "source": [
    "#### The else if statement\n",
    "\n",
    "\n",
    "We can further customize the control level with the else if statement. With elif, you can add as many conditions as we want. The syntax is:"
   ]
  },
  {
   "cell_type": "raw",
   "metadata": {},
   "source": [
    "if (condition1) { \n",
    "    expr1\n",
    "    } else if (condition2) {\n",
    "    expr2\n",
    "    } else if  (condition3) {\n",
    "    expr3\n",
    "    } else {\n",
    "    expr4\n",
    "}"
   ]
  },
  {
   "cell_type": "code",
   "execution_count": 47,
   "metadata": {},
   "outputs": [
    {
     "name": "stdout",
     "output_type": "stream",
     "text": [
      "Please Enter the Number:10\n",
      "[1] \"Given Number is Postive Number\"\n"
     ]
    }
   ],
   "source": [
    "a <- readline(prompt = \"Please Enter the Number:\")\n",
    "x <- as.integer(a) \n",
    "if (x>0){\n",
    "    print(\"Given Number is Postive Number\",x)\n",
    "}else if (x<0){\n",
    "    print(\"Given Number is Nagative Number\",x)\n",
    "}else{\n",
    "    print(\"Given Number is Zero\",x)\n",
    "}"
   ]
  },
  {
   "cell_type": "code",
   "execution_count": 53,
   "metadata": {},
   "outputs": [
    {
     "data": {
      "text/html": [
       "<ol class=list-inline>\n",
       "\t<li>'odd'</li>\n",
       "\t<li>'odd'</li>\n",
       "\t<li>'Even'</li>\n",
       "\t<li>'odd'</li>\n",
       "\t<li>'odd'</li>\n",
       "\t<li>'Even'</li>\n",
       "\t<li>'odd'</li>\n",
       "\t<li>'odd'</li>\n",
       "</ol>\n"
      ],
      "text/latex": [
       "\\begin{enumerate*}\n",
       "\\item 'odd'\n",
       "\\item 'odd'\n",
       "\\item 'Even'\n",
       "\\item 'odd'\n",
       "\\item 'odd'\n",
       "\\item 'Even'\n",
       "\\item 'odd'\n",
       "\\item 'odd'\n",
       "\\end{enumerate*}\n"
      ],
      "text/markdown": [
       "1. 'odd'\n",
       "2. 'odd'\n",
       "3. 'Even'\n",
       "4. 'odd'\n",
       "5. 'odd'\n",
       "6. 'Even'\n",
       "7. 'odd'\n",
       "8. 'odd'\n",
       "\n",
       "\n"
      ],
      "text/plain": [
       "[1] \"odd\"  \"odd\"  \"Even\" \"odd\"  \"odd\"  \"Even\" \"odd\"  \"odd\" "
      ]
     },
     "metadata": {},
     "output_type": "display_data"
    }
   ],
   "source": [
    "a = c(5,7,2,9,25,28,27,3)\n",
    "ifelse(a %% 2 ==0 ,\"Even\",\"odd\")"
   ]
  },
  {
   "cell_type": "code",
   "execution_count": 55,
   "metadata": {},
   "outputs": [
    {
     "name": "stdout",
     "output_type": "stream",
     "text": [
      "[1] \"Team A Wins\"\n"
     ]
    }
   ],
   "source": [
    "team_A <- 3\n",
    "team_B <- 1\n",
    "if (team_A > team_B){\n",
    "    print(\"Team A Wins\")\n",
    "}else{\n",
    "    print(\"Team B Wins\")\n",
    "}"
   ]
  },
  {
   "cell_type": "markdown",
   "metadata": {},
   "source": [
    "#### Example 2:\n",
    "\n",
    "VAT has different rate according to the product purchased. Imagine we have three different kind of products with different VAT applied:\n",
    "\n",
    "|Categories|\tProducts|\tVAT|\n",
    "|----------|------------|----------|\n",
    "|A|\tBook, magazine, newspaper, etc..|\t8%|\n",
    "|B|\tVegetable, meat, beverage, etc..|\t10%|\n",
    "|C|\tTee-shirt, jean, pant, etc..\t|20%|"
   ]
  },
  {
   "cell_type": "code",
   "execution_count": 65,
   "metadata": {},
   "outputs": [
    {
     "name": "stdout",
     "output_type": "stream",
     "text": [
      "Please Enter your Category:c\n",
      "A vat rate of 20% is applied. The total price is 12"
     ]
    }
   ],
   "source": [
    "category <- readline(prompt = \"Please Enter your Category:\")\n",
    "price <- 10\n",
    "if (category =='A'){\n",
    "  cat('A vat rate of 8% is applied.','The total price is',price *1.08)  \n",
    "} else if (category =='B'){\n",
    "    cat('A vat rate of 10% is applied.','The total price is',price *1.10)  \n",
    "} else {\n",
    "    cat('A vat rate of 20% is applied.','The total price is',price *1.20)  \n",
    "}"
   ]
  }
 ],
 "metadata": {
  "kernelspec": {
   "display_name": "R",
   "language": "R",
   "name": "ir"
  },
  "language_info": {
   "codemirror_mode": "r",
   "file_extension": ".r",
   "mimetype": "text/x-r-source",
   "name": "R",
   "pygments_lexer": "r",
   "version": "3.5.1"
  }
 },
 "nbformat": 4,
 "nbformat_minor": 2
}
