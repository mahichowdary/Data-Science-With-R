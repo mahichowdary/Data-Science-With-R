{
 "cells": [
  {
   "cell_type": "markdown",
   "metadata": {},
   "source": [
    "# Data Loading\n",
    "* Data Formats\n",
    "* Load Data Via R Studio Menu Items\n",
    "    * Text File or Web URL\n",
    "    * Selecting Data Format\n",
    "    * After the Data is Loaded\n",
    "* Loading Data in R\n",
    "    * read.table()\n",
    "    * More read.table() Parameters\n",
    "    * Assigning the Data Set to a Variable\n",
    "    * read.csv()\n",
    "    * read.delim()\n",
    "    \n",
    "R is a programming language designed for data analysis. Therefore loading data is one of the core features of R.\n",
    "\n",
    "R contains a set of functions that can be used to load data sets into memory. You can also load data into memory using R Studio - via the menu items and toolbars. In this tutorial I will cover both methods.\n",
    "\n",
    "Which method of loading data in R you should use depends on what you are doing. If you are just playing around with some data, using the R Studio menu items might be fine. But if you are writing an R program that needs be repeated for many different data sets, it might be better to write the loading of data as R program statements.\n",
    "\n",
    "#### Data Formats\n",
    "R can load data in two different formats:\n",
    "\n",
    "To export data to the hard drive, you need the file path and an extension. First of all, the path is the location where the data will be stored. In this tutorial, you will see how to store data on:\n",
    "\n",
    "1. csv\n",
    "2. xlsx\n",
    "3. RDS\n",
    "4. SAS\n",
    "5. SPSS\n",
    "6. STATA"
   ]
  },
  {
   "cell_type": "code",
   "execution_count": 2,
   "metadata": {},
   "outputs": [],
   "source": [
    "require(readxl)"
   ]
  },
  {
   "cell_type": "code",
   "execution_count": 4,
   "metadata": {},
   "outputs": [],
   "source": [
    "library(readxl)"
   ]
  },
  {
   "cell_type": "code",
   "execution_count": 6,
   "metadata": {},
   "outputs": [
    {
     "data": {
      "text/html": [
       "<ol class=list-inline>\n",
       "\t<li>'clippy.xls'</li>\n",
       "\t<li>'clippy.xlsx'</li>\n",
       "\t<li>'datasets.xls'</li>\n",
       "\t<li>'datasets.xlsx'</li>\n",
       "\t<li>'deaths.xls'</li>\n",
       "\t<li>'deaths.xlsx'</li>\n",
       "\t<li>'geometry.xls'</li>\n",
       "\t<li>'geometry.xlsx'</li>\n",
       "\t<li>'type-me.xls'</li>\n",
       "\t<li>'type-me.xlsx'</li>\n",
       "</ol>\n"
      ],
      "text/latex": [
       "\\begin{enumerate*}\n",
       "\\item 'clippy.xls'\n",
       "\\item 'clippy.xlsx'\n",
       "\\item 'datasets.xls'\n",
       "\\item 'datasets.xlsx'\n",
       "\\item 'deaths.xls'\n",
       "\\item 'deaths.xlsx'\n",
       "\\item 'geometry.xls'\n",
       "\\item 'geometry.xlsx'\n",
       "\\item 'type-me.xls'\n",
       "\\item 'type-me.xlsx'\n",
       "\\end{enumerate*}\n"
      ],
      "text/markdown": [
       "1. 'clippy.xls'\n",
       "2. 'clippy.xlsx'\n",
       "3. 'datasets.xls'\n",
       "4. 'datasets.xlsx'\n",
       "5. 'deaths.xls'\n",
       "6. 'deaths.xlsx'\n",
       "7. 'geometry.xls'\n",
       "8. 'geometry.xlsx'\n",
       "9. 'type-me.xls'\n",
       "10. 'type-me.xlsx'\n",
       "\n",
       "\n"
      ],
      "text/plain": [
       " [1] \"clippy.xls\"    \"clippy.xlsx\"   \"datasets.xls\"  \"datasets.xlsx\"\n",
       " [5] \"deaths.xls\"    \"deaths.xlsx\"   \"geometry.xls\"  \"geometry.xlsx\"\n",
       " [9] \"type-me.xls\"   \"type-me.xlsx\" "
      ]
     },
     "metadata": {},
     "output_type": "display_data"
    }
   ],
   "source": [
    "readxl_example()"
   ]
  },
  {
   "cell_type": "code",
   "execution_count": 17,
   "metadata": {},
   "outputs": [
    {
     "data": {
      "text/html": [
       "'C:/Users/reddy/.conda/envs/Data_Science_With_R/Lib/R/library/readxl/extdata/geometry.xls'"
      ],
      "text/latex": [
       "'C:/Users/reddy/.conda/envs/Data\\_Science\\_With\\_R/Lib/R/library/readxl/extdata/geometry.xls'"
      ],
      "text/markdown": [
       "'C:/Users/reddy/.conda/envs/Data_Science_With_R/Lib/R/library/readxl/extdata/geometry.xls'"
      ],
      "text/plain": [
       "[1] \"C:/Users/reddy/.conda/envs/Data_Science_With_R/Lib/R/library/readxl/extdata/geometry.xls\""
      ]
     },
     "metadata": {},
     "output_type": "display_data"
    }
   ],
   "source": [
    "readxl_example(\"geometry.xls\")"
   ]
  },
  {
   "cell_type": "code",
   "execution_count": 26,
   "metadata": {
    "collapsed": true
   },
   "outputs": [
    {
     "data": {
      "text/html": [
       "<table>\n",
       "<thead><tr><th scope=col>Sepal.Length</th><th scope=col>Sepal.Width</th><th scope=col>Petal.Length</th><th scope=col>Petal.Width</th><th scope=col>Species</th></tr></thead>\n",
       "<tbody>\n",
       "\t<tr><td>5.1   </td><td>3.5   </td><td>1.4   </td><td>0.2   </td><td>setosa</td></tr>\n",
       "\t<tr><td>4.9   </td><td>3.0   </td><td>1.4   </td><td>0.2   </td><td>setosa</td></tr>\n",
       "\t<tr><td>4.7   </td><td>3.2   </td><td>1.3   </td><td>0.2   </td><td>setosa</td></tr>\n",
       "\t<tr><td>4.6   </td><td>3.1   </td><td>1.5   </td><td>0.2   </td><td>setosa</td></tr>\n",
       "\t<tr><td>5.0   </td><td>3.6   </td><td>1.4   </td><td>0.2   </td><td>setosa</td></tr>\n",
       "\t<tr><td>5.4   </td><td>3.9   </td><td>1.7   </td><td>0.4   </td><td>setosa</td></tr>\n",
       "\t<tr><td>4.6   </td><td>3.4   </td><td>1.4   </td><td>0.3   </td><td>setosa</td></tr>\n",
       "\t<tr><td>5.0   </td><td>3.4   </td><td>1.5   </td><td>0.2   </td><td>setosa</td></tr>\n",
       "\t<tr><td>4.4   </td><td>2.9   </td><td>1.4   </td><td>0.2   </td><td>setosa</td></tr>\n",
       "\t<tr><td>4.9   </td><td>3.1   </td><td>1.5   </td><td>0.1   </td><td>setosa</td></tr>\n",
       "\t<tr><td>5.4   </td><td>3.7   </td><td>1.5   </td><td>0.2   </td><td>setosa</td></tr>\n",
       "\t<tr><td>4.8   </td><td>3.4   </td><td>1.6   </td><td>0.2   </td><td>setosa</td></tr>\n",
       "\t<tr><td>4.8   </td><td>3.0   </td><td>1.4   </td><td>0.1   </td><td>setosa</td></tr>\n",
       "\t<tr><td>4.3   </td><td>3.0   </td><td>1.1   </td><td>0.1   </td><td>setosa</td></tr>\n",
       "\t<tr><td>5.8   </td><td>4.0   </td><td>1.2   </td><td>0.2   </td><td>setosa</td></tr>\n",
       "\t<tr><td>5.7   </td><td>4.4   </td><td>1.5   </td><td>0.4   </td><td>setosa</td></tr>\n",
       "\t<tr><td>5.4   </td><td>3.9   </td><td>1.3   </td><td>0.4   </td><td>setosa</td></tr>\n",
       "\t<tr><td>5.1   </td><td>3.5   </td><td>1.4   </td><td>0.3   </td><td>setosa</td></tr>\n",
       "\t<tr><td>5.7   </td><td>3.8   </td><td>1.7   </td><td>0.3   </td><td>setosa</td></tr>\n",
       "\t<tr><td>5.1   </td><td>3.8   </td><td>1.5   </td><td>0.3   </td><td>setosa</td></tr>\n",
       "\t<tr><td>5.4   </td><td>3.4   </td><td>1.7   </td><td>0.2   </td><td>setosa</td></tr>\n",
       "\t<tr><td>5.1   </td><td>3.7   </td><td>1.5   </td><td>0.4   </td><td>setosa</td></tr>\n",
       "\t<tr><td>4.6   </td><td>3.6   </td><td>1.0   </td><td>0.2   </td><td>setosa</td></tr>\n",
       "\t<tr><td>5.1   </td><td>3.3   </td><td>1.7   </td><td>0.5   </td><td>setosa</td></tr>\n",
       "\t<tr><td>4.8   </td><td>3.4   </td><td>1.9   </td><td>0.2   </td><td>setosa</td></tr>\n",
       "\t<tr><td>5.0   </td><td>3.0   </td><td>1.6   </td><td>0.2   </td><td>setosa</td></tr>\n",
       "\t<tr><td>5.0   </td><td>3.4   </td><td>1.6   </td><td>0.4   </td><td>setosa</td></tr>\n",
       "\t<tr><td>5.2   </td><td>3.5   </td><td>1.5   </td><td>0.2   </td><td>setosa</td></tr>\n",
       "\t<tr><td>5.2   </td><td>3.4   </td><td>1.4   </td><td>0.2   </td><td>setosa</td></tr>\n",
       "\t<tr><td>4.7   </td><td>3.2   </td><td>1.6   </td><td>0.2   </td><td>setosa</td></tr>\n",
       "\t<tr><td>...</td><td>...</td><td>...</td><td>...</td><td>...</td></tr>\n",
       "\t<tr><td>6.9      </td><td>3.2      </td><td>5.7      </td><td>2.3      </td><td>virginica</td></tr>\n",
       "\t<tr><td>5.6      </td><td>2.8      </td><td>4.9      </td><td>2.0      </td><td>virginica</td></tr>\n",
       "\t<tr><td>7.7      </td><td>2.8      </td><td>6.7      </td><td>2.0      </td><td>virginica</td></tr>\n",
       "\t<tr><td>6.3      </td><td>2.7      </td><td>4.9      </td><td>1.8      </td><td>virginica</td></tr>\n",
       "\t<tr><td>6.7      </td><td>3.3      </td><td>5.7      </td><td>2.1      </td><td>virginica</td></tr>\n",
       "\t<tr><td>7.2      </td><td>3.2      </td><td>6.0      </td><td>1.8      </td><td>virginica</td></tr>\n",
       "\t<tr><td>6.2      </td><td>2.8      </td><td>4.8      </td><td>1.8      </td><td>virginica</td></tr>\n",
       "\t<tr><td>6.1      </td><td>3.0      </td><td>4.9      </td><td>1.8      </td><td>virginica</td></tr>\n",
       "\t<tr><td>6.4      </td><td>2.8      </td><td>5.6      </td><td>2.1      </td><td>virginica</td></tr>\n",
       "\t<tr><td>7.2      </td><td>3.0      </td><td>5.8      </td><td>1.6      </td><td>virginica</td></tr>\n",
       "\t<tr><td>7.4      </td><td>2.8      </td><td>6.1      </td><td>1.9      </td><td>virginica</td></tr>\n",
       "\t<tr><td>7.9      </td><td>3.8      </td><td>6.4      </td><td>2.0      </td><td>virginica</td></tr>\n",
       "\t<tr><td>6.4      </td><td>2.8      </td><td>5.6      </td><td>2.2      </td><td>virginica</td></tr>\n",
       "\t<tr><td>6.3      </td><td>2.8      </td><td>5.1      </td><td>1.5      </td><td>virginica</td></tr>\n",
       "\t<tr><td>6.1      </td><td>2.6      </td><td>5.6      </td><td>1.4      </td><td>virginica</td></tr>\n",
       "\t<tr><td>7.7      </td><td>3.0      </td><td>6.1      </td><td>2.3      </td><td>virginica</td></tr>\n",
       "\t<tr><td>6.3      </td><td>3.4      </td><td>5.6      </td><td>2.4      </td><td>virginica</td></tr>\n",
       "\t<tr><td>6.4      </td><td>3.1      </td><td>5.5      </td><td>1.8      </td><td>virginica</td></tr>\n",
       "\t<tr><td>6.0      </td><td>3.0      </td><td>4.8      </td><td>1.8      </td><td>virginica</td></tr>\n",
       "\t<tr><td>6.9      </td><td>3.1      </td><td>5.4      </td><td>2.1      </td><td>virginica</td></tr>\n",
       "\t<tr><td>6.7      </td><td>3.1      </td><td>5.6      </td><td>2.4      </td><td>virginica</td></tr>\n",
       "\t<tr><td>6.9      </td><td>3.1      </td><td>5.1      </td><td>2.3      </td><td>virginica</td></tr>\n",
       "\t<tr><td>5.8      </td><td>2.7      </td><td>5.1      </td><td>1.9      </td><td>virginica</td></tr>\n",
       "\t<tr><td>6.8      </td><td>3.2      </td><td>5.9      </td><td>2.3      </td><td>virginica</td></tr>\n",
       "\t<tr><td>6.7      </td><td>3.3      </td><td>5.7      </td><td>2.5      </td><td>virginica</td></tr>\n",
       "\t<tr><td>6.7      </td><td>3.0      </td><td>5.2      </td><td>2.3      </td><td>virginica</td></tr>\n",
       "\t<tr><td>6.3      </td><td>2.5      </td><td>5.0      </td><td>1.9      </td><td>virginica</td></tr>\n",
       "\t<tr><td>6.5      </td><td>3.0      </td><td>5.2      </td><td>2.0      </td><td>virginica</td></tr>\n",
       "\t<tr><td>6.2      </td><td>3.4      </td><td>5.4      </td><td>2.3      </td><td>virginica</td></tr>\n",
       "\t<tr><td>5.9      </td><td>3.0      </td><td>5.1      </td><td>1.8      </td><td>virginica</td></tr>\n",
       "</tbody>\n",
       "</table>\n"
      ],
      "text/latex": [
       "\\begin{tabular}{r|lllll}\n",
       " Sepal.Length & Sepal.Width & Petal.Length & Petal.Width & Species\\\\\n",
       "\\hline\n",
       "\t 5.1    & 3.5    & 1.4    & 0.2    & setosa\\\\\n",
       "\t 4.9    & 3.0    & 1.4    & 0.2    & setosa\\\\\n",
       "\t 4.7    & 3.2    & 1.3    & 0.2    & setosa\\\\\n",
       "\t 4.6    & 3.1    & 1.5    & 0.2    & setosa\\\\\n",
       "\t 5.0    & 3.6    & 1.4    & 0.2    & setosa\\\\\n",
       "\t 5.4    & 3.9    & 1.7    & 0.4    & setosa\\\\\n",
       "\t 4.6    & 3.4    & 1.4    & 0.3    & setosa\\\\\n",
       "\t 5.0    & 3.4    & 1.5    & 0.2    & setosa\\\\\n",
       "\t 4.4    & 2.9    & 1.4    & 0.2    & setosa\\\\\n",
       "\t 4.9    & 3.1    & 1.5    & 0.1    & setosa\\\\\n",
       "\t 5.4    & 3.7    & 1.5    & 0.2    & setosa\\\\\n",
       "\t 4.8    & 3.4    & 1.6    & 0.2    & setosa\\\\\n",
       "\t 4.8    & 3.0    & 1.4    & 0.1    & setosa\\\\\n",
       "\t 4.3    & 3.0    & 1.1    & 0.1    & setosa\\\\\n",
       "\t 5.8    & 4.0    & 1.2    & 0.2    & setosa\\\\\n",
       "\t 5.7    & 4.4    & 1.5    & 0.4    & setosa\\\\\n",
       "\t 5.4    & 3.9    & 1.3    & 0.4    & setosa\\\\\n",
       "\t 5.1    & 3.5    & 1.4    & 0.3    & setosa\\\\\n",
       "\t 5.7    & 3.8    & 1.7    & 0.3    & setosa\\\\\n",
       "\t 5.1    & 3.8    & 1.5    & 0.3    & setosa\\\\\n",
       "\t 5.4    & 3.4    & 1.7    & 0.2    & setosa\\\\\n",
       "\t 5.1    & 3.7    & 1.5    & 0.4    & setosa\\\\\n",
       "\t 4.6    & 3.6    & 1.0    & 0.2    & setosa\\\\\n",
       "\t 5.1    & 3.3    & 1.7    & 0.5    & setosa\\\\\n",
       "\t 4.8    & 3.4    & 1.9    & 0.2    & setosa\\\\\n",
       "\t 5.0    & 3.0    & 1.6    & 0.2    & setosa\\\\\n",
       "\t 5.0    & 3.4    & 1.6    & 0.4    & setosa\\\\\n",
       "\t 5.2    & 3.5    & 1.5    & 0.2    & setosa\\\\\n",
       "\t 5.2    & 3.4    & 1.4    & 0.2    & setosa\\\\\n",
       "\t 4.7    & 3.2    & 1.6    & 0.2    & setosa\\\\\n",
       "\t ... & ... & ... & ... & ...\\\\\n",
       "\t 6.9       & 3.2       & 5.7       & 2.3       & virginica\\\\\n",
       "\t 5.6       & 2.8       & 4.9       & 2.0       & virginica\\\\\n",
       "\t 7.7       & 2.8       & 6.7       & 2.0       & virginica\\\\\n",
       "\t 6.3       & 2.7       & 4.9       & 1.8       & virginica\\\\\n",
       "\t 6.7       & 3.3       & 5.7       & 2.1       & virginica\\\\\n",
       "\t 7.2       & 3.2       & 6.0       & 1.8       & virginica\\\\\n",
       "\t 6.2       & 2.8       & 4.8       & 1.8       & virginica\\\\\n",
       "\t 6.1       & 3.0       & 4.9       & 1.8       & virginica\\\\\n",
       "\t 6.4       & 2.8       & 5.6       & 2.1       & virginica\\\\\n",
       "\t 7.2       & 3.0       & 5.8       & 1.6       & virginica\\\\\n",
       "\t 7.4       & 2.8       & 6.1       & 1.9       & virginica\\\\\n",
       "\t 7.9       & 3.8       & 6.4       & 2.0       & virginica\\\\\n",
       "\t 6.4       & 2.8       & 5.6       & 2.2       & virginica\\\\\n",
       "\t 6.3       & 2.8       & 5.1       & 1.5       & virginica\\\\\n",
       "\t 6.1       & 2.6       & 5.6       & 1.4       & virginica\\\\\n",
       "\t 7.7       & 3.0       & 6.1       & 2.3       & virginica\\\\\n",
       "\t 6.3       & 3.4       & 5.6       & 2.4       & virginica\\\\\n",
       "\t 6.4       & 3.1       & 5.5       & 1.8       & virginica\\\\\n",
       "\t 6.0       & 3.0       & 4.8       & 1.8       & virginica\\\\\n",
       "\t 6.9       & 3.1       & 5.4       & 2.1       & virginica\\\\\n",
       "\t 6.7       & 3.1       & 5.6       & 2.4       & virginica\\\\\n",
       "\t 6.9       & 3.1       & 5.1       & 2.3       & virginica\\\\\n",
       "\t 5.8       & 2.7       & 5.1       & 1.9       & virginica\\\\\n",
       "\t 6.8       & 3.2       & 5.9       & 2.3       & virginica\\\\\n",
       "\t 6.7       & 3.3       & 5.7       & 2.5       & virginica\\\\\n",
       "\t 6.7       & 3.0       & 5.2       & 2.3       & virginica\\\\\n",
       "\t 6.3       & 2.5       & 5.0       & 1.9       & virginica\\\\\n",
       "\t 6.5       & 3.0       & 5.2       & 2.0       & virginica\\\\\n",
       "\t 6.2       & 3.4       & 5.4       & 2.3       & virginica\\\\\n",
       "\t 5.9       & 3.0       & 5.1       & 1.8       & virginica\\\\\n",
       "\\end{tabular}\n"
      ],
      "text/markdown": [
       "\n",
       "| Sepal.Length | Sepal.Width | Petal.Length | Petal.Width | Species |\n",
       "|---|---|---|---|---|\n",
       "| 5.1    | 3.5    | 1.4    | 0.2    | setosa |\n",
       "| 4.9    | 3.0    | 1.4    | 0.2    | setosa |\n",
       "| 4.7    | 3.2    | 1.3    | 0.2    | setosa |\n",
       "| 4.6    | 3.1    | 1.5    | 0.2    | setosa |\n",
       "| 5.0    | 3.6    | 1.4    | 0.2    | setosa |\n",
       "| 5.4    | 3.9    | 1.7    | 0.4    | setosa |\n",
       "| 4.6    | 3.4    | 1.4    | 0.3    | setosa |\n",
       "| 5.0    | 3.4    | 1.5    | 0.2    | setosa |\n",
       "| 4.4    | 2.9    | 1.4    | 0.2    | setosa |\n",
       "| 4.9    | 3.1    | 1.5    | 0.1    | setosa |\n",
       "| 5.4    | 3.7    | 1.5    | 0.2    | setosa |\n",
       "| 4.8    | 3.4    | 1.6    | 0.2    | setosa |\n",
       "| 4.8    | 3.0    | 1.4    | 0.1    | setosa |\n",
       "| 4.3    | 3.0    | 1.1    | 0.1    | setosa |\n",
       "| 5.8    | 4.0    | 1.2    | 0.2    | setosa |\n",
       "| 5.7    | 4.4    | 1.5    | 0.4    | setosa |\n",
       "| 5.4    | 3.9    | 1.3    | 0.4    | setosa |\n",
       "| 5.1    | 3.5    | 1.4    | 0.3    | setosa |\n",
       "| 5.7    | 3.8    | 1.7    | 0.3    | setosa |\n",
       "| 5.1    | 3.8    | 1.5    | 0.3    | setosa |\n",
       "| 5.4    | 3.4    | 1.7    | 0.2    | setosa |\n",
       "| 5.1    | 3.7    | 1.5    | 0.4    | setosa |\n",
       "| 4.6    | 3.6    | 1.0    | 0.2    | setosa |\n",
       "| 5.1    | 3.3    | 1.7    | 0.5    | setosa |\n",
       "| 4.8    | 3.4    | 1.9    | 0.2    | setosa |\n",
       "| 5.0    | 3.0    | 1.6    | 0.2    | setosa |\n",
       "| 5.0    | 3.4    | 1.6    | 0.4    | setosa |\n",
       "| 5.2    | 3.5    | 1.5    | 0.2    | setosa |\n",
       "| 5.2    | 3.4    | 1.4    | 0.2    | setosa |\n",
       "| 4.7    | 3.2    | 1.6    | 0.2    | setosa |\n",
       "| ... | ... | ... | ... | ... |\n",
       "| 6.9       | 3.2       | 5.7       | 2.3       | virginica |\n",
       "| 5.6       | 2.8       | 4.9       | 2.0       | virginica |\n",
       "| 7.7       | 2.8       | 6.7       | 2.0       | virginica |\n",
       "| 6.3       | 2.7       | 4.9       | 1.8       | virginica |\n",
       "| 6.7       | 3.3       | 5.7       | 2.1       | virginica |\n",
       "| 7.2       | 3.2       | 6.0       | 1.8       | virginica |\n",
       "| 6.2       | 2.8       | 4.8       | 1.8       | virginica |\n",
       "| 6.1       | 3.0       | 4.9       | 1.8       | virginica |\n",
       "| 6.4       | 2.8       | 5.6       | 2.1       | virginica |\n",
       "| 7.2       | 3.0       | 5.8       | 1.6       | virginica |\n",
       "| 7.4       | 2.8       | 6.1       | 1.9       | virginica |\n",
       "| 7.9       | 3.8       | 6.4       | 2.0       | virginica |\n",
       "| 6.4       | 2.8       | 5.6       | 2.2       | virginica |\n",
       "| 6.3       | 2.8       | 5.1       | 1.5       | virginica |\n",
       "| 6.1       | 2.6       | 5.6       | 1.4       | virginica |\n",
       "| 7.7       | 3.0       | 6.1       | 2.3       | virginica |\n",
       "| 6.3       | 3.4       | 5.6       | 2.4       | virginica |\n",
       "| 6.4       | 3.1       | 5.5       | 1.8       | virginica |\n",
       "| 6.0       | 3.0       | 4.8       | 1.8       | virginica |\n",
       "| 6.9       | 3.1       | 5.4       | 2.1       | virginica |\n",
       "| 6.7       | 3.1       | 5.6       | 2.4       | virginica |\n",
       "| 6.9       | 3.1       | 5.1       | 2.3       | virginica |\n",
       "| 5.8       | 2.7       | 5.1       | 1.9       | virginica |\n",
       "| 6.8       | 3.2       | 5.9       | 2.3       | virginica |\n",
       "| 6.7       | 3.3       | 5.7       | 2.5       | virginica |\n",
       "| 6.7       | 3.0       | 5.2       | 2.3       | virginica |\n",
       "| 6.3       | 2.5       | 5.0       | 1.9       | virginica |\n",
       "| 6.5       | 3.0       | 5.2       | 2.0       | virginica |\n",
       "| 6.2       | 3.4       | 5.4       | 2.3       | virginica |\n",
       "| 5.9       | 3.0       | 5.1       | 1.8       | virginica |\n",
       "\n"
      ],
      "text/plain": [
       "    Sepal.Length Sepal.Width Petal.Length Petal.Width Species  \n",
       "1   5.1          3.5         1.4          0.2         setosa   \n",
       "2   4.9          3.0         1.4          0.2         setosa   \n",
       "3   4.7          3.2         1.3          0.2         setosa   \n",
       "4   4.6          3.1         1.5          0.2         setosa   \n",
       "5   5.0          3.6         1.4          0.2         setosa   \n",
       "6   5.4          3.9         1.7          0.4         setosa   \n",
       "7   4.6          3.4         1.4          0.3         setosa   \n",
       "8   5.0          3.4         1.5          0.2         setosa   \n",
       "9   4.4          2.9         1.4          0.2         setosa   \n",
       "10  4.9          3.1         1.5          0.1         setosa   \n",
       "11  5.4          3.7         1.5          0.2         setosa   \n",
       "12  4.8          3.4         1.6          0.2         setosa   \n",
       "13  4.8          3.0         1.4          0.1         setosa   \n",
       "14  4.3          3.0         1.1          0.1         setosa   \n",
       "15  5.8          4.0         1.2          0.2         setosa   \n",
       "16  5.7          4.4         1.5          0.4         setosa   \n",
       "17  5.4          3.9         1.3          0.4         setosa   \n",
       "18  5.1          3.5         1.4          0.3         setosa   \n",
       "19  5.7          3.8         1.7          0.3         setosa   \n",
       "20  5.1          3.8         1.5          0.3         setosa   \n",
       "21  5.4          3.4         1.7          0.2         setosa   \n",
       "22  5.1          3.7         1.5          0.4         setosa   \n",
       "23  4.6          3.6         1.0          0.2         setosa   \n",
       "24  5.1          3.3         1.7          0.5         setosa   \n",
       "25  4.8          3.4         1.9          0.2         setosa   \n",
       "26  5.0          3.0         1.6          0.2         setosa   \n",
       "27  5.0          3.4         1.6          0.4         setosa   \n",
       "28  5.2          3.5         1.5          0.2         setosa   \n",
       "29  5.2          3.4         1.4          0.2         setosa   \n",
       "30  4.7          3.2         1.6          0.2         setosa   \n",
       "... ...          ...         ...          ...         ...      \n",
       "121 6.9          3.2         5.7          2.3         virginica\n",
       "122 5.6          2.8         4.9          2.0         virginica\n",
       "123 7.7          2.8         6.7          2.0         virginica\n",
       "124 6.3          2.7         4.9          1.8         virginica\n",
       "125 6.7          3.3         5.7          2.1         virginica\n",
       "126 7.2          3.2         6.0          1.8         virginica\n",
       "127 6.2          2.8         4.8          1.8         virginica\n",
       "128 6.1          3.0         4.9          1.8         virginica\n",
       "129 6.4          2.8         5.6          2.1         virginica\n",
       "130 7.2          3.0         5.8          1.6         virginica\n",
       "131 7.4          2.8         6.1          1.9         virginica\n",
       "132 7.9          3.8         6.4          2.0         virginica\n",
       "133 6.4          2.8         5.6          2.2         virginica\n",
       "134 6.3          2.8         5.1          1.5         virginica\n",
       "135 6.1          2.6         5.6          1.4         virginica\n",
       "136 7.7          3.0         6.1          2.3         virginica\n",
       "137 6.3          3.4         5.6          2.4         virginica\n",
       "138 6.4          3.1         5.5          1.8         virginica\n",
       "139 6.0          3.0         4.8          1.8         virginica\n",
       "140 6.9          3.1         5.4          2.1         virginica\n",
       "141 6.7          3.1         5.6          2.4         virginica\n",
       "142 6.9          3.1         5.1          2.3         virginica\n",
       "143 5.8          2.7         5.1          1.9         virginica\n",
       "144 6.8          3.2         5.9          2.3         virginica\n",
       "145 6.7          3.3         5.7          2.5         virginica\n",
       "146 6.7          3.0         5.2          2.3         virginica\n",
       "147 6.3          2.5         5.0          1.9         virginica\n",
       "148 6.5          3.0         5.2          2.0         virginica\n",
       "149 6.2          3.4         5.4          2.3         virginica\n",
       "150 5.9          3.0         5.1          1.8         virginica"
      ]
     },
     "metadata": {},
     "output_type": "display_data"
    }
   ],
   "source": [
    "Data <- readxl_example(\"datasets.xlsx\")\n",
    "df <-read_excel(Data)\n",
    "df"
   ]
  },
  {
   "cell_type": "code",
   "execution_count": 22,
   "metadata": {},
   "outputs": [
    {
     "data": {
      "text/html": [
       "<table>\n",
       "<thead><tr><th scope=col>Sepal.Length</th><th scope=col>Sepal.Width</th><th scope=col>Petal.Length</th><th scope=col>Petal.Width</th><th scope=col>Species</th></tr></thead>\n",
       "<tbody>\n",
       "\t<tr><td>5.1   </td><td>3.5   </td><td>1.4   </td><td>0.2   </td><td>setosa</td></tr>\n",
       "\t<tr><td>4.9   </td><td>3.0   </td><td>1.4   </td><td>0.2   </td><td>setosa</td></tr>\n",
       "\t<tr><td>4.7   </td><td>3.2   </td><td>1.3   </td><td>0.2   </td><td>setosa</td></tr>\n",
       "\t<tr><td>4.6   </td><td>3.1   </td><td>1.5   </td><td>0.2   </td><td>setosa</td></tr>\n",
       "\t<tr><td>5.0   </td><td>3.6   </td><td>1.4   </td><td>0.2   </td><td>setosa</td></tr>\n",
       "\t<tr><td>5.4   </td><td>3.9   </td><td>1.7   </td><td>0.4   </td><td>setosa</td></tr>\n",
       "</tbody>\n",
       "</table>\n"
      ],
      "text/latex": [
       "\\begin{tabular}{r|lllll}\n",
       " Sepal.Length & Sepal.Width & Petal.Length & Petal.Width & Species\\\\\n",
       "\\hline\n",
       "\t 5.1    & 3.5    & 1.4    & 0.2    & setosa\\\\\n",
       "\t 4.9    & 3.0    & 1.4    & 0.2    & setosa\\\\\n",
       "\t 4.7    & 3.2    & 1.3    & 0.2    & setosa\\\\\n",
       "\t 4.6    & 3.1    & 1.5    & 0.2    & setosa\\\\\n",
       "\t 5.0    & 3.6    & 1.4    & 0.2    & setosa\\\\\n",
       "\t 5.4    & 3.9    & 1.7    & 0.4    & setosa\\\\\n",
       "\\end{tabular}\n"
      ],
      "text/markdown": [
       "\n",
       "| Sepal.Length | Sepal.Width | Petal.Length | Petal.Width | Species |\n",
       "|---|---|---|---|---|\n",
       "| 5.1    | 3.5    | 1.4    | 0.2    | setosa |\n",
       "| 4.9    | 3.0    | 1.4    | 0.2    | setosa |\n",
       "| 4.7    | 3.2    | 1.3    | 0.2    | setosa |\n",
       "| 4.6    | 3.1    | 1.5    | 0.2    | setosa |\n",
       "| 5.0    | 3.6    | 1.4    | 0.2    | setosa |\n",
       "| 5.4    | 3.9    | 1.7    | 0.4    | setosa |\n",
       "\n"
      ],
      "text/plain": [
       "  Sepal.Length Sepal.Width Petal.Length Petal.Width Species\n",
       "1 5.1          3.5         1.4          0.2         setosa \n",
       "2 4.9          3.0         1.4          0.2         setosa \n",
       "3 4.7          3.2         1.3          0.2         setosa \n",
       "4 4.6          3.1         1.5          0.2         setosa \n",
       "5 5.0          3.6         1.4          0.2         setosa \n",
       "6 5.4          3.9         1.7          0.4         setosa "
      ]
     },
     "metadata": {},
     "output_type": "display_data"
    }
   ],
   "source": [
    "head(df)"
   ]
  },
  {
   "cell_type": "code",
   "execution_count": 24,
   "metadata": {},
   "outputs": [
    {
     "data": {
      "text/html": [
       "<table>\n",
       "<thead><tr><th scope=col>Sepal.Length</th><th scope=col>Sepal.Width</th><th scope=col>Petal.Length</th><th scope=col>Petal.Width</th><th scope=col>Species</th></tr></thead>\n",
       "<tbody>\n",
       "\t<tr><td>6.7      </td><td>3.3      </td><td>5.7      </td><td>2.5      </td><td>virginica</td></tr>\n",
       "\t<tr><td>6.7      </td><td>3.0      </td><td>5.2      </td><td>2.3      </td><td>virginica</td></tr>\n",
       "\t<tr><td>6.3      </td><td>2.5      </td><td>5.0      </td><td>1.9      </td><td>virginica</td></tr>\n",
       "\t<tr><td>6.5      </td><td>3.0      </td><td>5.2      </td><td>2.0      </td><td>virginica</td></tr>\n",
       "\t<tr><td>6.2      </td><td>3.4      </td><td>5.4      </td><td>2.3      </td><td>virginica</td></tr>\n",
       "\t<tr><td>5.9      </td><td>3.0      </td><td>5.1      </td><td>1.8      </td><td>virginica</td></tr>\n",
       "</tbody>\n",
       "</table>\n"
      ],
      "text/latex": [
       "\\begin{tabular}{r|lllll}\n",
       " Sepal.Length & Sepal.Width & Petal.Length & Petal.Width & Species\\\\\n",
       "\\hline\n",
       "\t 6.7       & 3.3       & 5.7       & 2.5       & virginica\\\\\n",
       "\t 6.7       & 3.0       & 5.2       & 2.3       & virginica\\\\\n",
       "\t 6.3       & 2.5       & 5.0       & 1.9       & virginica\\\\\n",
       "\t 6.5       & 3.0       & 5.2       & 2.0       & virginica\\\\\n",
       "\t 6.2       & 3.4       & 5.4       & 2.3       & virginica\\\\\n",
       "\t 5.9       & 3.0       & 5.1       & 1.8       & virginica\\\\\n",
       "\\end{tabular}\n"
      ],
      "text/markdown": [
       "\n",
       "| Sepal.Length | Sepal.Width | Petal.Length | Petal.Width | Species |\n",
       "|---|---|---|---|---|\n",
       "| 6.7       | 3.3       | 5.7       | 2.5       | virginica |\n",
       "| 6.7       | 3.0       | 5.2       | 2.3       | virginica |\n",
       "| 6.3       | 2.5       | 5.0       | 1.9       | virginica |\n",
       "| 6.5       | 3.0       | 5.2       | 2.0       | virginica |\n",
       "| 6.2       | 3.4       | 5.4       | 2.3       | virginica |\n",
       "| 5.9       | 3.0       | 5.1       | 1.8       | virginica |\n",
       "\n"
      ],
      "text/plain": [
       "  Sepal.Length Sepal.Width Petal.Length Petal.Width Species  \n",
       "1 6.7          3.3         5.7          2.5         virginica\n",
       "2 6.7          3.0         5.2          2.3         virginica\n",
       "3 6.3          2.5         5.0          1.9         virginica\n",
       "4 6.5          3.0         5.2          2.0         virginica\n",
       "5 6.2          3.4         5.4          2.3         virginica\n",
       "6 5.9          3.0         5.1          1.8         virginica"
      ]
     },
     "metadata": {},
     "output_type": "display_data"
    }
   ],
   "source": [
    "tail(df)"
   ]
  },
  {
   "cell_type": "code",
   "execution_count": 27,
   "metadata": {},
   "outputs": [
    {
     "data": {
      "text/plain": [
       "  Sepal.Length    Sepal.Width     Petal.Length    Petal.Width   \n",
       " Min.   :4.300   Min.   :2.000   Min.   :1.000   Min.   :0.100  \n",
       " 1st Qu.:5.100   1st Qu.:2.800   1st Qu.:1.600   1st Qu.:0.300  \n",
       " Median :5.800   Median :3.000   Median :4.350   Median :1.300  \n",
       " Mean   :5.843   Mean   :3.057   Mean   :3.758   Mean   :1.199  \n",
       " 3rd Qu.:6.400   3rd Qu.:3.300   3rd Qu.:5.100   3rd Qu.:1.800  \n",
       " Max.   :7.900   Max.   :4.400   Max.   :6.900   Max.   :2.500  \n",
       "   Species         \n",
       " Length:150        \n",
       " Class :character  \n",
       " Mode  :character  \n",
       "                   \n",
       "                   \n",
       "                   "
      ]
     },
     "metadata": {},
     "output_type": "display_data"
    }
   ],
   "source": [
    "summary(df)"
   ]
  },
  {
   "cell_type": "code",
   "execution_count": 30,
   "metadata": {},
   "outputs": [
    {
     "data": {
      "text/html": [
       "<ol class=list-inline>\n",
       "\t<li>'iris'</li>\n",
       "\t<li>'mtcars'</li>\n",
       "\t<li>'chickwts'</li>\n",
       "\t<li>'quakes'</li>\n",
       "</ol>\n"
      ],
      "text/latex": [
       "\\begin{enumerate*}\n",
       "\\item 'iris'\n",
       "\\item 'mtcars'\n",
       "\\item 'chickwts'\n",
       "\\item 'quakes'\n",
       "\\end{enumerate*}\n"
      ],
      "text/markdown": [
       "1. 'iris'\n",
       "2. 'mtcars'\n",
       "3. 'chickwts'\n",
       "4. 'quakes'\n",
       "\n",
       "\n"
      ],
      "text/plain": [
       "[1] \"iris\"     \"mtcars\"   \"chickwts\" \"quakes\"  "
      ]
     },
     "metadata": {},
     "output_type": "display_data"
    }
   ],
   "source": [
    "excel_sheets(Data)"
   ]
  },
  {
   "cell_type": "code",
   "execution_count": 73,
   "metadata": {},
   "outputs": [
    {
     "data": {
      "text/html": [
       "<table>\n",
       "<thead><tr><th scope=col>mpg</th><th scope=col>cyl</th><th scope=col>disp</th><th scope=col>hp</th><th scope=col>drat</th><th scope=col>wt</th><th scope=col>qsec</th><th scope=col>vs</th><th scope=col>am</th><th scope=col>gear</th><th scope=col>carb</th></tr></thead>\n",
       "<tbody>\n",
       "\t<tr><td>21.0 </td><td>6    </td><td>160  </td><td>110  </td><td>3.90 </td><td>2.620</td><td>16.46</td><td>0    </td><td>1    </td><td>4    </td><td>4    </td></tr>\n",
       "\t<tr><td>21.0 </td><td>6    </td><td>160  </td><td>110  </td><td>3.90 </td><td>2.875</td><td>17.02</td><td>0    </td><td>1    </td><td>4    </td><td>4    </td></tr>\n",
       "\t<tr><td>22.8 </td><td>4    </td><td>108  </td><td> 93  </td><td>3.85 </td><td>2.320</td><td>18.61</td><td>1    </td><td>1    </td><td>4    </td><td>1    </td></tr>\n",
       "\t<tr><td>21.4 </td><td>6    </td><td>258  </td><td>110  </td><td>3.08 </td><td>3.215</td><td>19.44</td><td>1    </td><td>0    </td><td>3    </td><td>1    </td></tr>\n",
       "\t<tr><td>18.7 </td><td>8    </td><td>360  </td><td>175  </td><td>3.15 </td><td>3.440</td><td>17.02</td><td>0    </td><td>0    </td><td>3    </td><td>2    </td></tr>\n",
       "\t<tr><td>18.1 </td><td>6    </td><td>225  </td><td>105  </td><td>2.76 </td><td>3.460</td><td>20.22</td><td>1    </td><td>0    </td><td>3    </td><td>1    </td></tr>\n",
       "</tbody>\n",
       "</table>\n"
      ],
      "text/latex": [
       "\\begin{tabular}{r|lllllllllll}\n",
       " mpg & cyl & disp & hp & drat & wt & qsec & vs & am & gear & carb\\\\\n",
       "\\hline\n",
       "\t 21.0  & 6     & 160   & 110   & 3.90  & 2.620 & 16.46 & 0     & 1     & 4     & 4    \\\\\n",
       "\t 21.0  & 6     & 160   & 110   & 3.90  & 2.875 & 17.02 & 0     & 1     & 4     & 4    \\\\\n",
       "\t 22.8  & 4     & 108   &  93   & 3.85  & 2.320 & 18.61 & 1     & 1     & 4     & 1    \\\\\n",
       "\t 21.4  & 6     & 258   & 110   & 3.08  & 3.215 & 19.44 & 1     & 0     & 3     & 1    \\\\\n",
       "\t 18.7  & 8     & 360   & 175   & 3.15  & 3.440 & 17.02 & 0     & 0     & 3     & 2    \\\\\n",
       "\t 18.1  & 6     & 225   & 105   & 2.76  & 3.460 & 20.22 & 1     & 0     & 3     & 1    \\\\\n",
       "\\end{tabular}\n"
      ],
      "text/markdown": [
       "\n",
       "| mpg | cyl | disp | hp | drat | wt | qsec | vs | am | gear | carb |\n",
       "|---|---|---|---|---|---|---|---|---|---|---|\n",
       "| 21.0  | 6     | 160   | 110   | 3.90  | 2.620 | 16.46 | 0     | 1     | 4     | 4     |\n",
       "| 21.0  | 6     | 160   | 110   | 3.90  | 2.875 | 17.02 | 0     | 1     | 4     | 4     |\n",
       "| 22.8  | 4     | 108   |  93   | 3.85  | 2.320 | 18.61 | 1     | 1     | 4     | 1     |\n",
       "| 21.4  | 6     | 258   | 110   | 3.08  | 3.215 | 19.44 | 1     | 0     | 3     | 1     |\n",
       "| 18.7  | 8     | 360   | 175   | 3.15  | 3.440 | 17.02 | 0     | 0     | 3     | 2     |\n",
       "| 18.1  | 6     | 225   | 105   | 2.76  | 3.460 | 20.22 | 1     | 0     | 3     | 1     |\n",
       "\n"
      ],
      "text/plain": [
       "  mpg  cyl disp hp  drat wt    qsec  vs am gear carb\n",
       "1 21.0 6   160  110 3.90 2.620 16.46 0  1  4    4   \n",
       "2 21.0 6   160  110 3.90 2.875 17.02 0  1  4    4   \n",
       "3 22.8 4   108   93 3.85 2.320 18.61 1  1  4    1   \n",
       "4 21.4 6   258  110 3.08 3.215 19.44 1  0  3    1   \n",
       "5 18.7 8   360  175 3.15 3.440 17.02 0  0  3    2   \n",
       "6 18.1 6   225  105 2.76 3.460 20.22 1  0  3    1   "
      ]
     },
     "metadata": {},
     "output_type": "display_data"
    }
   ],
   "source": [
    "Dataset <-readxl_example(\"datasets.xlsx\")\n",
    "Quakes <-read_excel(Dataset, sheet = \"mtcars\")\n",
    "Q <- read_excel(Dataset,sheet = 2)\n",
    "head(Q)"
   ]
  },
  {
   "cell_type": "code",
   "execution_count": 74,
   "metadata": {},
   "outputs": [
    {
     "data": {
      "image/png": "[encoded data removed]",
      "text/plain": [
       "plot without title"
      ]
     },
     "metadata": {},
     "output_type": "display_data"
    }
   ],
   "source": [
    "plot(Q$cyl,Q$carb)"
   ]
  },
  {
   "cell_type": "code",
   "execution_count": 39,
   "metadata": {},
   "outputs": [
    {
     "data": {
      "text/html": [
       "<table>\n",
       "<thead><tr><th scope=col>mpg</th><th scope=col>cyl</th><th scope=col>disp</th><th scope=col>hp</th><th scope=col>drat</th><th scope=col>wt</th><th scope=col>qsec</th><th scope=col>vs</th><th scope=col>am</th><th scope=col>gear</th><th scope=col>carb</th></tr></thead>\n",
       "<tbody>\n",
       "\t<tr><td>26.0 </td><td>4    </td><td>120.3</td><td> 91  </td><td>4.43 </td><td>2.140</td><td>16.7 </td><td>0    </td><td>1    </td><td>5    </td><td>2    </td></tr>\n",
       "\t<tr><td>30.4 </td><td>4    </td><td> 95.1</td><td>113  </td><td>3.77 </td><td>1.513</td><td>16.9 </td><td>1    </td><td>1    </td><td>5    </td><td>2    </td></tr>\n",
       "\t<tr><td>15.8 </td><td>8    </td><td>351.0</td><td>264  </td><td>4.22 </td><td>3.170</td><td>14.5 </td><td>0    </td><td>1    </td><td>5    </td><td>4    </td></tr>\n",
       "\t<tr><td>19.7 </td><td>6    </td><td>145.0</td><td>175  </td><td>3.62 </td><td>2.770</td><td>15.5 </td><td>0    </td><td>1    </td><td>5    </td><td>6    </td></tr>\n",
       "\t<tr><td>15.0 </td><td>8    </td><td>301.0</td><td>335  </td><td>3.54 </td><td>3.570</td><td>14.6 </td><td>0    </td><td>1    </td><td>5    </td><td>8    </td></tr>\n",
       "\t<tr><td>21.4 </td><td>4    </td><td>121.0</td><td>109  </td><td>4.11 </td><td>2.780</td><td>18.6 </td><td>1    </td><td>1    </td><td>4    </td><td>2    </td></tr>\n",
       "</tbody>\n",
       "</table>\n"
      ],
      "text/latex": [
       "\\begin{tabular}{r|lllllllllll}\n",
       " mpg & cyl & disp & hp & drat & wt & qsec & vs & am & gear & carb\\\\\n",
       "\\hline\n",
       "\t 26.0  & 4     & 120.3 &  91   & 4.43  & 2.140 & 16.7  & 0     & 1     & 5     & 2    \\\\\n",
       "\t 30.4  & 4     &  95.1 & 113   & 3.77  & 1.513 & 16.9  & 1     & 1     & 5     & 2    \\\\\n",
       "\t 15.8  & 8     & 351.0 & 264   & 4.22  & 3.170 & 14.5  & 0     & 1     & 5     & 4    \\\\\n",
       "\t 19.7  & 6     & 145.0 & 175   & 3.62  & 2.770 & 15.5  & 0     & 1     & 5     & 6    \\\\\n",
       "\t 15.0  & 8     & 301.0 & 335   & 3.54  & 3.570 & 14.6  & 0     & 1     & 5     & 8    \\\\\n",
       "\t 21.4  & 4     & 121.0 & 109   & 4.11  & 2.780 & 18.6  & 1     & 1     & 4     & 2    \\\\\n",
       "\\end{tabular}\n"
      ],
      "text/markdown": [
       "\n",
       "| mpg | cyl | disp | hp | drat | wt | qsec | vs | am | gear | carb |\n",
       "|---|---|---|---|---|---|---|---|---|---|---|\n",
       "| 26.0  | 4     | 120.3 |  91   | 4.43  | 2.140 | 16.7  | 0     | 1     | 5     | 2     |\n",
       "| 30.4  | 4     |  95.1 | 113   | 3.77  | 1.513 | 16.9  | 1     | 1     | 5     | 2     |\n",
       "| 15.8  | 8     | 351.0 | 264   | 4.22  | 3.170 | 14.5  | 0     | 1     | 5     | 4     |\n",
       "| 19.7  | 6     | 145.0 | 175   | 3.62  | 2.770 | 15.5  | 0     | 1     | 5     | 6     |\n",
       "| 15.0  | 8     | 301.0 | 335   | 3.54  | 3.570 | 14.6  | 0     | 1     | 5     | 8     |\n",
       "| 21.4  | 4     | 121.0 | 109   | 4.11  | 2.780 | 18.6  | 1     | 1     | 4     | 2     |\n",
       "\n"
      ],
      "text/plain": [
       "  mpg  cyl disp  hp  drat wt    qsec vs am gear carb\n",
       "1 26.0 4   120.3  91 4.43 2.140 16.7 0  1  5    2   \n",
       "2 30.4 4    95.1 113 3.77 1.513 16.9 1  1  5    2   \n",
       "3 15.8 8   351.0 264 4.22 3.170 14.5 0  1  5    4   \n",
       "4 19.7 6   145.0 175 3.62 2.770 15.5 0  1  5    6   \n",
       "5 15.0 8   301.0 335 3.54 3.570 14.6 0  1  5    8   \n",
       "6 21.4 4   121.0 109 4.11 2.780 18.6 1  1  4    2   "
      ]
     },
     "metadata": {},
     "output_type": "display_data"
    }
   ],
   "source": [
    "tail(Q)"
   ]
  },
  {
   "cell_type": "code",
   "execution_count": 43,
   "metadata": {},
   "outputs": [
    {
     "data": {
      "text/html": [
       "<table>\n",
       "<thead><tr><th scope=col>Sepal.Length</th><th scope=col>Sepal.Width</th><th scope=col>Petal.Length</th><th scope=col>Petal.Width</th><th scope=col>Species</th></tr></thead>\n",
       "<tbody>\n",
       "\t<tr><td>5.1   </td><td>3.5   </td><td>1.4   </td><td>0.2   </td><td>setosa</td></tr>\n",
       "\t<tr><td>4.9   </td><td>3.0   </td><td>1.4   </td><td>0.2   </td><td>setosa</td></tr>\n",
       "\t<tr><td>4.7   </td><td>3.2   </td><td>1.3   </td><td>0.2   </td><td>setosa</td></tr>\n",
       "\t<tr><td>4.6   </td><td>3.1   </td><td>1.5   </td><td>0.2   </td><td>setosa</td></tr>\n",
       "\t<tr><td>5.0   </td><td>3.6   </td><td>1.4   </td><td>0.2   </td><td>setosa</td></tr>\n",
       "</tbody>\n",
       "</table>\n"
      ],
      "text/latex": [
       "\\begin{tabular}{r|lllll}\n",
       " Sepal.Length & Sepal.Width & Petal.Length & Petal.Width & Species\\\\\n",
       "\\hline\n",
       "\t 5.1    & 3.5    & 1.4    & 0.2    & setosa\\\\\n",
       "\t 4.9    & 3.0    & 1.4    & 0.2    & setosa\\\\\n",
       "\t 4.7    & 3.2    & 1.3    & 0.2    & setosa\\\\\n",
       "\t 4.6    & 3.1    & 1.5    & 0.2    & setosa\\\\\n",
       "\t 5.0    & 3.6    & 1.4    & 0.2    & setosa\\\\\n",
       "\\end{tabular}\n"
      ],
      "text/markdown": [
       "\n",
       "| Sepal.Length | Sepal.Width | Petal.Length | Petal.Width | Species |\n",
       "|---|---|---|---|---|\n",
       "| 5.1    | 3.5    | 1.4    | 0.2    | setosa |\n",
       "| 4.9    | 3.0    | 1.4    | 0.2    | setosa |\n",
       "| 4.7    | 3.2    | 1.3    | 0.2    | setosa |\n",
       "| 4.6    | 3.1    | 1.5    | 0.2    | setosa |\n",
       "| 5.0    | 3.6    | 1.4    | 0.2    | setosa |\n",
       "\n"
      ],
      "text/plain": [
       "  Sepal.Length Sepal.Width Petal.Length Petal.Width Species\n",
       "1 5.1          3.5         1.4          0.2         setosa \n",
       "2 4.9          3.0         1.4          0.2         setosa \n",
       "3 4.7          3.2         1.3          0.2         setosa \n",
       "4 4.6          3.1         1.5          0.2         setosa \n",
       "5 5.0          3.6         1.4          0.2         setosa "
      ]
     },
     "metadata": {},
     "output_type": "display_data"
    }
   ],
   "source": [
    "iris <- read_excel(Data, n_max = 5,col_names = TRUE)\n",
    "iris"
   ]
  },
  {
   "cell_type": "code",
   "execution_count": 71,
   "metadata": {
    "collapsed": true
   },
   "outputs": [
    {
     "data": {
      "image/png": "[encoded data removed]",
      "text/plain": [
       "Plot with title \"Plot of X vs Y\""
      ]
     },
     "metadata": {},
     "output_type": "display_data"
    }
   ],
   "source": [
    "x=iris$Sepal.Length\n",
    "y=iris$Petal.Length\n",
    "#plot(x,y)\n",
    "plot(x,y,xlab=\"this is the x-axis\",ylab=\"this is the y-axis\",main=\"Plot of X vs Y\")"
   ]
  },
  {
   "cell_type": "code",
   "execution_count": 75,
   "metadata": {},
   "outputs": [
    {
     "data": {
      "image/png": "[encoded data removed]",
      "text/plain": [
       "plot without title"
      ]
     },
     "metadata": {},
     "output_type": "display_data"
    }
   ],
   "source": [
    "plot(iris$Sepal.Width,iris$Petal.Width)"
   ]
  },
  {
   "cell_type": "code",
   "execution_count": 77,
   "metadata": {},
   "outputs": [
    {
     "data": {
      "text/html": [
       "<table>\n",
       "<thead><tr><th scope=col>MODELYEAR</th><th scope=col>MAKE</th><th scope=col>MODEL</th><th scope=col>VEHICLECLASS</th><th scope=col>ENGINESIZE</th><th scope=col>CYLINDERS</th><th scope=col>TRANSMISSION</th><th scope=col>FUELTYPE</th><th scope=col>FUELCONSUMPTION_CITY</th><th scope=col>FUELCONSUMPTION_HWY</th><th scope=col>FUELCONSUMPTION_COMB</th><th scope=col>FUELCONSUMPTION_COMB_MPG</th><th scope=col>CO2EMISSIONS</th></tr></thead>\n",
       "<tbody>\n",
       "\t<tr><td>2014       </td><td>ACURA      </td><td>ILX        </td><td>COMPACT    </td><td>2.0        </td><td>4          </td><td>AS5        </td><td>Z          </td><td> 9.9       </td><td>6.7        </td><td> 8.5       </td><td>33         </td><td>196        </td></tr>\n",
       "\t<tr><td>2014       </td><td>ACURA      </td><td>ILX        </td><td>COMPACT    </td><td>2.4        </td><td>4          </td><td>M6         </td><td>Z          </td><td>11.2       </td><td>7.7        </td><td> 9.6       </td><td>29         </td><td>221        </td></tr>\n",
       "\t<tr><td>2014       </td><td>ACURA      </td><td>ILX HYBRID </td><td>COMPACT    </td><td>1.5        </td><td>4          </td><td>AV7        </td><td>Z          </td><td> 6.0       </td><td>5.8        </td><td> 5.9       </td><td>48         </td><td>136        </td></tr>\n",
       "\t<tr><td>2014       </td><td>ACURA      </td><td>MDX 4WD    </td><td>SUV - SMALL</td><td>3.5        </td><td>6          </td><td>AS6        </td><td>Z          </td><td>12.7       </td><td>9.1        </td><td>11.1       </td><td>25         </td><td>255        </td></tr>\n",
       "\t<tr><td>2014       </td><td>ACURA      </td><td>RDX AWD    </td><td>SUV - SMALL</td><td>3.5        </td><td>6          </td><td>AS6        </td><td>Z          </td><td>12.1       </td><td>8.7        </td><td>10.6       </td><td>27         </td><td>244        </td></tr>\n",
       "\t<tr><td>2014       </td><td>ACURA      </td><td>RLX        </td><td>MID-SIZE   </td><td>3.5        </td><td>6          </td><td>AS6        </td><td>Z          </td><td>11.9       </td><td>7.7        </td><td>10.0       </td><td>28         </td><td>230        </td></tr>\n",
       "</tbody>\n",
       "</table>\n"
      ],
      "text/latex": [
       "\\begin{tabular}{r|lllllllllllll}\n",
       " MODELYEAR & MAKE & MODEL & VEHICLECLASS & ENGINESIZE & CYLINDERS & TRANSMISSION & FUELTYPE & FUELCONSUMPTION\\_CITY & FUELCONSUMPTION\\_HWY & FUELCONSUMPTION\\_COMB & FUELCONSUMPTION\\_COMB\\_MPG & CO2EMISSIONS\\\\\n",
       "\\hline\n",
       "\t 2014        & ACURA       & ILX         & COMPACT     & 2.0         & 4           & AS5         & Z           &  9.9        & 6.7         &  8.5        & 33          & 196        \\\\\n",
       "\t 2014        & ACURA       & ILX         & COMPACT     & 2.4         & 4           & M6          & Z           & 11.2        & 7.7         &  9.6        & 29          & 221        \\\\\n",
       "\t 2014        & ACURA       & ILX HYBRID  & COMPACT     & 1.5         & 4           & AV7         & Z           &  6.0        & 5.8         &  5.9        & 48          & 136        \\\\\n",
       "\t 2014        & ACURA       & MDX 4WD     & SUV - SMALL & 3.5         & 6           & AS6         & Z           & 12.7        & 9.1         & 11.1        & 25          & 255        \\\\\n",
       "\t 2014        & ACURA       & RDX AWD     & SUV - SMALL & 3.5         & 6           & AS6         & Z           & 12.1        & 8.7         & 10.6        & 27          & 244        \\\\\n",
       "\t 2014        & ACURA       & RLX         & MID-SIZE    & 3.5         & 6           & AS6         & Z           & 11.9        & 7.7         & 10.0        & 28          & 230        \\\\\n",
       "\\end{tabular}\n"
      ],
      "text/markdown": [
       "\n",
       "| MODELYEAR | MAKE | MODEL | VEHICLECLASS | ENGINESIZE | CYLINDERS | TRANSMISSION | FUELTYPE | FUELCONSUMPTION_CITY | FUELCONSUMPTION_HWY | FUELCONSUMPTION_COMB | FUELCONSUMPTION_COMB_MPG | CO2EMISSIONS |\n",
       "|---|---|---|---|---|---|---|---|---|---|---|---|---|\n",
       "| 2014        | ACURA       | ILX         | COMPACT     | 2.0         | 4           | AS5         | Z           |  9.9        | 6.7         |  8.5        | 33          | 196         |\n",
       "| 2014        | ACURA       | ILX         | COMPACT     | 2.4         | 4           | M6          | Z           | 11.2        | 7.7         |  9.6        | 29          | 221         |\n",
       "| 2014        | ACURA       | ILX HYBRID  | COMPACT     | 1.5         | 4           | AV7         | Z           |  6.0        | 5.8         |  5.9        | 48          | 136         |\n",
       "| 2014        | ACURA       | MDX 4WD     | SUV - SMALL | 3.5         | 6           | AS6         | Z           | 12.7        | 9.1         | 11.1        | 25          | 255         |\n",
       "| 2014        | ACURA       | RDX AWD     | SUV - SMALL | 3.5         | 6           | AS6         | Z           | 12.1        | 8.7         | 10.6        | 27          | 244         |\n",
       "| 2014        | ACURA       | RLX         | MID-SIZE    | 3.5         | 6           | AS6         | Z           | 11.9        | 7.7         | 10.0        | 28          | 230         |\n",
       "\n"
      ],
      "text/plain": [
       "  MODELYEAR MAKE  MODEL      VEHICLECLASS ENGINESIZE CYLINDERS TRANSMISSION\n",
       "1 2014      ACURA ILX        COMPACT      2.0        4         AS5         \n",
       "2 2014      ACURA ILX        COMPACT      2.4        4         M6          \n",
       "3 2014      ACURA ILX HYBRID COMPACT      1.5        4         AV7         \n",
       "4 2014      ACURA MDX 4WD    SUV - SMALL  3.5        6         AS6         \n",
       "5 2014      ACURA RDX AWD    SUV - SMALL  3.5        6         AS6         \n",
       "6 2014      ACURA RLX        MID-SIZE     3.5        6         AS6         \n",
       "  FUELTYPE FUELCONSUMPTION_CITY FUELCONSUMPTION_HWY FUELCONSUMPTION_COMB\n",
       "1 Z         9.9                 6.7                  8.5                \n",
       "2 Z        11.2                 7.7                  9.6                \n",
       "3 Z         6.0                 5.8                  5.9                \n",
       "4 Z        12.7                 9.1                 11.1                \n",
       "5 Z        12.1                 8.7                 10.6                \n",
       "6 Z        11.9                 7.7                 10.0                \n",
       "  FUELCONSUMPTION_COMB_MPG CO2EMISSIONS\n",
       "1 33                       196         \n",
       "2 29                       221         \n",
       "3 48                       136         \n",
       "4 25                       255         \n",
       "5 27                       244         \n",
       "6 28                       230         "
      ]
     },
     "metadata": {},
     "output_type": "display_data"
    }
   ],
   "source": [
    "Data <-  read.csv(\"DataSets//FuelConsumption.csv\")\n",
    "head(Data)"
   ]
  },
  {
   "cell_type": "code",
   "execution_count": 79,
   "metadata": {},
   "outputs": [
    {
     "data": {
      "text/html": [
       "<table>\n",
       "<thead><tr><th></th><th scope=col>MODELYEAR</th><th scope=col>MAKE</th><th scope=col>MODEL</th><th scope=col>VEHICLECLASS</th><th scope=col>ENGINESIZE</th><th scope=col>CYLINDERS</th><th scope=col>TRANSMISSION</th><th scope=col>FUELTYPE</th><th scope=col>FUELCONSUMPTION_CITY</th><th scope=col>FUELCONSUMPTION_HWY</th><th scope=col>FUELCONSUMPTION_COMB</th><th scope=col>FUELCONSUMPTION_COMB_MPG</th><th scope=col>CO2EMISSIONS</th></tr></thead>\n",
       "<tbody>\n",
       "\t<tr><th scope=row>1062</th><td>2014          </td><td>VOLVO         </td><td>XC60          </td><td>SUV - SMALL   </td><td>3.2           </td><td>6             </td><td>AS6           </td><td>X             </td><td>13.0          </td><td> 8.9          </td><td>11.2          </td><td>25            </td><td>258           </td></tr>\n",
       "\t<tr><th scope=row>1063</th><td>2014          </td><td>VOLVO         </td><td>XC60 AWD      </td><td>SUV - SMALL   </td><td>3.0           </td><td>6             </td><td>AS6           </td><td>X             </td><td>13.4          </td><td> 9.8          </td><td>11.8          </td><td>24            </td><td>271           </td></tr>\n",
       "\t<tr><th scope=row>1064</th><td>2014          </td><td>VOLVO         </td><td>XC60 AWD      </td><td>SUV - SMALL   </td><td>3.2           </td><td>6             </td><td>AS6           </td><td>X             </td><td>13.2          </td><td> 9.5          </td><td>11.5          </td><td>25            </td><td>264           </td></tr>\n",
       "\t<tr><th scope=row>1065</th><td>2014          </td><td>VOLVO         </td><td>XC70 AWD      </td><td>SUV - SMALL   </td><td>3.0           </td><td>6             </td><td>AS6           </td><td>X             </td><td>13.4          </td><td> 9.8          </td><td>11.8          </td><td>24            </td><td>271           </td></tr>\n",
       "\t<tr><th scope=row>1066</th><td>2014          </td><td>VOLVO         </td><td>XC70 AWD      </td><td>SUV - SMALL   </td><td>3.2           </td><td>6             </td><td>AS6           </td><td>X             </td><td>12.9          </td><td> 9.3          </td><td>11.3          </td><td>25            </td><td>260           </td></tr>\n",
       "\t<tr><th scope=row>1067</th><td>2014          </td><td>VOLVO         </td><td>XC90 AWD      </td><td>SUV - STANDARD</td><td>3.2           </td><td>6             </td><td>AS6           </td><td>X             </td><td>14.9          </td><td>10.2          </td><td>12.8          </td><td>22            </td><td>294           </td></tr>\n",
       "</tbody>\n",
       "</table>\n"
      ],
      "text/latex": [
       "\\begin{tabular}{r|lllllllllllll}\n",
       "  & MODELYEAR & MAKE & MODEL & VEHICLECLASS & ENGINESIZE & CYLINDERS & TRANSMISSION & FUELTYPE & FUELCONSUMPTION\\_CITY & FUELCONSUMPTION\\_HWY & FUELCONSUMPTION\\_COMB & FUELCONSUMPTION\\_COMB\\_MPG & CO2EMISSIONS\\\\\n",
       "\\hline\n",
       "\t1062 & 2014           & VOLVO          & XC60           & SUV - SMALL    & 3.2            & 6              & AS6            & X              & 13.0           &  8.9           & 11.2           & 25             & 258           \\\\\n",
       "\t1063 & 2014           & VOLVO          & XC60 AWD       & SUV - SMALL    & 3.0            & 6              & AS6            & X              & 13.4           &  9.8           & 11.8           & 24             & 271           \\\\\n",
       "\t1064 & 2014           & VOLVO          & XC60 AWD       & SUV - SMALL    & 3.2            & 6              & AS6            & X              & 13.2           &  9.5           & 11.5           & 25             & 264           \\\\\n",
       "\t1065 & 2014           & VOLVO          & XC70 AWD       & SUV - SMALL    & 3.0            & 6              & AS6            & X              & 13.4           &  9.8           & 11.8           & 24             & 271           \\\\\n",
       "\t1066 & 2014           & VOLVO          & XC70 AWD       & SUV - SMALL    & 3.2            & 6              & AS6            & X              & 12.9           &  9.3           & 11.3           & 25             & 260           \\\\\n",
       "\t1067 & 2014           & VOLVO          & XC90 AWD       & SUV - STANDARD & 3.2            & 6              & AS6            & X              & 14.9           & 10.2           & 12.8           & 22             & 294           \\\\\n",
       "\\end{tabular}\n"
      ],
      "text/markdown": [
       "\n",
       "| <!--/--> | MODELYEAR | MAKE | MODEL | VEHICLECLASS | ENGINESIZE | CYLINDERS | TRANSMISSION | FUELTYPE | FUELCONSUMPTION_CITY | FUELCONSUMPTION_HWY | FUELCONSUMPTION_COMB | FUELCONSUMPTION_COMB_MPG | CO2EMISSIONS |\n",
       "|---|---|---|---|---|---|---|---|---|---|---|---|---|---|\n",
       "| 1062 | 2014           | VOLVO          | XC60           | SUV - SMALL    | 3.2            | 6              | AS6            | X              | 13.0           |  8.9           | 11.2           | 25             | 258            |\n",
       "| 1063 | 2014           | VOLVO          | XC60 AWD       | SUV - SMALL    | 3.0            | 6              | AS6            | X              | 13.4           |  9.8           | 11.8           | 24             | 271            |\n",
       "| 1064 | 2014           | VOLVO          | XC60 AWD       | SUV - SMALL    | 3.2            | 6              | AS6            | X              | 13.2           |  9.5           | 11.5           | 25             | 264            |\n",
       "| 1065 | 2014           | VOLVO          | XC70 AWD       | SUV - SMALL    | 3.0            | 6              | AS6            | X              | 13.4           |  9.8           | 11.8           | 24             | 271            |\n",
       "| 1066 | 2014           | VOLVO          | XC70 AWD       | SUV - SMALL    | 3.2            | 6              | AS6            | X              | 12.9           |  9.3           | 11.3           | 25             | 260            |\n",
       "| 1067 | 2014           | VOLVO          | XC90 AWD       | SUV - STANDARD | 3.2            | 6              | AS6            | X              | 14.9           | 10.2           | 12.8           | 22             | 294            |\n",
       "\n"
      ],
      "text/plain": [
       "     MODELYEAR MAKE  MODEL    VEHICLECLASS   ENGINESIZE CYLINDERS TRANSMISSION\n",
       "1062 2014      VOLVO XC60     SUV - SMALL    3.2        6         AS6         \n",
       "1063 2014      VOLVO XC60 AWD SUV - SMALL    3.0        6         AS6         \n",
       "1064 2014      VOLVO XC60 AWD SUV - SMALL    3.2        6         AS6         \n",
       "1065 2014      VOLVO XC70 AWD SUV - SMALL    3.0        6         AS6         \n",
       "1066 2014      VOLVO XC70 AWD SUV - SMALL    3.2        6         AS6         \n",
       "1067 2014      VOLVO XC90 AWD SUV - STANDARD 3.2        6         AS6         \n",
       "     FUELTYPE FUELCONSUMPTION_CITY FUELCONSUMPTION_HWY FUELCONSUMPTION_COMB\n",
       "1062 X        13.0                  8.9                11.2                \n",
       "1063 X        13.4                  9.8                11.8                \n",
       "1064 X        13.2                  9.5                11.5                \n",
       "1065 X        13.4                  9.8                11.8                \n",
       "1066 X        12.9                  9.3                11.3                \n",
       "1067 X        14.9                 10.2                12.8                \n",
       "     FUELCONSUMPTION_COMB_MPG CO2EMISSIONS\n",
       "1062 25                       258         \n",
       "1063 24                       271         \n",
       "1064 25                       264         \n",
       "1065 24                       271         \n",
       "1066 25                       260         \n",
       "1067 22                       294         "
      ]
     },
     "metadata": {},
     "output_type": "display_data"
    }
   ],
   "source": [
    "tail(Data)"
   ]
  },
  {
   "cell_type": "code",
   "execution_count": 81,
   "metadata": {},
   "outputs": [
    {
     "data": {
      "text/html": [
       "13"
      ],
      "text/latex": [
       "13"
      ],
      "text/markdown": [
       "13"
      ],
      "text/plain": [
       "[1] 13"
      ]
     },
     "metadata": {},
     "output_type": "display_data"
    }
   ],
   "source": [
    "length(Data)"
   ]
  },
  {
   "cell_type": "code",
   "execution_count": 88,
   "metadata": {},
   "outputs": [
    {
     "data": {
      "text/html": [
       "<ol class=list-inline>\n",
       "\t<li>1067</li>\n",
       "\t<li>13</li>\n",
       "</ol>\n"
      ],
      "text/latex": [
       "\\begin{enumerate*}\n",
       "\\item 1067\n",
       "\\item 13\n",
       "\\end{enumerate*}\n"
      ],
      "text/markdown": [
       "1. 1067\n",
       "2. 13\n",
       "\n",
       "\n"
      ],
      "text/plain": [
       "[1] 1067   13"
      ]
     },
     "metadata": {},
     "output_type": "display_data"
    }
   ],
   "source": [
    "dim(Data)"
   ]
  },
  {
   "cell_type": "code",
   "execution_count": 90,
   "metadata": {},
   "outputs": [
    {
     "data": {
      "text/plain": [
       "   MODELYEAR               MAKE              MODEL              VEHICLECLASS\n",
       " Min.   :2014   FORD         : 90   F150 FFV    :   8   MID-SIZE      :178  \n",
       " 1st Qu.:2014   CHEVROLET    : 86   F150 FFV 4X4:   8   COMPACT       :172  \n",
       " Median :2014   BMW          : 64   ACCORD      :   6   SUV - SMALL   :154  \n",
       " Mean   :2014   MERCEDES-BENZ: 59   BEETLE      :   6   SUV - STANDARD:110  \n",
       " 3rd Qu.:2014   AUDI         : 49   FOCUS FFV   :   6   FULL-SIZE     : 86  \n",
       " Max.   :2014   GMC          : 49   MUSTANG     :   5   TWO-SEATER    : 71  \n",
       "                (Other)      :670   (Other)     :1028   (Other)       :296  \n",
       "   ENGINESIZE      CYLINDERS       TRANSMISSION FUELTYPE FUELCONSUMPTION_CITY\n",
       " Min.   :1.000   Min.   : 3.000   A6     :222   D: 27    Min.   : 4.60       \n",
       " 1st Qu.:2.000   1st Qu.: 4.000   AS6    :189   E: 92    1st Qu.:10.25       \n",
       " Median :3.400   Median : 6.000   M6     :141   X:514    Median :12.60       \n",
       " Mean   :3.346   Mean   : 5.795   A8     : 87   Z:434    Mean   :13.30       \n",
       " 3rd Qu.:4.300   3rd Qu.: 8.000   AS8    : 80            3rd Qu.:15.55       \n",
       " Max.   :8.400   Max.   :12.000   AS7    : 76            Max.   :30.20       \n",
       "                                  (Other):272                                \n",
       " FUELCONSUMPTION_HWY FUELCONSUMPTION_COMB FUELCONSUMPTION_COMB_MPG\n",
       " Min.   : 4.900      Min.   : 4.70        Min.   :11.00           \n",
       " 1st Qu.: 7.500      1st Qu.: 9.00        1st Qu.:21.00           \n",
       " Median : 8.800      Median :10.90        Median :26.00           \n",
       " Mean   : 9.475      Mean   :11.58        Mean   :26.44           \n",
       " 3rd Qu.:10.850      3rd Qu.:13.35        3rd Qu.:31.00           \n",
       " Max.   :20.500      Max.   :25.80        Max.   :60.00           \n",
       "                                                                  \n",
       "  CO2EMISSIONS  \n",
       " Min.   :108.0  \n",
       " 1st Qu.:207.0  \n",
       " Median :251.0  \n",
       " Mean   :256.2  \n",
       " 3rd Qu.:294.0  \n",
       " Max.   :488.0  \n",
       "                "
      ]
     },
     "metadata": {},
     "output_type": "display_data"
    }
   ],
   "source": [
    "summary(Data)"
   ]
  },
  {
   "cell_type": "code",
   "execution_count": 91,
   "metadata": {},
   "outputs": [
    {
     "data": {
      "image/png": "[encoded data removed]",
      "text/plain": [
       "plot without title"
      ]
     },
     "metadata": {},
     "output_type": "display_data"
    }
   ],
   "source": [
    "plot(Data$ENGINESIZE, Data$CO2EMISSIONS)"
   ]
  },
  {
   "cell_type": "code",
   "execution_count": 9,
   "metadata": {},
   "outputs": [
    {
     "ename": "ERROR",
     "evalue": "Error in plot(Data$FUELCONSUMPTION_CITY, Data$CO2EMISSIONS): object 'Data' not found\n",
     "output_type": "error",
     "traceback": [
      "Error in plot(Data$FUELCONSUMPTION_CITY, Data$CO2EMISSIONS): object 'Data' not found\nTraceback:\n",
      "1. plot(Data$FUELCONSUMPTION_CITY, Data$CO2EMISSIONS)"
     ]
    }
   ],
   "source": [
    "plot(Data$FUELCONSUMPTION_CITY,Data$CO2EMISSIONS)"
   ]
  },
  {
   "cell_type": "code",
   "execution_count": 11,
   "metadata": {},
   "outputs": [
    {
     "data": {
      "text/html": [
       "<table>\n",
       "<thead><tr><th scope=col>playerID</th><th scope=col>yearID</th><th scope=col>stint</th><th scope=col>teamID</th><th scope=col>lgID</th><th scope=col>G</th><th scope=col>AB</th><th scope=col>R</th><th scope=col>H</th><th scope=col>X2B</th><th scope=col>...</th><th scope=col>RBI</th><th scope=col>SB</th><th scope=col>CS</th><th scope=col>BB</th><th scope=col>SO</th><th scope=col>IBB</th><th scope=col>HBP</th><th scope=col>SH</th><th scope=col>SF</th><th scope=col>GIDP</th></tr></thead>\n",
       "<tbody>\n",
       "\t<tr><td>abercda01</td><td>1871     </td><td>1        </td><td>TRO      </td><td>NA       </td><td> 1       </td><td>  4      </td><td> 0       </td><td> 0       </td><td> 0       </td><td>...      </td><td> 0       </td><td>0        </td><td>0        </td><td>0        </td><td>0        </td><td>NA       </td><td>NA       </td><td>NA       </td><td>NA       </td><td>0        </td></tr>\n",
       "\t<tr><td>addybo01 </td><td>1871     </td><td>1        </td><td>RC1      </td><td>NA       </td><td>25       </td><td>118      </td><td>30       </td><td>32       </td><td> 6       </td><td>...      </td><td>13       </td><td>8        </td><td>1        </td><td>4        </td><td>0        </td><td>NA       </td><td>NA       </td><td>NA       </td><td>NA       </td><td>0        </td></tr>\n",
       "\t<tr><td>allisar01</td><td>1871     </td><td>1        </td><td>CL1      </td><td>NA       </td><td>29       </td><td>137      </td><td>28       </td><td>40       </td><td> 4       </td><td>...      </td><td>19       </td><td>3        </td><td>1        </td><td>2        </td><td>5        </td><td>NA       </td><td>NA       </td><td>NA       </td><td>NA       </td><td>1        </td></tr>\n",
       "\t<tr><td>allisdo01</td><td>1871     </td><td>1        </td><td>WS3      </td><td>NA       </td><td>27       </td><td>133      </td><td>28       </td><td>44       </td><td>10       </td><td>...      </td><td>27       </td><td>1        </td><td>1        </td><td>0        </td><td>2        </td><td>NA       </td><td>NA       </td><td>NA       </td><td>NA       </td><td>0        </td></tr>\n",
       "\t<tr><td>ansonca01</td><td>1871     </td><td>1        </td><td>RC1      </td><td>NA       </td><td>25       </td><td>120      </td><td>29       </td><td>39       </td><td>11       </td><td>...      </td><td>16       </td><td>6        </td><td>2        </td><td>2        </td><td>1        </td><td>NA       </td><td>NA       </td><td>NA       </td><td>NA       </td><td>0        </td></tr>\n",
       "\t<tr><td>armstbo01</td><td>1871     </td><td>1        </td><td>FW1      </td><td>NA       </td><td>12       </td><td> 49      </td><td> 9       </td><td>11       </td><td> 2       </td><td>...      </td><td> 5       </td><td>0        </td><td>1        </td><td>0        </td><td>1        </td><td>NA       </td><td>NA       </td><td>NA       </td><td>NA       </td><td>0        </td></tr>\n",
       "</tbody>\n",
       "</table>\n"
      ],
      "text/latex": [
       "\\begin{tabular}{r|llllllllllllllllllllll}\n",
       " playerID & yearID & stint & teamID & lgID & G & AB & R & H & X2B & ... & RBI & SB & CS & BB & SO & IBB & HBP & SH & SF & GIDP\\\\\n",
       "\\hline\n",
       "\t abercda01 & 1871      & 1         & TRO       & NA        &  1        &   4       &  0        &  0        &  0        & ...       &  0        & 0         & 0         & 0         & 0         & NA        & NA        & NA        & NA        & 0        \\\\\n",
       "\t addybo01  & 1871      & 1         & RC1       & NA        & 25        & 118       & 30        & 32        &  6        & ...       & 13        & 8         & 1         & 4         & 0         & NA        & NA        & NA        & NA        & 0        \\\\\n",
       "\t allisar01 & 1871      & 1         & CL1       & NA        & 29        & 137       & 28        & 40        &  4        & ...       & 19        & 3         & 1         & 2         & 5         & NA        & NA        & NA        & NA        & 1        \\\\\n",
       "\t allisdo01 & 1871      & 1         & WS3       & NA        & 27        & 133       & 28        & 44        & 10        & ...       & 27        & 1         & 1         & 0         & 2         & NA        & NA        & NA        & NA        & 0        \\\\\n",
       "\t ansonca01 & 1871      & 1         & RC1       & NA        & 25        & 120       & 29        & 39        & 11        & ...       & 16        & 6         & 2         & 2         & 1         & NA        & NA        & NA        & NA        & 0        \\\\\n",
       "\t armstbo01 & 1871      & 1         & FW1       & NA        & 12        &  49       &  9        & 11        &  2        & ...       &  5        & 0         & 1         & 0         & 1         & NA        & NA        & NA        & NA        & 0        \\\\\n",
       "\\end{tabular}\n"
      ],
      "text/markdown": [
       "\n",
       "| playerID | yearID | stint | teamID | lgID | G | AB | R | H | X2B | ... | RBI | SB | CS | BB | SO | IBB | HBP | SH | SF | GIDP |\n",
       "|---|---|---|---|---|---|---|---|---|---|---|---|---|---|---|---|---|---|---|---|---|\n",
       "| abercda01 | 1871      | 1         | TRO       | NA        |  1        |   4       |  0        |  0        |  0        | ...       |  0        | 0         | 0         | 0         | 0         | NA        | NA        | NA        | NA        | 0         |\n",
       "| addybo01  | 1871      | 1         | RC1       | NA        | 25        | 118       | 30        | 32        |  6        | ...       | 13        | 8         | 1         | 4         | 0         | NA        | NA        | NA        | NA        | 0         |\n",
       "| allisar01 | 1871      | 1         | CL1       | NA        | 29        | 137       | 28        | 40        |  4        | ...       | 19        | 3         | 1         | 2         | 5         | NA        | NA        | NA        | NA        | 1         |\n",
       "| allisdo01 | 1871      | 1         | WS3       | NA        | 27        | 133       | 28        | 44        | 10        | ...       | 27        | 1         | 1         | 0         | 2         | NA        | NA        | NA        | NA        | 0         |\n",
       "| ansonca01 | 1871      | 1         | RC1       | NA        | 25        | 120       | 29        | 39        | 11        | ...       | 16        | 6         | 2         | 2         | 1         | NA        | NA        | NA        | NA        | 0         |\n",
       "| armstbo01 | 1871      | 1         | FW1       | NA        | 12        |  49       |  9        | 11        |  2        | ...       |  5        | 0         | 1         | 0         | 1         | NA        | NA        | NA        | NA        | 0         |\n",
       "\n"
      ],
      "text/plain": [
       "  playerID  yearID stint teamID lgID G  AB  R  H  X2B ... RBI SB CS BB SO IBB\n",
       "1 abercda01 1871   1     TRO    NA    1   4  0  0  0  ...  0  0  0  0  0  NA \n",
       "2 addybo01  1871   1     RC1    NA   25 118 30 32  6  ... 13  8  1  4  0  NA \n",
       "3 allisar01 1871   1     CL1    NA   29 137 28 40  4  ... 19  3  1  2  5  NA \n",
       "4 allisdo01 1871   1     WS3    NA   27 133 28 44 10  ... 27  1  1  0  2  NA \n",
       "5 ansonca01 1871   1     RC1    NA   25 120 29 39 11  ... 16  6  2  2  1  NA \n",
       "6 armstbo01 1871   1     FW1    NA   12  49  9 11  2  ...  5  0  1  0  1  NA \n",
       "  HBP SH SF GIDP\n",
       "1 NA  NA NA 0   \n",
       "2 NA  NA NA 0   \n",
       "3 NA  NA NA 1   \n",
       "4 NA  NA NA 0   \n",
       "5 NA  NA NA 0   \n",
       "6 NA  NA NA 0   "
      ]
     },
     "metadata": {},
     "output_type": "display_data"
    }
   ],
   "source": [
    "Data <- read.csv('DataSets//lahman-batting.csv')\n",
    "head(Data)"
   ]
  },
  {
   "cell_type": "code",
   "execution_count": 12,
   "metadata": {},
   "outputs": [
    {
     "data": {
      "text/plain": [
       "      playerID          yearID         stint           teamID        lgID      \n",
       " mcguide01:    31   Min.   :1871   Min.   :1.000   CHN    : 4911   AA  : 1893  \n",
       " henderi01:    29   1st Qu.:1935   1st Qu.:1.000   PHI    : 4821   AL  :47877  \n",
       " newsobo01:    29   Median :1974   Median :1.000   PIT    : 4769   FL  :  472  \n",
       " johnto01 :    28   Mean   :1965   Mean   :1.078   SLN    : 4717   NL  :52861  \n",
       " kaatji01 :    28   3rd Qu.:1999   3rd Qu.:1.000   CIN    : 4588   PL  :  149  \n",
       " ansonca01:    27   Max.   :2017   Max.   :5.000   CLE    : 4541   UA  :  334  \n",
       " (Other)  :104152                                  (Other):75977   NA's:  738  \n",
       "       G                AB              R                H         \n",
       " Min.   :  1.00   Min.   :  0.0   Min.   :  0.00   Min.   :  0.00  \n",
       " 1st Qu.: 13.00   1st Qu.:  4.0   1st Qu.:  0.00   1st Qu.:  0.00  \n",
       " Median : 34.00   Median : 48.0   Median :  4.00   Median :  9.00  \n",
       " Mean   : 51.28   Mean   :141.5   Mean   : 18.76   Mean   : 37.01  \n",
       " 3rd Qu.: 80.00   3rd Qu.:230.0   3rd Qu.: 27.00   3rd Qu.: 57.00  \n",
       " Max.   :165.00   Max.   :716.0   Max.   :198.00   Max.   :262.00  \n",
       "                                                                   \n",
       "      X2B              X3B               HR              RBI        \n",
       " Min.   : 0.000   Min.   : 0.000   Min.   : 0.000   Min.   :  0.00  \n",
       " 1st Qu.: 0.000   1st Qu.: 0.000   1st Qu.: 0.000   1st Qu.:  0.00  \n",
       " Median : 1.000   Median : 0.000   Median : 0.000   Median :  3.00  \n",
       " Mean   : 6.279   Mean   : 1.282   Mean   : 2.832   Mean   : 17.02  \n",
       " 3rd Qu.: 9.000   3rd Qu.: 1.000   3rd Qu.: 2.000   3rd Qu.: 24.00  \n",
       " Max.   :67.000   Max.   :36.000   Max.   :73.000   Max.   :191.00  \n",
       "                                                    NA's   :756     \n",
       "       SB                CS               BB               SO        \n",
       " Min.   :  0.000   Min.   : 0.000   Min.   :  0.00   Min.   :  0.00  \n",
       " 1st Qu.:  0.000   1st Qu.: 0.000   1st Qu.:  0.00   1st Qu.:  1.00  \n",
       " Median :  0.000   Median : 0.000   Median :  3.00   Median :  9.00  \n",
       " Mean   :  2.991   Mean   : 1.216   Mean   : 13.03   Mean   : 20.54  \n",
       " 3rd Qu.:  2.000   3rd Qu.: 1.000   3rd Qu.: 18.00   3rd Qu.: 29.00  \n",
       " Max.   :138.000   Max.   :42.000   Max.   :232.00   Max.   :223.00  \n",
       " NA's   :2368      NA's   :23492                     NA's   :6350    \n",
       "      IBB             HBP               SH               SF       \n",
       " Min.   :  0.0   Min.   : 0.000   Min.   : 0.000   Min.   : 0.00  \n",
       " 1st Qu.:  0.0   1st Qu.: 0.000   1st Qu.: 0.000   1st Qu.: 0.00  \n",
       " Median :  0.0   Median : 0.000   Median : 0.000   Median : 0.00  \n",
       " Mean   :  1.1   Mean   : 1.058   Mean   : 2.279   Mean   : 1.05  \n",
       " 3rd Qu.:  1.0   3rd Qu.: 1.000   3rd Qu.: 3.000   3rd Qu.: 1.00  \n",
       " Max.   :120.0   Max.   :51.000   Max.   :67.000   Max.   :19.00  \n",
       " NA's   :36602   NA's   :2817     NA's   :6069     NA's   :36065  \n",
       "      GIDP       \n",
       " Min.   : 0.000  \n",
       " 1st Qu.: 0.000  \n",
       " Median : 0.000  \n",
       " Mean   : 2.952  \n",
       " 3rd Qu.: 4.000  \n",
       " Max.   :36.000  \n",
       " NA's   :25403   "
      ]
     },
     "metadata": {},
     "output_type": "display_data"
    }
   ],
   "source": [
    "summary(Data)"
   ]
  },
  {
   "cell_type": "code",
   "execution_count": 2,
   "metadata": {},
   "outputs": [],
   "source": [
    "library(haven)"
   ]
  },
  {
   "cell_type": "code",
   "execution_count": 3,
   "metadata": {},
   "outputs": [
    {
     "data": {
      "text/html": [
       "<table>\n",
       "<thead><tr><th scope=col>ADMIT</th><th scope=col>GRE</th><th scope=col>GPA</th><th scope=col>RANK</th></tr></thead>\n",
       "<tbody>\n",
       "\t<tr><td>0   </td><td>380 </td><td>3.61</td><td>3   </td></tr>\n",
       "\t<tr><td>1   </td><td>660 </td><td>3.67</td><td>3   </td></tr>\n",
       "\t<tr><td>1   </td><td>800 </td><td>4.00</td><td>1   </td></tr>\n",
       "\t<tr><td>1   </td><td>640 </td><td>3.19</td><td>4   </td></tr>\n",
       "\t<tr><td>0   </td><td>520 </td><td>2.93</td><td>4   </td></tr>\n",
       "\t<tr><td>1   </td><td>760 </td><td>3.00</td><td>2   </td></tr>\n",
       "</tbody>\n",
       "</table>\n"
      ],
      "text/latex": [
       "\\begin{tabular}{r|llll}\n",
       " ADMIT & GRE & GPA & RANK\\\\\n",
       "\\hline\n",
       "\t 0    & 380  & 3.61 & 3   \\\\\n",
       "\t 1    & 660  & 3.67 & 3   \\\\\n",
       "\t 1    & 800  & 4.00 & 1   \\\\\n",
       "\t 1    & 640  & 3.19 & 4   \\\\\n",
       "\t 0    & 520  & 2.93 & 4   \\\\\n",
       "\t 1    & 760  & 3.00 & 2   \\\\\n",
       "\\end{tabular}\n"
      ],
      "text/markdown": [
       "\n",
       "| ADMIT | GRE | GPA | RANK |\n",
       "|---|---|---|---|\n",
       "| 0    | 380  | 3.61 | 3    |\n",
       "| 1    | 660  | 3.67 | 3    |\n",
       "| 1    | 800  | 4.00 | 1    |\n",
       "| 1    | 640  | 3.19 | 4    |\n",
       "| 0    | 520  | 2.93 | 4    |\n",
       "| 1    | 760  | 3.00 | 2    |\n",
       "\n"
      ],
      "text/plain": [
       "  ADMIT GRE GPA  RANK\n",
       "1 0     380 3.61 3   \n",
       "2 1     660 3.67 3   \n",
       "3 1     800 4.00 1   \n",
       "4 1     640 3.19 4   \n",
       "5 0     520 2.93 4   \n",
       "6 1     760 3.00 2   "
      ]
     },
     "metadata": {},
     "output_type": "display_data"
    }
   ],
   "source": [
    "PATH_sas <- 'DataSets//binary.sas7bdat'\n",
    "df <- read_sas(PATH_sas)\n",
    "head(df)"
   ]
  },
  {
   "cell_type": "code",
   "execution_count": 4,
   "metadata": {},
   "outputs": [
    {
     "data": {
      "image/png": "[encoded data removed]",
      "text/plain": [
       "plot without title"
      ]
     },
     "metadata": {},
     "output_type": "display_data"
    }
   ],
   "source": [
    "plot(df$GRE,df$GPA)"
   ]
  },
  {
   "cell_type": "markdown",
   "metadata": {},
   "source": [
    "#### Read STATA\n",
    "For STATA data files you can use read_dta(). We use exactly the same dataset but store in .dta file."
   ]
  },
  {
   "cell_type": "code",
   "execution_count": 5,
   "metadata": {},
   "outputs": [
    {
     "data": {
      "text/html": [
       "<table>\n",
       "<thead><tr><th scope=col>admit</th><th scope=col>gre</th><th scope=col>gpa</th><th scope=col>rank</th></tr></thead>\n",
       "<tbody>\n",
       "\t<tr><td>0   </td><td>380 </td><td>3.61</td><td>3   </td></tr>\n",
       "\t<tr><td>1   </td><td>660 </td><td>3.67</td><td>3   </td></tr>\n",
       "\t<tr><td>1   </td><td>800 </td><td>4.00</td><td>1   </td></tr>\n",
       "\t<tr><td>1   </td><td>640 </td><td>3.19</td><td>4   </td></tr>\n",
       "\t<tr><td>0   </td><td>520 </td><td>2.93</td><td>4   </td></tr>\n",
       "\t<tr><td>1   </td><td>760 </td><td>3.00</td><td>2   </td></tr>\n",
       "</tbody>\n",
       "</table>\n"
      ],
      "text/latex": [
       "\\begin{tabular}{r|llll}\n",
       " admit & gre & gpa & rank\\\\\n",
       "\\hline\n",
       "\t 0    & 380  & 3.61 & 3   \\\\\n",
       "\t 1    & 660  & 3.67 & 3   \\\\\n",
       "\t 1    & 800  & 4.00 & 1   \\\\\n",
       "\t 1    & 640  & 3.19 & 4   \\\\\n",
       "\t 0    & 520  & 2.93 & 4   \\\\\n",
       "\t 1    & 760  & 3.00 & 2   \\\\\n",
       "\\end{tabular}\n"
      ],
      "text/markdown": [
       "\n",
       "| admit | gre | gpa | rank |\n",
       "|---|---|---|---|\n",
       "| 0    | 380  | 3.61 | 3    |\n",
       "| 1    | 660  | 3.67 | 3    |\n",
       "| 1    | 800  | 4.00 | 1    |\n",
       "| 1    | 640  | 3.19 | 4    |\n",
       "| 0    | 520  | 2.93 | 4    |\n",
       "| 1    | 760  | 3.00 | 2    |\n",
       "\n"
      ],
      "text/plain": [
       "  admit gre gpa  rank\n",
       "1 0     380 3.61 3   \n",
       "2 1     660 3.67 3   \n",
       "3 1     800 4.00 1   \n",
       "4 1     640 3.19 4   \n",
       "5 0     520 2.93 4   \n",
       "6 1     760 3.00 2   "
      ]
     },
     "metadata": {},
     "output_type": "display_data"
    }
   ],
   "source": [
    "Path<- 'DataSets//binary.dta'\n",
    "df <-read_dta(Path)\n",
    "head(df)"
   ]
  },
  {
   "cell_type": "code",
   "execution_count": 6,
   "metadata": {},
   "outputs": [
    {
     "data": {
      "image/png": "[encoded data removed]",
      "text/plain": [
       "plot without title"
      ]
     },
     "metadata": {},
     "output_type": "display_data"
    }
   ],
   "source": [
    "plot(df$gre,df$gpa)"
   ]
  },
  {
   "cell_type": "markdown",
   "metadata": {},
   "source": [
    "#### Read SPSS\n",
    "We use the read_sav()function to open a SPSS file. The file extension \".sav\""
   ]
  },
  {
   "cell_type": "code",
   "execution_count": 7,
   "metadata": {},
   "outputs": [
    {
     "data": {
      "text/html": [
       "<table>\n",
       "<thead><tr><th scope=col>admit</th><th scope=col>gre</th><th scope=col>gpa</th><th scope=col>rank</th></tr></thead>\n",
       "<tbody>\n",
       "\t<tr><td>0   </td><td>380 </td><td>3.61</td><td>3   </td></tr>\n",
       "\t<tr><td>1   </td><td>660 </td><td>3.67</td><td>3   </td></tr>\n",
       "\t<tr><td>1   </td><td>800 </td><td>4.00</td><td>1   </td></tr>\n",
       "\t<tr><td>1   </td><td>640 </td><td>3.19</td><td>4   </td></tr>\n",
       "\t<tr><td>0   </td><td>520 </td><td>2.93</td><td>4   </td></tr>\n",
       "\t<tr><td>1   </td><td>760 </td><td>3.00</td><td>2   </td></tr>\n",
       "</tbody>\n",
       "</table>\n"
      ],
      "text/latex": [
       "\\begin{tabular}{r|llll}\n",
       " admit & gre & gpa & rank\\\\\n",
       "\\hline\n",
       "\t 0    & 380  & 3.61 & 3   \\\\\n",
       "\t 1    & 660  & 3.67 & 3   \\\\\n",
       "\t 1    & 800  & 4.00 & 1   \\\\\n",
       "\t 1    & 640  & 3.19 & 4   \\\\\n",
       "\t 0    & 520  & 2.93 & 4   \\\\\n",
       "\t 1    & 760  & 3.00 & 2   \\\\\n",
       "\\end{tabular}\n"
      ],
      "text/markdown": [
       "\n",
       "| admit | gre | gpa | rank |\n",
       "|---|---|---|---|\n",
       "| 0    | 380  | 3.61 | 3    |\n",
       "| 1    | 660  | 3.67 | 3    |\n",
       "| 1    | 800  | 4.00 | 1    |\n",
       "| 1    | 640  | 3.19 | 4    |\n",
       "| 0    | 520  | 2.93 | 4    |\n",
       "| 1    | 760  | 3.00 | 2    |\n",
       "\n"
      ],
      "text/plain": [
       "  admit gre gpa  rank\n",
       "1 0     380 3.61 3   \n",
       "2 1     660 3.67 3   \n",
       "3 1     800 4.00 1   \n",
       "4 1     640 3.19 4   \n",
       "5 0     520 2.93 4   \n",
       "6 1     760 3.00 2   "
      ]
     },
     "metadata": {},
     "output_type": "display_data"
    }
   ],
   "source": [
    "PATH_spss <- 'DataSets//binary.sav'\n",
    "df <- read_sav(PATH_spss)\n",
    "head(df)"
   ]
  },
  {
   "cell_type": "code",
   "execution_count": 8,
   "metadata": {},
   "outputs": [
    {
     "data": {
      "image/png": "[encoded data removed]",
      "text/plain": [
       "plot without title"
      ]
     },
     "metadata": {},
     "output_type": "display_data"
    }
   ],
   "source": [
    "plot(df$gre,df$gpa)"
   ]
  },
  {
   "cell_type": "markdown",
   "metadata": {},
   "source": [
    "### Best practices for Data Import\n",
    "When we want to import data into R, it is useful to implement following checklist. It will make it easy to import data correctly into R:\n",
    "\n",
    "1. The typical format for a spreadsheet is to use the first rows as the header (usually variables name).\n",
    "2. Avoid to name a dataset with blank spaces; it can lead to interpreting as a separate variable. Alternatively, prefer to use '_' or '-.'\n",
    "3. Short names are preferred\n",
    "4. Do not include symbol in the name: i.e: exchange_rate_$_€ is not correct. Prefer to name it: exchange_rate_dollar_euro\n",
    "5. Use NA for missing values otherwise; we need to clean the format later.\n"
   ]
  },
  {
   "cell_type": "markdown",
   "metadata": {},
   "source": [
    "|Library|Objective|Function|Default Arguments|\n",
    "|-------|--------|---------|-----------------|\n",
    "|utils|Read CSV file|read.csv()|file, header =,TRUE, sep = \",\"\n",
    "|readxl|Read EXCEL file|read_excel()|path, range = NULL, col_names = TRUE|\n",
    "|haven|Read SAS file|read_sas()|path|\n",
    "|haven|Read STATA file|read_stata()|path|\n",
    "|haven|Read SPSS fille|read_sav()|path|\n",
    "\n",
    "\n",
    "<hr>"
   ]
  }
 ],
 "metadata": {
  "kernelspec": {
   "display_name": "R",
   "language": "R",
   "name": "ir"
  },
  "language_info": {
   "codemirror_mode": "r",
   "file_extension": ".r",
   "mimetype": "text/x-r-source",
   "name": "R",
   "pygments_lexer": "r",
   "version": "3.6.1"
  }
 },
 "nbformat": 4,
 "nbformat_minor": 2
}
