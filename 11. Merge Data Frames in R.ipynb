{
 "cells": [
  {
   "cell_type": "markdown",
   "metadata": {},
   "source": [
    "<h1 align='center'>Merge Data Frames in R</h1>"
   ]
  },
  {
   "cell_type": "markdown",
   "metadata": {},
   "source": [
    "Very often, we have data from multiple sources. To perform an analysis, we need to **merge** two dataframes together with one or more `common key variables`\n",
    "\n",
    "In this tutorial, you will learn\n",
    "\n",
    "1. Full match\n",
    "2. Partial match\n",
    "\n",
    "##### Full match\n",
    "A full match returns values that have a counterpart in the destination table. The values that are not match won't be return in the new data frame. The partial match, however, return the missing values as NA.\n",
    "\n",
    "We will see a simple `inner join`. The inner join keyword selects records that have matching values in both tables. To join two datasets, we can use merge() function. We will use three arguments :"
   ]
  },
  {
   "cell_type": "raw",
   "metadata": {},
   "source": [
    "merge(x, y, by.x = x, by.y = y)\n",
    "Arguments:\n",
    "-x: The origin data frame\n",
    "-y: The data frame to merge\n",
    "-by.x: The column used for merging in x data frame. Column x to merge on\n",
    "-by.y: The column used for merging in y data frame. Column y to merge on\n",
    "\n"
   ]
  },
  {
   "cell_type": "markdown",
   "metadata": {},
   "source": [
    "### Example:\n",
    "\n",
    "Create First Dataset with variables\n",
    "\n",
    "surname\n",
    "\n",
    "nationality\n",
    "\n",
    "Create Second Dataset with variables\n",
    "\n",
    "surname\n",
    "\n",
    "movies\n",
    "\n",
    "The common key variable is surname. We can merge both data and check if the dimensionality is 7x3.\n",
    "\n",
    "We add stringsAsFactors=FALSE in the data frame because we don't want R to convert string as factor, we want the variable to be treated as character."
   ]
  },
  {
   "cell_type": "code",
   "execution_count": 3,
   "metadata": {},
   "outputs": [
    {
     "data": {
      "text/html": [
       "<table>\n",
       "<thead><tr><th scope=col>surname</th><th scope=col>nationality</th></tr></thead>\n",
       "<tbody>\n",
       "\t<tr><td>Spielberg</td><td>US       </td></tr>\n",
       "\t<tr><td>Scorsese </td><td>US       </td></tr>\n",
       "\t<tr><td>Hitchcock</td><td>UK       </td></tr>\n",
       "\t<tr><td>Tarantino</td><td>US       </td></tr>\n",
       "\t<tr><td>Polanski </td><td>Poland   </td></tr>\n",
       "</tbody>\n",
       "</table>\n"
      ],
      "text/latex": [
       "\\begin{tabular}{r|ll}\n",
       " surname & nationality\\\\\n",
       "\\hline\n",
       "\t Spielberg & US       \\\\\n",
       "\t Scorsese  & US       \\\\\n",
       "\t Hitchcock & UK       \\\\\n",
       "\t Tarantino & US       \\\\\n",
       "\t Polanski  & Poland   \\\\\n",
       "\\end{tabular}\n"
      ],
      "text/markdown": [
       "\n",
       "surname | nationality | \n",
       "|---|---|---|---|---|\n",
       "| Spielberg | US        | \n",
       "| Scorsese  | US        | \n",
       "| Hitchcock | UK        | \n",
       "| Tarantino | US        | \n",
       "| Polanski  | Poland    | \n",
       "\n",
       "\n"
      ],
      "text/plain": [
       "  surname   nationality\n",
       "1 Spielberg US         \n",
       "2 Scorsese  US         \n",
       "3 Hitchcock UK         \n",
       "4 Tarantino US         \n",
       "5 Polanski  Poland     "
      ]
     },
     "metadata": {},
     "output_type": "display_data"
    }
   ],
   "source": [
    "# Create origin dataframe(\n",
    "\n",
    "producers <- data.frame(   \n",
    "    surname =  c(\"Spielberg\",\"Scorsese\",\"Hitchcock\",\"Tarantino\",\"Polanski\"),    \n",
    "    nationality = c(\"US\",\"US\",\"UK\",\"US\",\"Poland\"),    \n",
    "    stringsAsFactors=FALSE)\n",
    "producers"
   ]
  },
  {
   "cell_type": "code",
   "execution_count": 5,
   "metadata": {},
   "outputs": [
    {
     "data": {
      "text/html": [
       "<table>\n",
       "<thead><tr><th scope=col>surname</th><th scope=col>title</th></tr></thead>\n",
       "<tbody>\n",
       "\t<tr><td>Spielberg          </td><td>Super 8            </td></tr>\n",
       "\t<tr><td>Scorsese           </td><td>Taxi Driver        </td></tr>\n",
       "\t<tr><td>Hitchcock          </td><td>Psycho             </td></tr>\n",
       "\t<tr><td>Hitchcock          </td><td>North by Northwest </td></tr>\n",
       "\t<tr><td>Spielberg          </td><td>Catch Me If You Can</td></tr>\n",
       "\t<tr><td>Tarantino          </td><td>Reservoir Dogs     </td></tr>\n",
       "\t<tr><td>Polanski           </td><td>Chinatown          </td></tr>\n",
       "</tbody>\n",
       "</table>\n"
      ],
      "text/latex": [
       "\\begin{tabular}{r|ll}\n",
       " surname & title\\\\\n",
       "\\hline\n",
       "\t Spielberg           & Super 8            \\\\\n",
       "\t Scorsese            & Taxi Driver        \\\\\n",
       "\t Hitchcock           & Psycho             \\\\\n",
       "\t Hitchcock           & North by Northwest \\\\\n",
       "\t Spielberg           & Catch Me If You Can\\\\\n",
       "\t Tarantino           & Reservoir Dogs     \\\\\n",
       "\t Polanski            & Chinatown          \\\\\n",
       "\\end{tabular}\n"
      ],
      "text/markdown": [
       "\n",
       "surname | title | \n",
       "|---|---|---|---|---|---|---|\n",
       "| Spielberg           | Super 8             | \n",
       "| Scorsese            | Taxi Driver         | \n",
       "| Hitchcock           | Psycho              | \n",
       "| Hitchcock           | North by Northwest  | \n",
       "| Spielberg           | Catch Me If You Can | \n",
       "| Tarantino           | Reservoir Dogs      | \n",
       "| Polanski            | Chinatown           | \n",
       "\n",
       "\n"
      ],
      "text/plain": [
       "  surname   title              \n",
       "1 Spielberg Super 8            \n",
       "2 Scorsese  Taxi Driver        \n",
       "3 Hitchcock Psycho             \n",
       "4 Hitchcock North by Northwest \n",
       "5 Spielberg Catch Me If You Can\n",
       "6 Tarantino Reservoir Dogs     \n",
       "7 Polanski  Chinatown          "
      ]
     },
     "metadata": {},
     "output_type": "display_data"
    }
   ],
   "source": [
    "# Create destination dataframe\n",
    "movies <- data.frame(    \n",
    "    surname = c(\"Spielberg\",\"Scorsese\",\"Hitchcock\",\"Hitchcock\",\"Spielberg\",\"Tarantino\",\"Polanski\"),    \n",
    "    title = c(\"Super 8\",\"Taxi Driver\",\"Psycho\",\"North by Northwest\",\"Catch Me If You Can\",\"Reservoir Dogs\",\"Chinatown\"),\n",
    "    stringsAsFactors=FALSE)\n",
    "movies"
   ]
  },
  {
   "cell_type": "code",
   "execution_count": 10,
   "metadata": {},
   "outputs": [
    {
     "data": {
      "text/html": [
       "<table>\n",
       "<thead><tr><th scope=col>surname</th><th scope=col>nationality</th><th scope=col>title</th></tr></thead>\n",
       "<tbody>\n",
       "\t<tr><td>Hitchcock          </td><td>UK                 </td><td>Psycho             </td></tr>\n",
       "\t<tr><td>Hitchcock          </td><td>UK                 </td><td>North by Northwest </td></tr>\n",
       "\t<tr><td>Polanski           </td><td>Poland             </td><td>Chinatown          </td></tr>\n",
       "\t<tr><td>Scorsese           </td><td>US                 </td><td>Taxi Driver        </td></tr>\n",
       "\t<tr><td>Spielberg          </td><td>US                 </td><td>Super 8            </td></tr>\n",
       "\t<tr><td>Spielberg          </td><td>US                 </td><td>Catch Me If You Can</td></tr>\n",
       "\t<tr><td>Tarantino          </td><td>US                 </td><td>Reservoir Dogs     </td></tr>\n",
       "</tbody>\n",
       "</table>\n"
      ],
      "text/latex": [
       "\\begin{tabular}{r|lll}\n",
       " surname & nationality & title\\\\\n",
       "\\hline\n",
       "\t Hitchcock           & UK                  & Psycho             \\\\\n",
       "\t Hitchcock           & UK                  & North by Northwest \\\\\n",
       "\t Polanski            & Poland              & Chinatown          \\\\\n",
       "\t Scorsese            & US                  & Taxi Driver        \\\\\n",
       "\t Spielberg           & US                  & Super 8            \\\\\n",
       "\t Spielberg           & US                  & Catch Me If You Can\\\\\n",
       "\t Tarantino           & US                  & Reservoir Dogs     \\\\\n",
       "\\end{tabular}\n"
      ],
      "text/markdown": [
       "\n",
       "surname | nationality | title | \n",
       "|---|---|---|---|---|---|---|\n",
       "| Hitchcock           | UK                  | Psycho              | \n",
       "| Hitchcock           | UK                  | North by Northwest  | \n",
       "| Polanski            | Poland              | Chinatown           | \n",
       "| Scorsese            | US                  | Taxi Driver         | \n",
       "| Spielberg           | US                  | Super 8             | \n",
       "| Spielberg           | US                  | Catch Me If You Can | \n",
       "| Tarantino           | US                  | Reservoir Dogs      | \n",
       "\n",
       "\n"
      ],
      "text/plain": [
       "  surname   nationality title              \n",
       "1 Hitchcock UK          Psycho             \n",
       "2 Hitchcock UK          North by Northwest \n",
       "3 Polanski  Poland      Chinatown          \n",
       "4 Scorsese  US          Taxi Driver        \n",
       "5 Spielberg US          Super 8            \n",
       "6 Spielberg US          Catch Me If You Can\n",
       "7 Tarantino US          Reservoir Dogs     "
      ]
     },
     "metadata": {},
     "output_type": "display_data"
    }
   ],
   "source": [
    "# Merge two datasets\n",
    "m1 <- merge(producers, movies, by.x = \"surname\")\n",
    "m1"
   ]
  },
  {
   "cell_type": "markdown",
   "metadata": {},
   "source": [
    "Find the Dimension of the Data is `dim` "
   ]
  },
  {
   "cell_type": "code",
   "execution_count": 11,
   "metadata": {},
   "outputs": [
    {
     "data": {
      "text/html": [
       "<ol class=list-inline>\n",
       "\t<li>7</li>\n",
       "\t<li>3</li>\n",
       "</ol>\n"
      ],
      "text/latex": [
       "\\begin{enumerate*}\n",
       "\\item 7\n",
       "\\item 3\n",
       "\\end{enumerate*}\n"
      ],
      "text/markdown": [
       "1. 7\n",
       "2. 3\n",
       "\n",
       "\n"
      ],
      "text/plain": [
       "[1] 7 3"
      ]
     },
     "metadata": {},
     "output_type": "display_data"
    }
   ],
   "source": [
    "dim(m1)"
   ]
  },
  {
   "cell_type": "markdown",
   "metadata": {},
   "source": [
    "Let's merge data frames when the common key variables have different names.\n",
    "\n",
    "We change surname to name in the movies data frame. We use the function `identical(x1, x2)` to check if both dataframes are identical."
   ]
  },
  {
   "cell_type": "code",
   "execution_count": 14,
   "metadata": {},
   "outputs": [],
   "source": [
    "# Change name of ` movies ` dataframe\n",
    "colnames(movies)[colnames(movies) == 'surname'] <- 'name'"
   ]
  },
  {
   "cell_type": "code",
   "execution_count": 21,
   "metadata": {},
   "outputs": [
    {
     "data": {
      "text/html": [
       "<table>\n",
       "<thead><tr><th scope=col>surname</th><th scope=col>nationality</th><th scope=col>title</th></tr></thead>\n",
       "<tbody>\n",
       "\t<tr><td>Hitchcock          </td><td>UK                 </td><td>Psycho             </td></tr>\n",
       "\t<tr><td>Hitchcock          </td><td>UK                 </td><td>North by Northwest </td></tr>\n",
       "\t<tr><td>Polanski           </td><td>Poland             </td><td>Chinatown          </td></tr>\n",
       "\t<tr><td>Scorsese           </td><td>US                 </td><td>Taxi Driver        </td></tr>\n",
       "\t<tr><td>Spielberg          </td><td>US                 </td><td>Super 8            </td></tr>\n",
       "\t<tr><td>Spielberg          </td><td>US                 </td><td>Catch Me If You Can</td></tr>\n",
       "\t<tr><td>Tarantino          </td><td>US                 </td><td>Reservoir Dogs     </td></tr>\n",
       "</tbody>\n",
       "</table>\n"
      ],
      "text/latex": [
       "\\begin{tabular}{r|lll}\n",
       " surname & nationality & title\\\\\n",
       "\\hline\n",
       "\t Hitchcock           & UK                  & Psycho             \\\\\n",
       "\t Hitchcock           & UK                  & North by Northwest \\\\\n",
       "\t Polanski            & Poland              & Chinatown          \\\\\n",
       "\t Scorsese            & US                  & Taxi Driver        \\\\\n",
       "\t Spielberg           & US                  & Super 8            \\\\\n",
       "\t Spielberg           & US                  & Catch Me If You Can\\\\\n",
       "\t Tarantino           & US                  & Reservoir Dogs     \\\\\n",
       "\\end{tabular}\n"
      ],
      "text/markdown": [
       "\n",
       "surname | nationality | title | \n",
       "|---|---|---|---|---|---|---|\n",
       "| Hitchcock           | UK                  | Psycho              | \n",
       "| Hitchcock           | UK                  | North by Northwest  | \n",
       "| Polanski            | Poland              | Chinatown           | \n",
       "| Scorsese            | US                  | Taxi Driver         | \n",
       "| Spielberg           | US                  | Super 8             | \n",
       "| Spielberg           | US                  | Catch Me If You Can | \n",
       "| Tarantino           | US                  | Reservoir Dogs      | \n",
       "\n",
       "\n"
      ],
      "text/plain": [
       "  surname   nationality title              \n",
       "1 Hitchcock UK          Psycho             \n",
       "2 Hitchcock UK          North by Northwest \n",
       "3 Polanski  Poland      Chinatown          \n",
       "4 Scorsese  US          Taxi Driver        \n",
       "5 Spielberg US          Super 8            \n",
       "6 Spielberg US          Catch Me If You Can\n",
       "7 Tarantino US          Reservoir Dogs     "
      ]
     },
     "metadata": {},
     "output_type": "display_data"
    }
   ],
   "source": [
    "# Merge with different key value\n",
    "m2 <- merge(producers, movies, by.x = \"surname\", by.y = \"name\")\n",
    "m2"
   ]
  },
  {
   "cell_type": "code",
   "execution_count": 22,
   "metadata": {},
   "outputs": [
    {
     "data": {
      "text/html": [
       "<table>\n",
       "<thead><tr><th scope=col>surname</th><th scope=col>nationality</th><th scope=col>title</th></tr></thead>\n",
       "<tbody>\n",
       "\t<tr><td>Hitchcock          </td><td>UK                 </td><td>Psycho             </td></tr>\n",
       "\t<tr><td>Hitchcock          </td><td>UK                 </td><td>North by Northwest </td></tr>\n",
       "\t<tr><td>Polanski           </td><td>Poland             </td><td>Chinatown          </td></tr>\n",
       "\t<tr><td>Scorsese           </td><td>US                 </td><td>Taxi Driver        </td></tr>\n",
       "\t<tr><td>Spielberg          </td><td>US                 </td><td>Super 8            </td></tr>\n",
       "\t<tr><td>Spielberg          </td><td>US                 </td><td>Catch Me If You Can</td></tr>\n",
       "</tbody>\n",
       "</table>\n"
      ],
      "text/latex": [
       "\\begin{tabular}{r|lll}\n",
       " surname & nationality & title\\\\\n",
       "\\hline\n",
       "\t Hitchcock           & UK                  & Psycho             \\\\\n",
       "\t Hitchcock           & UK                  & North by Northwest \\\\\n",
       "\t Polanski            & Poland              & Chinatown          \\\\\n",
       "\t Scorsese            & US                  & Taxi Driver        \\\\\n",
       "\t Spielberg           & US                  & Super 8            \\\\\n",
       "\t Spielberg           & US                  & Catch Me If You Can\\\\\n",
       "\\end{tabular}\n"
      ],
      "text/markdown": [
       "\n",
       "surname | nationality | title | \n",
       "|---|---|---|---|---|---|\n",
       "| Hitchcock           | UK                  | Psycho              | \n",
       "| Hitchcock           | UK                  | North by Northwest  | \n",
       "| Polanski            | Poland              | Chinatown           | \n",
       "| Scorsese            | US                  | Taxi Driver         | \n",
       "| Spielberg           | US                  | Super 8             | \n",
       "| Spielberg           | US                  | Catch Me If You Can | \n",
       "\n",
       "\n"
      ],
      "text/plain": [
       "  surname   nationality title              \n",
       "1 Hitchcock UK          Psycho             \n",
       "2 Hitchcock UK          North by Northwest \n",
       "3 Polanski  Poland      Chinatown          \n",
       "4 Scorsese  US          Taxi Driver        \n",
       "5 Spielberg US          Super 8            \n",
       "6 Spielberg US          Catch Me If You Can"
      ]
     },
     "metadata": {},
     "output_type": "display_data"
    }
   ],
   "source": [
    "# Print head of the data\n",
    "head(m2)"
   ]
  },
  {
   "cell_type": "code",
   "execution_count": 23,
   "metadata": {},
   "outputs": [
    {
     "data": {
      "text/html": [
       "<table>\n",
       "<thead><tr><th></th><th scope=col>surname</th><th scope=col>nationality</th><th scope=col>title</th></tr></thead>\n",
       "<tbody>\n",
       "\t<tr><th scope=row>2</th><td>Hitchcock          </td><td>UK                 </td><td>North by Northwest </td></tr>\n",
       "\t<tr><th scope=row>3</th><td>Polanski           </td><td>Poland             </td><td>Chinatown          </td></tr>\n",
       "\t<tr><th scope=row>4</th><td>Scorsese           </td><td>US                 </td><td>Taxi Driver        </td></tr>\n",
       "\t<tr><th scope=row>5</th><td>Spielberg          </td><td>US                 </td><td>Super 8            </td></tr>\n",
       "\t<tr><th scope=row>6</th><td>Spielberg          </td><td>US                 </td><td>Catch Me If You Can</td></tr>\n",
       "\t<tr><th scope=row>7</th><td>Tarantino          </td><td>US                 </td><td>Reservoir Dogs     </td></tr>\n",
       "</tbody>\n",
       "</table>\n"
      ],
      "text/latex": [
       "\\begin{tabular}{r|lll}\n",
       "  & surname & nationality & title\\\\\n",
       "\\hline\n",
       "\t2 & Hitchcock           & UK                  & North by Northwest \\\\\n",
       "\t3 & Polanski            & Poland              & Chinatown          \\\\\n",
       "\t4 & Scorsese            & US                  & Taxi Driver        \\\\\n",
       "\t5 & Spielberg           & US                  & Super 8            \\\\\n",
       "\t6 & Spielberg           & US                  & Catch Me If You Can\\\\\n",
       "\t7 & Tarantino           & US                  & Reservoir Dogs     \\\\\n",
       "\\end{tabular}\n"
      ],
      "text/markdown": [
       "\n",
       "| <!--/--> | surname | nationality | title | \n",
       "|---|---|---|---|---|---|\n",
       "| 2 | Hitchcock           | UK                  | North by Northwest  | \n",
       "| 3 | Polanski            | Poland              | Chinatown           | \n",
       "| 4 | Scorsese            | US                  | Taxi Driver         | \n",
       "| 5 | Spielberg           | US                  | Super 8             | \n",
       "| 6 | Spielberg           | US                  | Catch Me If You Can | \n",
       "| 7 | Tarantino           | US                  | Reservoir Dogs      | \n",
       "\n",
       "\n"
      ],
      "text/plain": [
       "  surname   nationality title              \n",
       "2 Hitchcock UK          North by Northwest \n",
       "3 Polanski  Poland      Chinatown          \n",
       "4 Scorsese  US          Taxi Driver        \n",
       "5 Spielberg US          Super 8            \n",
       "6 Spielberg US          Catch Me If You Can\n",
       "7 Tarantino US          Reservoir Dogs     "
      ]
     },
     "metadata": {},
     "output_type": "display_data"
    }
   ],
   "source": [
    "tail(m2)"
   ]
  },
  {
   "cell_type": "code",
   "execution_count": 25,
   "metadata": {},
   "outputs": [
    {
     "data": {
      "text/html": [
       "TRUE"
      ],
      "text/latex": [
       "TRUE"
      ],
      "text/markdown": [
       "TRUE"
      ],
      "text/plain": [
       "[1] TRUE"
      ]
     },
     "metadata": {},
     "output_type": "display_data"
    }
   ],
   "source": [
    "# Check if data are identical\n",
    "identical(m1, m2)"
   ]
  },
  {
   "cell_type": "code",
   "execution_count": 27,
   "metadata": {},
   "outputs": [
    {
     "data": {
      "text/plain": [
       "   surname          nationality           title          \n",
       " Length:7           Length:7           Length:7          \n",
       " Class :character   Class :character   Class :character  \n",
       " Mode  :character   Mode  :character   Mode  :character  "
      ]
     },
     "metadata": {},
     "output_type": "display_data"
    }
   ],
   "source": [
    "summary(m1)"
   ]
  },
  {
   "cell_type": "code",
   "execution_count": 28,
   "metadata": {},
   "outputs": [
    {
     "data": {
      "text/plain": [
       "   surname          nationality           title          \n",
       " Length:7           Length:7           Length:7          \n",
       " Class :character   Class :character   Class :character  \n",
       " Mode  :character   Mode  :character   Mode  :character  "
      ]
     },
     "metadata": {},
     "output_type": "display_data"
    }
   ],
   "source": [
    "summary(m2)"
   ]
  },
  {
   "cell_type": "markdown",
   "metadata": {},
   "source": [
    "### Partial match\n",
    "\n",
    "It is not surprising that two dataframes do not have the same common key variables. In the full matching, the dataframe returns only rows found in both x and y data frame. With partial merging, it is possible to keep the rows with no matching rows in the other data frame. These rows will have NA in those columns that are usually filled with values from y. We can do that by setting all.x= TRUE.\n",
    "\n",
    "For instance, we can add a new producer, Lucas, in the producer data frame without the movie references in movies data frame. If we set all.x= FALSE, R will join only the matching values in both data set. In our case, the producer Lucas will not be join to the merge because it is missing from one dataset.\n",
    "\n",
    "Let's see the dimension of each output when we specify all.x= TRUE and when we don't."
   ]
  },
  {
   "cell_type": "code",
   "execution_count": 30,
   "metadata": {},
   "outputs": [
    {
     "data": {
      "text/html": [
       "<ol class=list-inline>\n",
       "\t<li>'Lucas'</li>\n",
       "\t<li>'US'</li>\n",
       "</ol>\n"
      ],
      "text/latex": [
       "\\begin{enumerate*}\n",
       "\\item 'Lucas'\n",
       "\\item 'US'\n",
       "\\end{enumerate*}\n"
      ],
      "text/markdown": [
       "1. 'Lucas'\n",
       "2. 'US'\n",
       "\n",
       "\n"
      ],
      "text/plain": [
       "[1] \"Lucas\" \"US\"   "
      ]
     },
     "metadata": {},
     "output_type": "display_data"
    }
   ],
   "source": [
    "# Create a new producer\n",
    "add_producer <-  c('Lucas', 'US')\n",
    "add_producer"
   ]
  },
  {
   "cell_type": "code",
   "execution_count": 32,
   "metadata": {},
   "outputs": [
    {
     "data": {
      "text/html": [
       "<table>\n",
       "<thead><tr><th scope=col>surname</th><th scope=col>nationality</th></tr></thead>\n",
       "<tbody>\n",
       "\t<tr><td>Spielberg</td><td>US       </td></tr>\n",
       "\t<tr><td>Scorsese </td><td>US       </td></tr>\n",
       "\t<tr><td>Hitchcock</td><td>UK       </td></tr>\n",
       "\t<tr><td>Tarantino</td><td>US       </td></tr>\n",
       "\t<tr><td>Polanski </td><td>Poland   </td></tr>\n",
       "\t<tr><td>Lucas    </td><td>US       </td></tr>\n",
       "\t<tr><td>Lucas    </td><td>US       </td></tr>\n",
       "</tbody>\n",
       "</table>\n"
      ],
      "text/latex": [
       "\\begin{tabular}{r|ll}\n",
       " surname & nationality\\\\\n",
       "\\hline\n",
       "\t Spielberg & US       \\\\\n",
       "\t Scorsese  & US       \\\\\n",
       "\t Hitchcock & UK       \\\\\n",
       "\t Tarantino & US       \\\\\n",
       "\t Polanski  & Poland   \\\\\n",
       "\t Lucas     & US       \\\\\n",
       "\t Lucas     & US       \\\\\n",
       "\\end{tabular}\n"
      ],
      "text/markdown": [
       "\n",
       "surname | nationality | \n",
       "|---|---|---|---|---|---|---|\n",
       "| Spielberg | US        | \n",
       "| Scorsese  | US        | \n",
       "| Hitchcock | UK        | \n",
       "| Tarantino | US        | \n",
       "| Polanski  | Poland    | \n",
       "| Lucas     | US        | \n",
       "| Lucas     | US        | \n",
       "\n",
       "\n"
      ],
      "text/plain": [
       "  surname   nationality\n",
       "1 Spielberg US         \n",
       "2 Scorsese  US         \n",
       "3 Hitchcock UK         \n",
       "4 Tarantino US         \n",
       "5 Polanski  Poland     \n",
       "6 Lucas     US         \n",
       "7 Lucas     US         "
      ]
     },
     "metadata": {},
     "output_type": "display_data"
    }
   ],
   "source": [
    "#  Append it to the ` producer` dataframe\n",
    "producers <- rbind(producers, add_producer)\n",
    "producers"
   ]
  },
  {
   "cell_type": "code",
   "execution_count": 33,
   "metadata": {},
   "outputs": [
    {
     "data": {
      "text/html": [
       "<table>\n",
       "<thead><tr><th scope=col>surname</th><th scope=col>nationality</th><th scope=col>title</th></tr></thead>\n",
       "<tbody>\n",
       "\t<tr><td>Hitchcock          </td><td>UK                 </td><td>Psycho             </td></tr>\n",
       "\t<tr><td>Hitchcock          </td><td>UK                 </td><td>North by Northwest </td></tr>\n",
       "\t<tr><td>Lucas              </td><td>US                 </td><td>NA                 </td></tr>\n",
       "\t<tr><td>Lucas              </td><td>US                 </td><td>NA                 </td></tr>\n",
       "\t<tr><td>Polanski           </td><td>Poland             </td><td>Chinatown          </td></tr>\n",
       "\t<tr><td>Scorsese           </td><td>US                 </td><td>Taxi Driver        </td></tr>\n",
       "\t<tr><td>Spielberg          </td><td>US                 </td><td>Super 8            </td></tr>\n",
       "\t<tr><td>Spielberg          </td><td>US                 </td><td>Catch Me If You Can</td></tr>\n",
       "\t<tr><td>Tarantino          </td><td>US                 </td><td>Reservoir Dogs     </td></tr>\n",
       "</tbody>\n",
       "</table>\n"
      ],
      "text/latex": [
       "\\begin{tabular}{r|lll}\n",
       " surname & nationality & title\\\\\n",
       "\\hline\n",
       "\t Hitchcock           & UK                  & Psycho             \\\\\n",
       "\t Hitchcock           & UK                  & North by Northwest \\\\\n",
       "\t Lucas               & US                  & NA                 \\\\\n",
       "\t Lucas               & US                  & NA                 \\\\\n",
       "\t Polanski            & Poland              & Chinatown          \\\\\n",
       "\t Scorsese            & US                  & Taxi Driver        \\\\\n",
       "\t Spielberg           & US                  & Super 8            \\\\\n",
       "\t Spielberg           & US                  & Catch Me If You Can\\\\\n",
       "\t Tarantino           & US                  & Reservoir Dogs     \\\\\n",
       "\\end{tabular}\n"
      ],
      "text/markdown": [
       "\n",
       "surname | nationality | title | \n",
       "|---|---|---|---|---|---|---|---|---|\n",
       "| Hitchcock           | UK                  | Psycho              | \n",
       "| Hitchcock           | UK                  | North by Northwest  | \n",
       "| Lucas               | US                  | NA                  | \n",
       "| Lucas               | US                  | NA                  | \n",
       "| Polanski            | Poland              | Chinatown           | \n",
       "| Scorsese            | US                  | Taxi Driver         | \n",
       "| Spielberg           | US                  | Super 8             | \n",
       "| Spielberg           | US                  | Catch Me If You Can | \n",
       "| Tarantino           | US                  | Reservoir Dogs      | \n",
       "\n",
       "\n"
      ],
      "text/plain": [
       "  surname   nationality title              \n",
       "1 Hitchcock UK          Psycho             \n",
       "2 Hitchcock UK          North by Northwest \n",
       "3 Lucas     US          NA                 \n",
       "4 Lucas     US          NA                 \n",
       "5 Polanski  Poland      Chinatown          \n",
       "6 Scorsese  US          Taxi Driver        \n",
       "7 Spielberg US          Super 8            \n",
       "8 Spielberg US          Catch Me If You Can\n",
       "9 Tarantino US          Reservoir Dogs     "
      ]
     },
     "metadata": {},
     "output_type": "display_data"
    }
   ],
   "source": [
    "# Use a partial merge \n",
    "m3 <-merge(producers, movies, by.x = \"surname\", by.y = \"name\", all.x = TRUE)\n",
    "m3"
   ]
  },
  {
   "cell_type": "code",
   "execution_count": 34,
   "metadata": {},
   "outputs": [
    {
     "data": {
      "text/html": [
       "<ol class=list-inline>\n",
       "\t<li>7</li>\n",
       "\t<li>3</li>\n",
       "</ol>\n"
      ],
      "text/latex": [
       "\\begin{enumerate*}\n",
       "\\item 7\n",
       "\\item 3\n",
       "\\end{enumerate*}\n"
      ],
      "text/markdown": [
       "1. 7\n",
       "2. 3\n",
       "\n",
       "\n"
      ],
      "text/plain": [
       "[1] 7 3"
      ]
     },
     "metadata": {},
     "output_type": "display_data"
    }
   ],
   "source": [
    "# Compare the dimension of each data frame\n",
    "dim(m1)"
   ]
  },
  {
   "cell_type": "code",
   "execution_count": 36,
   "metadata": {},
   "outputs": [
    {
     "data": {
      "text/html": [
       "<ol class=list-inline>\n",
       "\t<li>7</li>\n",
       "\t<li>3</li>\n",
       "</ol>\n"
      ],
      "text/latex": [
       "\\begin{enumerate*}\n",
       "\\item 7\n",
       "\\item 3\n",
       "\\end{enumerate*}\n"
      ],
      "text/markdown": [
       "1. 7\n",
       "2. 3\n",
       "\n",
       "\n"
      ],
      "text/plain": [
       "[1] 7 3"
      ]
     },
     "metadata": {},
     "output_type": "display_data"
    }
   ],
   "source": [
    "dim(m2) "
   ]
  },
  {
   "cell_type": "code",
   "execution_count": 37,
   "metadata": {},
   "outputs": [
    {
     "data": {
      "text/html": [
       "<ol class=list-inline>\n",
       "\t<li>9</li>\n",
       "\t<li>3</li>\n",
       "</ol>\n"
      ],
      "text/latex": [
       "\\begin{enumerate*}\n",
       "\\item 9\n",
       "\\item 3\n",
       "\\end{enumerate*}\n"
      ],
      "text/markdown": [
       "1. 9\n",
       "2. 3\n",
       "\n",
       "\n"
      ],
      "text/plain": [
       "[1] 9 3"
      ]
     },
     "metadata": {},
     "output_type": "display_data"
    }
   ],
   "source": [
    "dim(m3)"
   ]
  },
  {
   "cell_type": "markdown",
   "metadata": {},
   "source": [
    "As we can see, the dimension of the new data frame 8x3 compared with 7x3 for m1 and m2. R includes NA for the missing author in the books data frame."
   ]
  },
  {
   "cell_type": "code",
   "execution_count": 38,
   "metadata": {},
   "outputs": [
    {
     "ename": "ERROR",
     "evalue": "Error in `[.data.frame`(x, order(x, na.last = na.last, decreasing = decreasing)): undefined columns selected\n",
     "output_type": "error",
     "traceback": [
      "Error in `[.data.frame`(x, order(x, na.last = na.last, decreasing = decreasing)): undefined columns selected\nTraceback:\n",
      "1. sort(m3)",
      "2. sort.default(m3)",
      "3. x[order(x, na.last = na.last, decreasing = decreasing)]",
      "4. `[.data.frame`(x, order(x, na.last = na.last, decreasing = decreasing))",
      "5. stop(\"undefined columns selected\")"
     ]
    }
   ],
   "source": [
    "sort(m3)"
   ]
  }
 ],
 "metadata": {
  "kernelspec": {
   "display_name": "R",
   "language": "R",
   "name": "ir"
  },
  "language_info": {
   "codemirror_mode": "r",
   "file_extension": ".r",
   "mimetype": "text/x-r-source",
   "name": "R",
   "pygments_lexer": "r",
   "version": "3.5.1"
  }
 },
 "nbformat": 4,
 "nbformat_minor": 2
}
