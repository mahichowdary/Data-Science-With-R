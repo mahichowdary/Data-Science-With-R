{
 "cells": [
  {
   "cell_type": "markdown",
   "metadata": {},
   "source": [
    "<h1 align='Center'>R Programing </h1>"
   ]
  },
  {
   "cell_type": "markdown",
   "metadata": {},
   "source": [
    "R is a programming language and software environment for statistical analysis, graphics representation and reporting. R was created by `Ross Ihaka and Robert Gentleman` at the `University of Auckland`, New Zealand, and is currently developed by the R Development Core Team. R is freely available under the GNU General Public License, and pre-compiled binary versions are provided for various operating systems like Linux, Windows and Mac. This programming language was named R, based on the first letter of first name of the two R authors (Robert Gentleman and Ross Ihaka), and partly a play on the name of the Bell Labs Language S.\n",
    "\n",
    "\n",
    "\n",
    "**Features of R**\n",
    "\n",
    "As stated earlier, R is a programming language and software environment for statistical analysis, graphics representation and reporting. The following are the important features of R −\n",
    "\n",
    "1. R is a well-developed, simple and effective programming language which includes conditionals, loops, user defined recursive functions and input and output facilities.\n",
    "\n",
    "2. R has an effective data handling and storage facility,\n",
    "\n",
    "3. R provides a suite of operators for calculations on arrays, lists, vectors and matrices.\n",
    "\n",
    "4. R provides a large, coherent and integrated collection of tools for data analysis.\n",
    "\n",
    "5. R provides graphical facilities for data analysis and display either directly at the computer or printing at the papers.\n",
    "\n",
    "As a conclusion, R is world’s most widely used statistics programming language. It's the # 1 choice of data scientists and supported by a vibrant and talented community of contributors. R is taught in universities and deployed in mission critical business applications. This tutorial will teach you R programming along with suitable examples in simple and easy steps."
   ]
  },
  {
   "cell_type": "code",
   "execution_count": null,
   "metadata": {},
   "outputs": [],
   "source": []
  }
 ],
 "metadata": {
  "kernelspec": {
   "display_name": "R",
   "language": "R",
   "name": "ir"
  },
  "language_info": {
   "codemirror_mode": "r",
   "file_extension": ".r",
   "mimetype": "text/x-r-source",
   "name": "R",
   "pygments_lexer": "r",
   "version": "3.5.1"
  }
 },
 "nbformat": 4,
 "nbformat_minor": 2
}
