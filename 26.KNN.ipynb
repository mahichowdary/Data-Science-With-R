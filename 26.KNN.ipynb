{
 "cells": [
  {
   "cell_type": "code",
   "execution_count": null,
   "metadata": {},
   "outputs": [],
   "source": [
    "# Read in `iris` data\n",
    "iris <- read.csv(url(\"http://archive.ics.uci.edu/ml/machine-learning-databases/iris/iris.data\"), \n",
    "                 header = FALSE) \n",
    "\n",
    "# Print first lines\n",
    "head(iris)"
   ]
  },
  {
   "cell_type": "code",
   "execution_count": null,
   "metadata": {},
   "outputs": [],
   "source": [
    "# Add column names\n",
    "names(iris) <- c(\"Sepal.Length\", \"Sepal.Width\", \"Petal.Length\", \"Petal.Width\", \"Species\")\n",
    "\n",
    "# Check the result\n",
    "iris"
   ]
  },
  {
   "cell_type": "code",
   "execution_count": null,
   "metadata": {},
   "outputs": [],
   "source": [
    "summary(iris)"
   ]
  },
  {
   "cell_type": "code",
   "execution_count": null,
   "metadata": {},
   "outputs": [],
   "source": [
    "#install.packages('ggvis')\n",
    "# Load in `ggvis`\n",
    "library(ggvis)\n",
    "\n",
    "# Iris scatter plot\n",
    "iris %>% ggvis(~Sepal.Length, ~Sepal.Width, fill = ~Species) %>% layer_points()\n"
   ]
  },
  {
   "cell_type": "code",
   "execution_count": 47,
   "metadata": {},
   "outputs": [],
   "source": [
    "iris %>% ggvis(~Petal.Length, ~Petal.Width, fill = ~Species) %>% layer_points()"
   ]
  },
  {
   "cell_type": "code",
   "execution_count": 38,
   "metadata": {},
   "outputs": [],
   "source": [
    "library(ISLR)"
   ]
  },
  {
   "cell_type": "code",
   "execution_count": 40,
   "metadata": {},
   "outputs": [
    {
     "data": {
      "text/html": [
       "<table>\n",
       "<thead><tr><th scope=col>Sepal.Length</th><th scope=col>Sepal.Width</th><th scope=col>Petal.Length</th><th scope=col>Petal.Width</th><th scope=col>Species</th></tr></thead>\n",
       "<tbody>\n",
       "\t<tr><td>5.1        </td><td>3.5        </td><td>1.4        </td><td>0.2        </td><td>Iris-setosa</td></tr>\n",
       "\t<tr><td>4.9        </td><td>3.0        </td><td>1.4        </td><td>0.2        </td><td>Iris-setosa</td></tr>\n",
       "\t<tr><td>4.7        </td><td>3.2        </td><td>1.3        </td><td>0.2        </td><td>Iris-setosa</td></tr>\n",
       "\t<tr><td>4.6        </td><td>3.1        </td><td>1.5        </td><td>0.2        </td><td>Iris-setosa</td></tr>\n",
       "\t<tr><td>5.0        </td><td>3.6        </td><td>1.4        </td><td>0.2        </td><td>Iris-setosa</td></tr>\n",
       "\t<tr><td>5.4        </td><td>3.9        </td><td>1.7        </td><td>0.4        </td><td>Iris-setosa</td></tr>\n",
       "</tbody>\n",
       "</table>\n"
      ],
      "text/latex": [
       "\\begin{tabular}{r|lllll}\n",
       " Sepal.Length & Sepal.Width & Petal.Length & Petal.Width & Species\\\\\n",
       "\\hline\n",
       "\t 5.1         & 3.5         & 1.4         & 0.2         & Iris-setosa\\\\\n",
       "\t 4.9         & 3.0         & 1.4         & 0.2         & Iris-setosa\\\\\n",
       "\t 4.7         & 3.2         & 1.3         & 0.2         & Iris-setosa\\\\\n",
       "\t 4.6         & 3.1         & 1.5         & 0.2         & Iris-setosa\\\\\n",
       "\t 5.0         & 3.6         & 1.4         & 0.2         & Iris-setosa\\\\\n",
       "\t 5.4         & 3.9         & 1.7         & 0.4         & Iris-setosa\\\\\n",
       "\\end{tabular}\n"
      ],
      "text/markdown": [
       "\n",
       "| Sepal.Length | Sepal.Width | Petal.Length | Petal.Width | Species |\n",
       "|---|---|---|---|---|\n",
       "| 5.1         | 3.5         | 1.4         | 0.2         | Iris-setosa |\n",
       "| 4.9         | 3.0         | 1.4         | 0.2         | Iris-setosa |\n",
       "| 4.7         | 3.2         | 1.3         | 0.2         | Iris-setosa |\n",
       "| 4.6         | 3.1         | 1.5         | 0.2         | Iris-setosa |\n",
       "| 5.0         | 3.6         | 1.4         | 0.2         | Iris-setosa |\n",
       "| 5.4         | 3.9         | 1.7         | 0.4         | Iris-setosa |\n",
       "\n"
      ],
      "text/plain": [
       "  Sepal.Length Sepal.Width Petal.Length Petal.Width Species    \n",
       "1 5.1          3.5         1.4          0.2         Iris-setosa\n",
       "2 4.9          3.0         1.4          0.2         Iris-setosa\n",
       "3 4.7          3.2         1.3          0.2         Iris-setosa\n",
       "4 4.6          3.1         1.5          0.2         Iris-setosa\n",
       "5 5.0          3.6         1.4          0.2         Iris-setosa\n",
       "6 5.4          3.9         1.7          0.4         Iris-setosa"
      ]
     },
     "metadata": {},
     "output_type": "display_data"
    }
   ],
   "source": [
    "head(iris)"
   ]
  },
  {
   "cell_type": "code",
   "execution_count": 42,
   "metadata": {},
   "outputs": [
    {
     "data": {
      "text/html": [
       "<table>\n",
       "<thead><tr><th></th><th scope=col>Sepal.Length</th><th scope=col>Sepal.Width</th><th scope=col>Petal.Length</th><th scope=col>Petal.Width</th><th scope=col>Species</th></tr></thead>\n",
       "<tbody>\n",
       "\t<tr><th scope=row>145</th><td>6.7           </td><td>3.3           </td><td>5.7           </td><td>2.5           </td><td>Iris-virginica</td></tr>\n",
       "\t<tr><th scope=row>146</th><td>6.7           </td><td>3.0           </td><td>5.2           </td><td>2.3           </td><td>Iris-virginica</td></tr>\n",
       "\t<tr><th scope=row>147</th><td>6.3           </td><td>2.5           </td><td>5.0           </td><td>1.9           </td><td>Iris-virginica</td></tr>\n",
       "\t<tr><th scope=row>148</th><td>6.5           </td><td>3.0           </td><td>5.2           </td><td>2.0           </td><td>Iris-virginica</td></tr>\n",
       "\t<tr><th scope=row>149</th><td>6.2           </td><td>3.4           </td><td>5.4           </td><td>2.3           </td><td>Iris-virginica</td></tr>\n",
       "\t<tr><th scope=row>150</th><td>5.9           </td><td>3.0           </td><td>5.1           </td><td>1.8           </td><td>Iris-virginica</td></tr>\n",
       "</tbody>\n",
       "</table>\n"
      ],
      "text/latex": [
       "\\begin{tabular}{r|lllll}\n",
       "  & Sepal.Length & Sepal.Width & Petal.Length & Petal.Width & Species\\\\\n",
       "\\hline\n",
       "\t145 & 6.7            & 3.3            & 5.7            & 2.5            & Iris-virginica\\\\\n",
       "\t146 & 6.7            & 3.0            & 5.2            & 2.3            & Iris-virginica\\\\\n",
       "\t147 & 6.3            & 2.5            & 5.0            & 1.9            & Iris-virginica\\\\\n",
       "\t148 & 6.5            & 3.0            & 5.2            & 2.0            & Iris-virginica\\\\\n",
       "\t149 & 6.2            & 3.4            & 5.4            & 2.3            & Iris-virginica\\\\\n",
       "\t150 & 5.9            & 3.0            & 5.1            & 1.8            & Iris-virginica\\\\\n",
       "\\end{tabular}\n"
      ],
      "text/markdown": [
       "\n",
       "| <!--/--> | Sepal.Length | Sepal.Width | Petal.Length | Petal.Width | Species |\n",
       "|---|---|---|---|---|---|\n",
       "| 145 | 6.7            | 3.3            | 5.7            | 2.5            | Iris-virginica |\n",
       "| 146 | 6.7            | 3.0            | 5.2            | 2.3            | Iris-virginica |\n",
       "| 147 | 6.3            | 2.5            | 5.0            | 1.9            | Iris-virginica |\n",
       "| 148 | 6.5            | 3.0            | 5.2            | 2.0            | Iris-virginica |\n",
       "| 149 | 6.2            | 3.4            | 5.4            | 2.3            | Iris-virginica |\n",
       "| 150 | 5.9            | 3.0            | 5.1            | 1.8            | Iris-virginica |\n",
       "\n"
      ],
      "text/plain": [
       "    Sepal.Length Sepal.Width Petal.Length Petal.Width Species       \n",
       "145 6.7          3.3         5.7          2.5         Iris-virginica\n",
       "146 6.7          3.0         5.2          2.3         Iris-virginica\n",
       "147 6.3          2.5         5.0          1.9         Iris-virginica\n",
       "148 6.5          3.0         5.2          2.0         Iris-virginica\n",
       "149 6.2          3.4         5.4          2.3         Iris-virginica\n",
       "150 5.9          3.0         5.1          1.8         Iris-virginica"
      ]
     },
     "metadata": {},
     "output_type": "display_data"
    }
   ],
   "source": [
    "tail(iris)"
   ]
  },
  {
   "cell_type": "code",
   "execution_count": 43,
   "metadata": {},
   "outputs": [
    {
     "data": {
      "text/plain": [
       "  Sepal.Length    Sepal.Width     Petal.Length    Petal.Width   \n",
       " Min.   :4.300   Min.   :2.000   Min.   :1.000   Min.   :0.100  \n",
       " 1st Qu.:5.100   1st Qu.:2.800   1st Qu.:1.600   1st Qu.:0.300  \n",
       " Median :5.800   Median :3.000   Median :4.350   Median :1.300  \n",
       " Mean   :5.843   Mean   :3.054   Mean   :3.759   Mean   :1.199  \n",
       " 3rd Qu.:6.400   3rd Qu.:3.300   3rd Qu.:5.100   3rd Qu.:1.800  \n",
       " Max.   :7.900   Max.   :4.400   Max.   :6.900   Max.   :2.500  \n",
       "            Species  \n",
       " Iris-setosa    :50  \n",
       " Iris-versicolor:50  \n",
       " Iris-virginica :50  \n",
       "                     \n",
       "                     \n",
       "                     "
      ]
     },
     "metadata": {},
     "output_type": "display_data"
    }
   ],
   "source": [
    "summary(iris)"
   ]
  },
  {
   "cell_type": "code",
   "execution_count": 44,
   "metadata": {},
   "outputs": [
    {
     "name": "stdout",
     "output_type": "stream",
     "text": [
      "'data.frame':\t150 obs. of  5 variables:\n",
      " $ Sepal.Length: num  5.1 4.9 4.7 4.6 5 5.4 4.6 5 4.4 4.9 ...\n",
      " $ Sepal.Width : num  3.5 3 3.2 3.1 3.6 3.9 3.4 3.4 2.9 3.1 ...\n",
      " $ Petal.Length: num  1.4 1.4 1.3 1.5 1.4 1.7 1.4 1.5 1.4 1.5 ...\n",
      " $ Petal.Width : num  0.2 0.2 0.2 0.2 0.2 0.4 0.3 0.2 0.2 0.1 ...\n",
      " $ Species     : Factor w/ 3 levels \"Iris-setosa\",..: 1 1 1 1 1 1 1 1 1 1 ...\n"
     ]
    }
   ],
   "source": [
    "str(iris)"
   ]
  },
  {
   "cell_type": "code",
   "execution_count": 45,
   "metadata": {},
   "outputs": [
    {
     "data": {
      "text/html": [
       "1"
      ],
      "text/latex": [
       "1"
      ],
      "text/markdown": [
       "1"
      ],
      "text/plain": [
       "[1] 1"
      ]
     },
     "metadata": {},
     "output_type": "display_data"
    }
   ],
   "source": [
    "#Standardizing the data\n",
    "stand.features <- scale(iris[1:4])  #only choosing the feature data columns\n",
    "\n",
    "var(stand.features[,1])"
   ]
  },
  {
   "cell_type": "code",
   "execution_count": 46,
   "metadata": {},
   "outputs": [
    {
     "data": {
      "text/html": [
       "<table>\n",
       "<thead><tr><th scope=col>Sepal.Length</th><th scope=col>Sepal.Width</th><th scope=col>Petal.Length</th><th scope=col>Petal.Width</th><th scope=col>Species</th></tr></thead>\n",
       "<tbody>\n",
       "\t<tr><td>-0.8976739 </td><td> 1.0286113 </td><td>-1.336794  </td><td>-1.308593  </td><td>Iris-setosa</td></tr>\n",
       "\t<tr><td>-1.1392005 </td><td>-0.1245404 </td><td>-1.336794  </td><td>-1.308593  </td><td>Iris-setosa</td></tr>\n",
       "\t<tr><td>-1.3807271 </td><td> 0.3367203 </td><td>-1.393470  </td><td>-1.308593  </td><td>Iris-setosa</td></tr>\n",
       "\t<tr><td>-1.5014904 </td><td> 0.1060900 </td><td>-1.280118  </td><td>-1.308593  </td><td>Iris-setosa</td></tr>\n",
       "\t<tr><td>-1.0184372 </td><td> 1.2592416 </td><td>-1.336794  </td><td>-1.308593  </td><td>Iris-setosa</td></tr>\n",
       "\t<tr><td>-0.5353840 </td><td> 1.9511326 </td><td>-1.166767  </td><td>-1.046525  </td><td>Iris-setosa</td></tr>\n",
       "</tbody>\n",
       "</table>\n"
      ],
      "text/latex": [
       "\\begin{tabular}{r|lllll}\n",
       " Sepal.Length & Sepal.Width & Petal.Length & Petal.Width & Species\\\\\n",
       "\\hline\n",
       "\t -0.8976739  &  1.0286113  & -1.336794   & -1.308593   & Iris-setosa\\\\\n",
       "\t -1.1392005  & -0.1245404  & -1.336794   & -1.308593   & Iris-setosa\\\\\n",
       "\t -1.3807271  &  0.3367203  & -1.393470   & -1.308593   & Iris-setosa\\\\\n",
       "\t -1.5014904  &  0.1060900  & -1.280118   & -1.308593   & Iris-setosa\\\\\n",
       "\t -1.0184372  &  1.2592416  & -1.336794   & -1.308593   & Iris-setosa\\\\\n",
       "\t -0.5353840  &  1.9511326  & -1.166767   & -1.046525   & Iris-setosa\\\\\n",
       "\\end{tabular}\n"
      ],
      "text/markdown": [
       "\n",
       "| Sepal.Length | Sepal.Width | Petal.Length | Petal.Width | Species |\n",
       "|---|---|---|---|---|\n",
       "| -0.8976739  |  1.0286113  | -1.336794   | -1.308593   | Iris-setosa |\n",
       "| -1.1392005  | -0.1245404  | -1.336794   | -1.308593   | Iris-setosa |\n",
       "| -1.3807271  |  0.3367203  | -1.393470   | -1.308593   | Iris-setosa |\n",
       "| -1.5014904  |  0.1060900  | -1.280118   | -1.308593   | Iris-setosa |\n",
       "| -1.0184372  |  1.2592416  | -1.336794   | -1.308593   | Iris-setosa |\n",
       "| -0.5353840  |  1.9511326  | -1.166767   | -1.046525   | Iris-setosa |\n",
       "\n"
      ],
      "text/plain": [
       "  Sepal.Length Sepal.Width Petal.Length Petal.Width Species    \n",
       "1 -0.8976739    1.0286113  -1.336794    -1.308593   Iris-setosa\n",
       "2 -1.1392005   -0.1245404  -1.336794    -1.308593   Iris-setosa\n",
       "3 -1.3807271    0.3367203  -1.393470    -1.308593   Iris-setosa\n",
       "4 -1.5014904    0.1060900  -1.280118    -1.308593   Iris-setosa\n",
       "5 -1.0184372    1.2592416  -1.336794    -1.308593   Iris-setosa\n",
       "6 -0.5353840    1.9511326  -1.166767    -1.046525   Iris-setosa"
      ]
     },
     "metadata": {},
     "output_type": "display_data"
    }
   ],
   "source": [
    "#Getting the final data\n",
    "final.data <- cbind(stand.features,iris[5])\n",
    "\n",
    "head(final.data)"
   ]
  },
  {
   "cell_type": "code",
   "execution_count": 57,
   "metadata": {},
   "outputs": [
    {
     "data": {
      "text/html": [
       "<ol class=list-inline>\n",
       "\t<li>TRUE</li>\n",
       "\t<li>TRUE</li>\n",
       "\t<li>TRUE</li>\n",
       "\t<li>TRUE</li>\n",
       "\t<li>TRUE</li>\n",
       "\t<li>TRUE</li>\n",
       "</ol>\n"
      ],
      "text/latex": [
       "\\begin{enumerate*}\n",
       "\\item TRUE\n",
       "\\item TRUE\n",
       "\\item TRUE\n",
       "\\item TRUE\n",
       "\\item TRUE\n",
       "\\item TRUE\n",
       "\\end{enumerate*}\n"
      ],
      "text/markdown": [
       "1. TRUE\n",
       "2. TRUE\n",
       "3. TRUE\n",
       "4. TRUE\n",
       "5. TRUE\n",
       "6. TRUE\n",
       "\n",
       "\n"
      ],
      "text/plain": [
       "[1] TRUE TRUE TRUE TRUE TRUE TRUE"
      ]
     },
     "metadata": {},
     "output_type": "display_data"
    }
   ],
   "source": [
    "#Training and test splits\n",
    "set.seed(101)\n",
    "\n",
    "library(caTools)\n",
    "\n",
    "sample <- sample.split(final.data$Species, SplitRatio = .80)\n",
    "head(sample)"
   ]
  },
  {
   "cell_type": "code",
   "execution_count": 58,
   "metadata": {},
   "outputs": [
    {
     "data": {
      "text/html": [
       "<table>\n",
       "<thead><tr><th scope=col>Sepal.Length</th><th scope=col>Sepal.Width</th><th scope=col>Petal.Length</th><th scope=col>Petal.Width</th><th scope=col>Species</th></tr></thead>\n",
       "<tbody>\n",
       "\t<tr><td>-0.8976739 </td><td> 1.0286113 </td><td>-1.336794  </td><td>-1.308593  </td><td>Iris-setosa</td></tr>\n",
       "\t<tr><td>-1.1392005 </td><td>-0.1245404 </td><td>-1.336794  </td><td>-1.308593  </td><td>Iris-setosa</td></tr>\n",
       "\t<tr><td>-1.3807271 </td><td> 0.3367203 </td><td>-1.393470  </td><td>-1.308593  </td><td>Iris-setosa</td></tr>\n",
       "\t<tr><td>-1.5014904 </td><td> 0.1060900 </td><td>-1.280118  </td><td>-1.308593  </td><td>Iris-setosa</td></tr>\n",
       "\t<tr><td>-1.0184372 </td><td> 1.2592416 </td><td>-1.336794  </td><td>-1.308593  </td><td>Iris-setosa</td></tr>\n",
       "\t<tr><td>-0.5353840 </td><td> 1.9511326 </td><td>-1.166767  </td><td>-1.046525  </td><td>Iris-setosa</td></tr>\n",
       "</tbody>\n",
       "</table>\n"
      ],
      "text/latex": [
       "\\begin{tabular}{r|lllll}\n",
       " Sepal.Length & Sepal.Width & Petal.Length & Petal.Width & Species\\\\\n",
       "\\hline\n",
       "\t -0.8976739  &  1.0286113  & -1.336794   & -1.308593   & Iris-setosa\\\\\n",
       "\t -1.1392005  & -0.1245404  & -1.336794   & -1.308593   & Iris-setosa\\\\\n",
       "\t -1.3807271  &  0.3367203  & -1.393470   & -1.308593   & Iris-setosa\\\\\n",
       "\t -1.5014904  &  0.1060900  & -1.280118   & -1.308593   & Iris-setosa\\\\\n",
       "\t -1.0184372  &  1.2592416  & -1.336794   & -1.308593   & Iris-setosa\\\\\n",
       "\t -0.5353840  &  1.9511326  & -1.166767   & -1.046525   & Iris-setosa\\\\\n",
       "\\end{tabular}\n"
      ],
      "text/markdown": [
       "\n",
       "| Sepal.Length | Sepal.Width | Petal.Length | Petal.Width | Species |\n",
       "|---|---|---|---|---|\n",
       "| -0.8976739  |  1.0286113  | -1.336794   | -1.308593   | Iris-setosa |\n",
       "| -1.1392005  | -0.1245404  | -1.336794   | -1.308593   | Iris-setosa |\n",
       "| -1.3807271  |  0.3367203  | -1.393470   | -1.308593   | Iris-setosa |\n",
       "| -1.5014904  |  0.1060900  | -1.280118   | -1.308593   | Iris-setosa |\n",
       "| -1.0184372  |  1.2592416  | -1.336794   | -1.308593   | Iris-setosa |\n",
       "| -0.5353840  |  1.9511326  | -1.166767   | -1.046525   | Iris-setosa |\n",
       "\n"
      ],
      "text/plain": [
       "  Sepal.Length Sepal.Width Petal.Length Petal.Width Species    \n",
       "1 -0.8976739    1.0286113  -1.336794    -1.308593   Iris-setosa\n",
       "2 -1.1392005   -0.1245404  -1.336794    -1.308593   Iris-setosa\n",
       "3 -1.3807271    0.3367203  -1.393470    -1.308593   Iris-setosa\n",
       "4 -1.5014904    0.1060900  -1.280118    -1.308593   Iris-setosa\n",
       "5 -1.0184372    1.2592416  -1.336794    -1.308593   Iris-setosa\n",
       "6 -0.5353840    1.9511326  -1.166767    -1.046525   Iris-setosa"
      ]
     },
     "metadata": {},
     "output_type": "display_data"
    }
   ],
   "source": [
    "train <- subset(final.data, sample == TRUE)\n",
    "head(train)"
   ]
  },
  {
   "cell_type": "code",
   "execution_count": 61,
   "metadata": {},
   "outputs": [
    {
     "data": {
      "text/html": [
       "<table>\n",
       "<thead><tr><th></th><th scope=col>Sepal.Length</th><th scope=col>Sepal.Width</th><th scope=col>Petal.Length</th><th scope=col>Petal.Width</th><th scope=col>Species</th></tr></thead>\n",
       "<tbody>\n",
       "\t<tr><th scope=row>11</th><td>-0.5353840 </td><td> 1.4898719 </td><td>-1.280118  </td><td>-1.308593  </td><td>Iris-setosa</td></tr>\n",
       "\t<tr><th scope=row>14</th><td>-1.8637803 </td><td>-0.1245404 </td><td>-1.506822  </td><td>-1.439627  </td><td>Iris-setosa</td></tr>\n",
       "\t<tr><th scope=row>17</th><td>-0.5353840 </td><td> 1.9511326 </td><td>-1.393470  </td><td>-1.046525  </td><td>Iris-setosa</td></tr>\n",
       "\t<tr><th scope=row>22</th><td>-0.8976739 </td><td> 1.4898719 </td><td>-1.280118  </td><td>-1.046525  </td><td>Iris-setosa</td></tr>\n",
       "\t<tr><th scope=row>25</th><td>-1.2599638 </td><td> 0.7979809 </td><td>-1.053415  </td><td>-1.308593  </td><td>Iris-setosa</td></tr>\n",
       "\t<tr><th scope=row>26</th><td>-1.0184372 </td><td>-0.1245404 </td><td>-1.223442  </td><td>-1.308593  </td><td>Iris-setosa</td></tr>\n",
       "</tbody>\n",
       "</table>\n"
      ],
      "text/latex": [
       "\\begin{tabular}{r|lllll}\n",
       "  & Sepal.Length & Sepal.Width & Petal.Length & Petal.Width & Species\\\\\n",
       "\\hline\n",
       "\t11 & -0.5353840  &  1.4898719  & -1.280118   & -1.308593   & Iris-setosa\\\\\n",
       "\t14 & -1.8637803  & -0.1245404  & -1.506822   & -1.439627   & Iris-setosa\\\\\n",
       "\t17 & -0.5353840  &  1.9511326  & -1.393470   & -1.046525   & Iris-setosa\\\\\n",
       "\t22 & -0.8976739  &  1.4898719  & -1.280118   & -1.046525   & Iris-setosa\\\\\n",
       "\t25 & -1.2599638  &  0.7979809  & -1.053415   & -1.308593   & Iris-setosa\\\\\n",
       "\t26 & -1.0184372  & -0.1245404  & -1.223442   & -1.308593   & Iris-setosa\\\\\n",
       "\\end{tabular}\n"
      ],
      "text/markdown": [
       "\n",
       "| <!--/--> | Sepal.Length | Sepal.Width | Petal.Length | Petal.Width | Species |\n",
       "|---|---|---|---|---|---|\n",
       "| 11 | -0.5353840  |  1.4898719  | -1.280118   | -1.308593   | Iris-setosa |\n",
       "| 14 | -1.8637803  | -0.1245404  | -1.506822   | -1.439627   | Iris-setosa |\n",
       "| 17 | -0.5353840  |  1.9511326  | -1.393470   | -1.046525   | Iris-setosa |\n",
       "| 22 | -0.8976739  |  1.4898719  | -1.280118   | -1.046525   | Iris-setosa |\n",
       "| 25 | -1.2599638  |  0.7979809  | -1.053415   | -1.308593   | Iris-setosa |\n",
       "| 26 | -1.0184372  | -0.1245404  | -1.223442   | -1.308593   | Iris-setosa |\n",
       "\n"
      ],
      "text/plain": [
       "   Sepal.Length Sepal.Width Petal.Length Petal.Width Species    \n",
       "11 -0.5353840    1.4898719  -1.280118    -1.308593   Iris-setosa\n",
       "14 -1.8637803   -0.1245404  -1.506822    -1.439627   Iris-setosa\n",
       "17 -0.5353840    1.9511326  -1.393470    -1.046525   Iris-setosa\n",
       "22 -0.8976739    1.4898719  -1.280118    -1.046525   Iris-setosa\n",
       "25 -1.2599638    0.7979809  -1.053415    -1.308593   Iris-setosa\n",
       "26 -1.0184372   -0.1245404  -1.223442    -1.308593   Iris-setosa"
      ]
     },
     "metadata": {},
     "output_type": "display_data"
    }
   ],
   "source": [
    "test <- subset(final.data, sample == FALSE)\n",
    "head(test)"
   ]
  },
  {
   "cell_type": "code",
   "execution_count": 62,
   "metadata": {},
   "outputs": [],
   "source": [
    "#Building a KNN model\n",
    "\n",
    "library(class)"
   ]
  },
  {
   "cell_type": "code",
   "execution_count": 75,
   "metadata": {},
   "outputs": [
    {
     "data": {
      "text/html": [
       "<ol class=list-inline>\n",
       "\t<li>Iris-setosa</li>\n",
       "\t<li>Iris-setosa</li>\n",
       "\t<li>Iris-setosa</li>\n",
       "\t<li>Iris-setosa</li>\n",
       "\t<li>Iris-setosa</li>\n",
       "\t<li>Iris-setosa</li>\n",
       "\t<li>Iris-setosa</li>\n",
       "\t<li>Iris-setosa</li>\n",
       "\t<li>Iris-setosa</li>\n",
       "\t<li>Iris-setosa</li>\n",
       "\t<li>Iris-versicolor</li>\n",
       "\t<li>Iris-versicolor</li>\n",
       "\t<li>Iris-versicolor</li>\n",
       "\t<li>Iris-versicolor</li>\n",
       "\t<li>Iris-versicolor</li>\n",
       "\t<li>Iris-versicolor</li>\n",
       "\t<li>Iris-versicolor</li>\n",
       "\t<li>Iris-virginica</li>\n",
       "\t<li>Iris-versicolor</li>\n",
       "\t<li>Iris-versicolor</li>\n",
       "\t<li>Iris-virginica</li>\n",
       "\t<li>Iris-virginica</li>\n",
       "\t<li>Iris-virginica</li>\n",
       "\t<li>Iris-virginica</li>\n",
       "\t<li>Iris-virginica</li>\n",
       "\t<li>Iris-virginica</li>\n",
       "\t<li>Iris-virginica</li>\n",
       "\t<li>Iris-virginica</li>\n",
       "\t<li>Iris-virginica</li>\n",
       "\t<li>Iris-virginica</li>\n",
       "</ol>\n",
       "\n",
       "<details>\n",
       "\t<summary style=display:list-item;cursor:pointer>\n",
       "\t\t<strong>Levels</strong>:\n",
       "\t</summary>\n",
       "\t<ol class=list-inline>\n",
       "\t\t<li>'Iris-setosa'</li>\n",
       "\t\t<li>'Iris-versicolor'</li>\n",
       "\t\t<li>'Iris-virginica'</li>\n",
       "\t</ol>\n",
       "</details>"
      ],
      "text/latex": [
       "\\begin{enumerate*}\n",
       "\\item Iris-setosa\n",
       "\\item Iris-setosa\n",
       "\\item Iris-setosa\n",
       "\\item Iris-setosa\n",
       "\\item Iris-setosa\n",
       "\\item Iris-setosa\n",
       "\\item Iris-setosa\n",
       "\\item Iris-setosa\n",
       "\\item Iris-setosa\n",
       "\\item Iris-setosa\n",
       "\\item Iris-versicolor\n",
       "\\item Iris-versicolor\n",
       "\\item Iris-versicolor\n",
       "\\item Iris-versicolor\n",
       "\\item Iris-versicolor\n",
       "\\item Iris-versicolor\n",
       "\\item Iris-versicolor\n",
       "\\item Iris-virginica\n",
       "\\item Iris-versicolor\n",
       "\\item Iris-versicolor\n",
       "\\item Iris-virginica\n",
       "\\item Iris-virginica\n",
       "\\item Iris-virginica\n",
       "\\item Iris-virginica\n",
       "\\item Iris-virginica\n",
       "\\item Iris-virginica\n",
       "\\item Iris-virginica\n",
       "\\item Iris-virginica\n",
       "\\item Iris-virginica\n",
       "\\item Iris-virginica\n",
       "\\end{enumerate*}\n",
       "\n",
       "\\emph{Levels}: \\begin{enumerate*}\n",
       "\\item 'Iris-setosa'\n",
       "\\item 'Iris-versicolor'\n",
       "\\item 'Iris-virginica'\n",
       "\\end{enumerate*}\n"
      ],
      "text/markdown": [
       "1. Iris-setosa\n",
       "2. Iris-setosa\n",
       "3. Iris-setosa\n",
       "4. Iris-setosa\n",
       "5. Iris-setosa\n",
       "6. Iris-setosa\n",
       "7. Iris-setosa\n",
       "8. Iris-setosa\n",
       "9. Iris-setosa\n",
       "10. Iris-setosa\n",
       "11. Iris-versicolor\n",
       "12. Iris-versicolor\n",
       "13. Iris-versicolor\n",
       "14. Iris-versicolor\n",
       "15. Iris-versicolor\n",
       "16. Iris-versicolor\n",
       "17. Iris-versicolor\n",
       "18. Iris-virginica\n",
       "19. Iris-versicolor\n",
       "20. Iris-versicolor\n",
       "21. Iris-virginica\n",
       "22. Iris-virginica\n",
       "23. Iris-virginica\n",
       "24. Iris-virginica\n",
       "25. Iris-virginica\n",
       "26. Iris-virginica\n",
       "27. Iris-virginica\n",
       "28. Iris-virginica\n",
       "29. Iris-virginica\n",
       "30. Iris-virginica\n",
       "\n",
       "\n",
       "\n",
       "**Levels**: 1. 'Iris-setosa'\n",
       "2. 'Iris-versicolor'\n",
       "3. 'Iris-virginica'\n",
       "\n",
       "\n"
      ],
      "text/plain": [
       " [1] Iris-setosa     Iris-setosa     Iris-setosa     Iris-setosa    \n",
       " [5] Iris-setosa     Iris-setosa     Iris-setosa     Iris-setosa    \n",
       " [9] Iris-setosa     Iris-setosa     Iris-versicolor Iris-versicolor\n",
       "[13] Iris-versicolor Iris-versicolor Iris-versicolor Iris-versicolor\n",
       "[17] Iris-versicolor Iris-virginica  Iris-versicolor Iris-versicolor\n",
       "[21] Iris-virginica  Iris-virginica  Iris-virginica  Iris-virginica \n",
       "[25] Iris-virginica  Iris-virginica  Iris-virginica  Iris-virginica \n",
       "[29] Iris-virginica  Iris-virginica \n",
       "Levels: Iris-setosa Iris-versicolor Iris-virginica"
      ]
     },
     "metadata": {},
     "output_type": "display_data"
    }
   ],
   "source": [
    "predicted.species <- knn(train[1:4],test[1:4],train$Species,k=7)\n",
    "predicted.species"
   ]
  },
  {
   "cell_type": "code",
   "execution_count": 76,
   "metadata": {},
   "outputs": [
    {
     "data": {
      "text/html": [
       "0.0333333333333333"
      ],
      "text/latex": [
       "0.0333333333333333"
      ],
      "text/markdown": [
       "0.0333333333333333"
      ],
      "text/plain": [
       "[1] 0.03333333"
      ]
     },
     "metadata": {},
     "output_type": "display_data"
    }
   ],
   "source": [
    "mean(test$Species != predicted.species)      #misclassification rate"
   ]
  },
  {
   "cell_type": "code",
   "execution_count": 87,
   "metadata": {},
   "outputs": [
    {
     "name": "stdout",
     "output_type": "stream",
     "text": [
      "[1] 0.06666667\n",
      "[1] 0.06666667 0.06666667\n",
      "[1] 0.06666667 0.06666667 0.03333333\n",
      "[1] 0.06666667 0.06666667 0.03333333 0.03333333\n",
      "[1] 0.06666667 0.06666667 0.03333333 0.03333333 0.03333333\n",
      "[1] 0.06666667 0.06666667 0.03333333 0.03333333 0.03333333 0.03333333\n",
      "[1] 0.06666667 0.06666667 0.03333333 0.03333333 0.03333333 0.03333333 0.03333333\n",
      "[1] 0.06666667 0.06666667 0.03333333 0.03333333 0.03333333 0.03333333 0.03333333\n",
      "[8] 0.03333333\n",
      "[1] 0.06666667 0.06666667 0.03333333 0.03333333 0.03333333 0.03333333 0.03333333\n",
      "[8] 0.03333333 0.03333333\n",
      " [1] 0.06666667 0.06666667 0.03333333 0.03333333 0.03333333 0.03333333\n",
      " [7] 0.03333333 0.03333333 0.03333333 0.03333333\n"
     ]
    }
   ],
   "source": [
    "#Choosing k Value (we create an elbow plot)\n",
    "\n",
    "predicted.species <- NULL\n",
    "error.rate <- NULL\n",
    "\n",
    "for(i in 1:10){\n",
    "    set.seed(101)\n",
    "    predicted.species <- knn(train[1:4],test[1:4],train$Species,k=i)\n",
    "    #print(predicted.species)\n",
    "    error.rate[i] <- mean(test$Species != predicted.species)\n",
    "    print(error.rate)\n",
    "}"
   ]
  },
  {
   "cell_type": "code",
   "execution_count": 89,
   "metadata": {},
   "outputs": [
    {
     "data": {
      "image/png": "[encoded data removed]",
      "text/plain": [
       "plot without title"
      ]
     },
     "metadata": {},
     "output_type": "display_data"
    }
   ],
   "source": [
    "slibrary(ggplot2)\n",
    "k.values <- 1:10\n",
    "error.df <- data.frame(error.rate,k.values)\n",
    "pl <- ggplot(error.df,aes(x=k.values,y=error.rate)) + geom_point()\n",
    "pl + geom_line(lty=\"dotted\",color='red')"
   ]
  },
  {
   "cell_type": "code",
   "execution_count": null,
   "metadata": {},
   "outputs": [],
   "source": []
  }
 ],
 "metadata": {
  "kernelspec": {
   "display_name": "R",
   "language": "R",
   "name": "ir"
  },
  "language_info": {
   "codemirror_mode": "r",
   "file_extension": ".r",
   "mimetype": "text/x-r-source",
   "name": "R",
   "pygments_lexer": "r",
   "version": "3.6.1"
  }
 },
 "nbformat": 4,
 "nbformat_minor": 2
}
