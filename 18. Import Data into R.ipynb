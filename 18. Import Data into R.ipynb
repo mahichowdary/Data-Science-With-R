{
 "cells": [
  {
   "cell_type": "markdown",
   "metadata": {},
   "source": [
    "<h1 align=center>Import Data into R</h1>"
   ]
  },
  {
   "cell_type": "markdown",
   "metadata": {},
   "source": [
    "Data could exist in various formats. For each format R has a specific function and argument. This tutorial explains how to import data to R\n",
    "\n",
    "1. Read CSV\n",
    "2. Read Excel files\n",
    "3. readxl_example()\n",
    "4. read_excel()\n",
    "5. excel_sheets()\n",
    "6. Import data from other Statistical software\n",
    "7. Read sas\n",
    "8. Read STATA\n",
    "9. Read SPSS\n",
    "\n",
    "#### Read CSV\n",
    "\n",
    "One of the most widely data store is the .csv (comma-separated values) file formats. R loads an array of libraries during the start-up, including the utils package. This package is convenient to open csv files combined with the reading.csv() function. Here is the syntax for read.csv\n"
   ]
  },
  {
   "cell_type": "raw",
   "metadata": {},
   "source": [
    "read.csv(file, header = TRUE, sep = \",\")"
   ]
  },
  {
   "cell_type": "markdown",
   "metadata": {},
   "source": [
    "### Argument:\n",
    "\n",
    "1. **file**: PATH where the file is stored\n",
    "2. **header**: confirm if the file has a header or not, by default, the header is set to TRUE\n",
    "3. **sep**: the symbol used to split the variable. By default, `,`."
   ]
  },
  {
   "cell_type": "code",
   "execution_count": 7,
   "metadata": {},
   "outputs": [
    {
     "data": {
      "text/html": [
       "<table>\n",
       "<thead><tr><th scope=col>X</th><th scope=col>mpg</th><th scope=col>cyl</th><th scope=col>disp</th><th scope=col>hp</th><th scope=col>drat</th><th scope=col>wt</th><th scope=col>qsec</th><th scope=col>vs</th><th scope=col>am</th><th scope=col>gear</th><th scope=col>carb</th></tr></thead>\n",
       "<tbody>\n",
       "\t<tr><td>Mazda RX4        </td><td>21.0             </td><td>6                </td><td>160              </td><td>110              </td><td>3.90             </td><td>2.620            </td><td>16.46            </td><td>0                </td><td>1                </td><td>4                </td><td>4                </td></tr>\n",
       "\t<tr><td>Mazda RX4 Wag    </td><td>21.0             </td><td>6                </td><td>160              </td><td>110              </td><td>3.90             </td><td>2.875            </td><td>17.02            </td><td>0                </td><td>1                </td><td>4                </td><td>4                </td></tr>\n",
       "\t<tr><td>Datsun 710       </td><td>22.8             </td><td>4                </td><td>108              </td><td> 93              </td><td>3.85             </td><td>2.320            </td><td>18.61            </td><td>1                </td><td>1                </td><td>4                </td><td>1                </td></tr>\n",
       "\t<tr><td>Hornet 4 Drive   </td><td>21.4             </td><td>6                </td><td>258              </td><td>110              </td><td>3.08             </td><td>3.215            </td><td>19.44            </td><td>1                </td><td>0                </td><td>3                </td><td>1                </td></tr>\n",
       "\t<tr><td>Hornet Sportabout</td><td>18.7             </td><td>8                </td><td>360              </td><td>175              </td><td>3.15             </td><td>3.440            </td><td>17.02            </td><td>0                </td><td>0                </td><td>3                </td><td>2                </td></tr>\n",
       "\t<tr><td>Valiant          </td><td>18.1             </td><td>6                </td><td>225              </td><td>105              </td><td>2.76             </td><td>3.460            </td><td>20.22            </td><td>1                </td><td>0                </td><td>3                </td><td>1                </td></tr>\n",
       "</tbody>\n",
       "</table>\n"
      ],
      "text/latex": [
       "\\begin{tabular}{r|llllllllllll}\n",
       " X & mpg & cyl & disp & hp & drat & wt & qsec & vs & am & gear & carb\\\\\n",
       "\\hline\n",
       "\t Mazda RX4         & 21.0              & 6                 & 160               & 110               & 3.90              & 2.620             & 16.46             & 0                 & 1                 & 4                 & 4                \\\\\n",
       "\t Mazda RX4 Wag     & 21.0              & 6                 & 160               & 110               & 3.90              & 2.875             & 17.02             & 0                 & 1                 & 4                 & 4                \\\\\n",
       "\t Datsun 710        & 22.8              & 4                 & 108               &  93               & 3.85              & 2.320             & 18.61             & 1                 & 1                 & 4                 & 1                \\\\\n",
       "\t Hornet 4 Drive    & 21.4              & 6                 & 258               & 110               & 3.08              & 3.215             & 19.44             & 1                 & 0                 & 3                 & 1                \\\\\n",
       "\t Hornet Sportabout & 18.7              & 8                 & 360               & 175               & 3.15              & 3.440             & 17.02             & 0                 & 0                 & 3                 & 2                \\\\\n",
       "\t Valiant           & 18.1              & 6                 & 225               & 105               & 2.76              & 3.460             & 20.22             & 1                 & 0                 & 3                 & 1                \\\\\n",
       "\\end{tabular}\n"
      ],
      "text/markdown": [
       "\n",
       "X | mpg | cyl | disp | hp | drat | wt | qsec | vs | am | gear | carb | \n",
       "|---|---|---|---|---|---|\n",
       "| Mazda RX4         | 21.0              | 6                 | 160               | 110               | 3.90              | 2.620             | 16.46             | 0                 | 1                 | 4                 | 4                 | \n",
       "| Mazda RX4 Wag     | 21.0              | 6                 | 160               | 110               | 3.90              | 2.875             | 17.02             | 0                 | 1                 | 4                 | 4                 | \n",
       "| Datsun 710        | 22.8              | 4                 | 108               |  93               | 3.85              | 2.320             | 18.61             | 1                 | 1                 | 4                 | 1                 | \n",
       "| Hornet 4 Drive    | 21.4              | 6                 | 258               | 110               | 3.08              | 3.215             | 19.44             | 1                 | 0                 | 3                 | 1                 | \n",
       "| Hornet Sportabout | 18.7              | 8                 | 360               | 175               | 3.15              | 3.440             | 17.02             | 0                 | 0                 | 3                 | 2                 | \n",
       "| Valiant           | 18.1              | 6                 | 225               | 105               | 2.76              | 3.460             | 20.22             | 1                 | 0                 | 3                 | 1                 | \n",
       "\n",
       "\n"
      ],
      "text/plain": [
       "  X                 mpg  cyl disp hp  drat wt    qsec  vs am gear carb\n",
       "1 Mazda RX4         21.0 6   160  110 3.90 2.620 16.46 0  1  4    4   \n",
       "2 Mazda RX4 Wag     21.0 6   160  110 3.90 2.875 17.02 0  1  4    4   \n",
       "3 Datsun 710        22.8 4   108   93 3.85 2.320 18.61 1  1  4    1   \n",
       "4 Hornet 4 Drive    21.4 6   258  110 3.08 3.215 19.44 1  0  3    1   \n",
       "5 Hornet Sportabout 18.7 8   360  175 3.15 3.440 17.02 0  0  3    2   \n",
       "6 Valiant           18.1 6   225  105 2.76 3.460 20.22 1  0  3    1   "
      ]
     },
     "metadata": {},
     "output_type": "display_data"
    }
   ],
   "source": [
    "PATH <- 'Data/mtcars.csv'\n",
    "df <- read.csv(PATH, header =  TRUE, sep = ',')\n",
    "head(df)"
   ]
  },
  {
   "cell_type": "code",
   "execution_count": 9,
   "metadata": {},
   "outputs": [
    {
     "data": {
      "text/html": [
       "<table>\n",
       "<thead><tr><th></th><th scope=col>X</th><th scope=col>mpg</th><th scope=col>cyl</th><th scope=col>disp</th><th scope=col>hp</th><th scope=col>drat</th><th scope=col>wt</th><th scope=col>qsec</th><th scope=col>vs</th><th scope=col>am</th><th scope=col>gear</th><th scope=col>carb</th></tr></thead>\n",
       "<tbody>\n",
       "\t<tr><th scope=row>27</th><td>Porsche 914-2 </td><td>26.0          </td><td>4             </td><td>120.3         </td><td> 91           </td><td>4.43          </td><td>2.140         </td><td>16.7          </td><td>0             </td><td>1             </td><td>5             </td><td>2             </td></tr>\n",
       "\t<tr><th scope=row>28</th><td>Lotus Europa  </td><td>30.4          </td><td>4             </td><td> 95.1         </td><td>113           </td><td>3.77          </td><td>1.513         </td><td>16.9          </td><td>1             </td><td>1             </td><td>5             </td><td>2             </td></tr>\n",
       "\t<tr><th scope=row>29</th><td>Ford Pantera L</td><td>15.8          </td><td>8             </td><td>351.0         </td><td>264           </td><td>4.22          </td><td>3.170         </td><td>14.5          </td><td>0             </td><td>1             </td><td>5             </td><td>4             </td></tr>\n",
       "\t<tr><th scope=row>30</th><td>Ferrari Dino  </td><td>19.7          </td><td>6             </td><td>145.0         </td><td>175           </td><td>3.62          </td><td>2.770         </td><td>15.5          </td><td>0             </td><td>1             </td><td>5             </td><td>6             </td></tr>\n",
       "\t<tr><th scope=row>31</th><td>Maserati Bora </td><td>15.0          </td><td>8             </td><td>301.0         </td><td>335           </td><td>3.54          </td><td>3.570         </td><td>14.6          </td><td>0             </td><td>1             </td><td>5             </td><td>8             </td></tr>\n",
       "\t<tr><th scope=row>32</th><td>Volvo 142E    </td><td>21.4          </td><td>4             </td><td>121.0         </td><td>109           </td><td>4.11          </td><td>2.780         </td><td>18.6          </td><td>1             </td><td>1             </td><td>4             </td><td>2             </td></tr>\n",
       "</tbody>\n",
       "</table>\n"
      ],
      "text/latex": [
       "\\begin{tabular}{r|llllllllllll}\n",
       "  & X & mpg & cyl & disp & hp & drat & wt & qsec & vs & am & gear & carb\\\\\n",
       "\\hline\n",
       "\t27 & Porsche 914-2  & 26.0           & 4              & 120.3          &  91            & 4.43           & 2.140          & 16.7           & 0              & 1              & 5              & 2             \\\\\n",
       "\t28 & Lotus Europa   & 30.4           & 4              &  95.1          & 113            & 3.77           & 1.513          & 16.9           & 1              & 1              & 5              & 2             \\\\\n",
       "\t29 & Ford Pantera L & 15.8           & 8              & 351.0          & 264            & 4.22           & 3.170          & 14.5           & 0              & 1              & 5              & 4             \\\\\n",
       "\t30 & Ferrari Dino   & 19.7           & 6              & 145.0          & 175            & 3.62           & 2.770          & 15.5           & 0              & 1              & 5              & 6             \\\\\n",
       "\t31 & Maserati Bora  & 15.0           & 8              & 301.0          & 335            & 3.54           & 3.570          & 14.6           & 0              & 1              & 5              & 8             \\\\\n",
       "\t32 & Volvo 142E     & 21.4           & 4              & 121.0          & 109            & 4.11           & 2.780          & 18.6           & 1              & 1              & 4              & 2             \\\\\n",
       "\\end{tabular}\n"
      ],
      "text/markdown": [
       "\n",
       "| <!--/--> | X | mpg | cyl | disp | hp | drat | wt | qsec | vs | am | gear | carb | \n",
       "|---|---|---|---|---|---|\n",
       "| 27 | Porsche 914-2  | 26.0           | 4              | 120.3          |  91            | 4.43           | 2.140          | 16.7           | 0              | 1              | 5              | 2              | \n",
       "| 28 | Lotus Europa   | 30.4           | 4              |  95.1          | 113            | 3.77           | 1.513          | 16.9           | 1              | 1              | 5              | 2              | \n",
       "| 29 | Ford Pantera L | 15.8           | 8              | 351.0          | 264            | 4.22           | 3.170          | 14.5           | 0              | 1              | 5              | 4              | \n",
       "| 30 | Ferrari Dino   | 19.7           | 6              | 145.0          | 175            | 3.62           | 2.770          | 15.5           | 0              | 1              | 5              | 6              | \n",
       "| 31 | Maserati Bora  | 15.0           | 8              | 301.0          | 335            | 3.54           | 3.570          | 14.6           | 0              | 1              | 5              | 8              | \n",
       "| 32 | Volvo 142E     | 21.4           | 4              | 121.0          | 109            | 4.11           | 2.780          | 18.6           | 1              | 1              | 4              | 2              | \n",
       "\n",
       "\n"
      ],
      "text/plain": [
       "   X              mpg  cyl disp  hp  drat wt    qsec vs am gear carb\n",
       "27 Porsche 914-2  26.0 4   120.3  91 4.43 2.140 16.7 0  1  5    2   \n",
       "28 Lotus Europa   30.4 4    95.1 113 3.77 1.513 16.9 1  1  5    2   \n",
       "29 Ford Pantera L 15.8 8   351.0 264 4.22 3.170 14.5 0  1  5    4   \n",
       "30 Ferrari Dino   19.7 6   145.0 175 3.62 2.770 15.5 0  1  5    6   \n",
       "31 Maserati Bora  15.0 8   301.0 335 3.54 3.570 14.6 0  1  5    8   \n",
       "32 Volvo 142E     21.4 4   121.0 109 4.11 2.780 18.6 1  1  4    2   "
      ]
     },
     "metadata": {},
     "output_type": "display_data"
    }
   ],
   "source": [
    "tail(df)"
   ]
  },
  {
   "cell_type": "code",
   "execution_count": 11,
   "metadata": {},
   "outputs": [
    {
     "data": {
      "text/html": [
       "12"
      ],
      "text/latex": [
       "12"
      ],
      "text/markdown": [
       "12"
      ],
      "text/plain": [
       "[1] 12"
      ]
     },
     "metadata": {},
     "output_type": "display_data"
    }
   ],
   "source": [
    "length(df)"
   ]
  },
  {
   "cell_type": "code",
   "execution_count": 13,
   "metadata": {},
   "outputs": [
    {
     "data": {
      "text/html": [
       "'factor'"
      ],
      "text/latex": [
       "'factor'"
      ],
      "text/markdown": [
       "'factor'"
      ],
      "text/plain": [
       "[1] \"factor\""
      ]
     },
     "metadata": {},
     "output_type": "display_data"
    }
   ],
   "source": [
    "class(df$X)"
   ]
  },
  {
   "cell_type": "markdown",
   "metadata": {},
   "source": [
    "#### Read Excel files\n",
    "Excel files are very popular among data analysts. Spreadsheets are easy to work with and flexible. R is equipped with a library readxl to import Excel spreadsheet."
   ]
  },
  {
   "cell_type": "code",
   "execution_count": 14,
   "metadata": {},
   "outputs": [
    {
     "name": "stderr",
     "output_type": "stream",
     "text": [
      "Loading required package: readxl\n",
      "Warning message:\n",
      "\"package 'readxl' was built under R version 3.5.3\""
     ]
    }
   ],
   "source": [
    "require(readxl)"
   ]
  },
  {
   "cell_type": "markdown",
   "metadata": {},
   "source": [
    "to check if readxl is installed in your machine. If you install r with r-conda-essential, the library is already installed. You should see in the command window:"
   ]
  },
  {
   "cell_type": "code",
   "execution_count": 4,
   "metadata": {},
   "outputs": [
    {
     "name": "stderr",
     "output_type": "stream",
     "text": [
      "Warning message:\n",
      "\"package 'readxl' was built under R version 3.5.3\""
     ]
    }
   ],
   "source": [
    "library(readxl)"
   ]
  },
  {
   "cell_type": "markdown",
   "metadata": {},
   "source": [
    "If the package does not exit, you can install it with the conda library or in the terminal, use conda install -c mittner r-readxl.\n",
    "\n",
    "Use the following command to load the library to import excel files."
   ]
  },
  {
   "cell_type": "markdown",
   "metadata": {},
   "source": [
    "**readxl_example()**\n",
    "We use the examples included in the package readxl during this tutorial."
   ]
  },
  {
   "cell_type": "code",
   "execution_count": 5,
   "metadata": {},
   "outputs": [
    {
     "data": {
      "text/html": [
       "<ol class=list-inline>\n",
       "\t<li>'clippy.xls'</li>\n",
       "\t<li>'clippy.xlsx'</li>\n",
       "\t<li>'datasets.xls'</li>\n",
       "\t<li>'datasets.xlsx'</li>\n",
       "\t<li>'deaths.xls'</li>\n",
       "\t<li>'deaths.xlsx'</li>\n",
       "\t<li>'geometry.xls'</li>\n",
       "\t<li>'geometry.xlsx'</li>\n",
       "\t<li>'type-me.xls'</li>\n",
       "\t<li>'type-me.xlsx'</li>\n",
       "</ol>\n"
      ],
      "text/latex": [
       "\\begin{enumerate*}\n",
       "\\item 'clippy.xls'\n",
       "\\item 'clippy.xlsx'\n",
       "\\item 'datasets.xls'\n",
       "\\item 'datasets.xlsx'\n",
       "\\item 'deaths.xls'\n",
       "\\item 'deaths.xlsx'\n",
       "\\item 'geometry.xls'\n",
       "\\item 'geometry.xlsx'\n",
       "\\item 'type-me.xls'\n",
       "\\item 'type-me.xlsx'\n",
       "\\end{enumerate*}\n"
      ],
      "text/markdown": [
       "1. 'clippy.xls'\n",
       "2. 'clippy.xlsx'\n",
       "3. 'datasets.xls'\n",
       "4. 'datasets.xlsx'\n",
       "5. 'deaths.xls'\n",
       "6. 'deaths.xlsx'\n",
       "7. 'geometry.xls'\n",
       "8. 'geometry.xlsx'\n",
       "9. 'type-me.xls'\n",
       "10. 'type-me.xlsx'\n",
       "\n",
       "\n"
      ],
      "text/plain": [
       " [1] \"clippy.xls\"    \"clippy.xlsx\"   \"datasets.xls\"  \"datasets.xlsx\"\n",
       " [5] \"deaths.xls\"    \"deaths.xlsx\"   \"geometry.xls\"  \"geometry.xlsx\"\n",
       " [9] \"type-me.xls\"   \"type-me.xlsx\" "
      ]
     },
     "metadata": {},
     "output_type": "display_data"
    }
   ],
   "source": [
    "readxl_example()"
   ]
  },
  {
   "cell_type": "code",
   "execution_count": 6,
   "metadata": {},
   "outputs": [
    {
     "data": {
      "text/html": [
       "'C:/Users/Kumar/Documents/R/win-library/3.5/readxl/extdata/geometry.xls'"
      ],
      "text/latex": [
       "'C:/Users/Kumar/Documents/R/win-library/3.5/readxl/extdata/geometry.xls'"
      ],
      "text/markdown": [
       "'C:/Users/Kumar/Documents/R/win-library/3.5/readxl/extdata/geometry.xls'"
      ],
      "text/plain": [
       "[1] \"C:/Users/Kumar/Documents/R/win-library/3.5/readxl/extdata/geometry.xls\""
      ]
     },
     "metadata": {},
     "output_type": "display_data"
    }
   ],
   "source": [
    "readxl_example(\"geometry.xls\")"
   ]
  },
  {
   "cell_type": "markdown",
   "metadata": {},
   "source": [
    "#### read_excel()\n",
    "The function read_excel() is of great use when it comes to opening xls and xlsx extention."
   ]
  },
  {
   "cell_type": "raw",
   "metadata": {},
   "source": [
    "read_excel(PATH, sheet = NULL, range= NULL, col_names = TRUE)\n",
    "arguments:\n",
    "-PATH: Path where the excel is located\n",
    "-sheet: Select the sheet to import. By default, all\n",
    "-range: Select the range to import. By default, all non-null cells\n",
    "-col_names: Select the columns to import. By default, all non-null columns"
   ]
  },
  {
   "cell_type": "code",
   "execution_count": 7,
   "metadata": {},
   "outputs": [
    {
     "data": {
      "text/html": [
       "5"
      ],
      "text/latex": [
       "5"
      ],
      "text/markdown": [
       "5"
      ],
      "text/plain": [
       "[1] 5"
      ]
     },
     "metadata": {},
     "output_type": "display_data"
    }
   ],
   "source": [
    "# Store the path of `datasets.xlsx`\n",
    "example <- readxl_example(\"datasets.xlsx\")\n",
    "# Import the spreadsheet\n",
    "df <- read_excel(example)\n",
    "# Count the number of columns\n",
    "length(df)"
   ]
  },
  {
   "cell_type": "code",
   "execution_count": 9,
   "metadata": {},
   "outputs": [
    {
     "data": {
      "text/html": [
       "<ol class=list-inline>\n",
       "\t<li>'iris'</li>\n",
       "\t<li>'mtcars'</li>\n",
       "\t<li>'chickwts'</li>\n",
       "\t<li>'quakes'</li>\n",
       "</ol>\n"
      ],
      "text/latex": [
       "\\begin{enumerate*}\n",
       "\\item 'iris'\n",
       "\\item 'mtcars'\n",
       "\\item 'chickwts'\n",
       "\\item 'quakes'\n",
       "\\end{enumerate*}\n"
      ],
      "text/markdown": [
       "1. 'iris'\n",
       "2. 'mtcars'\n",
       "3. 'chickwts'\n",
       "4. 'quakes'\n",
       "\n",
       "\n"
      ],
      "text/plain": [
       "[1] \"iris\"     \"mtcars\"   \"chickwts\" \"quakes\"  "
      ]
     },
     "metadata": {},
     "output_type": "display_data"
    }
   ],
   "source": [
    "example <- readxl_example(\"datasets.xlsx\")\n",
    "excel_sheets(example)"
   ]
  },
  {
   "cell_type": "code",
   "execution_count": 11,
   "metadata": {},
   "outputs": [
    {
     "data": {
      "text/html": [
       "TRUE"
      ],
      "text/latex": [
       "TRUE"
      ],
      "text/markdown": [
       "TRUE"
      ],
      "text/plain": [
       "[1] TRUE"
      ]
     },
     "metadata": {},
     "output_type": "display_data"
    }
   ],
   "source": [
    "example <- readxl_example(\"datasets.xlsx\")\n",
    "quake <- read_excel(example, sheet = \"quakes\")\n",
    "quake_1 <-read_excel(example, sheet = 4)\n",
    "identical(quake, quake_1)"
   ]
  },
  {
   "cell_type": "markdown",
   "metadata": {},
   "source": [
    "We can control what cells to read in 2 ways\n",
    "\n",
    "1. Use n_max argument to return n rows\n",
    "2. Use range argument combined with cell_rows or cell_cols\n",
    "\n",
    "For example, we set n_max equals to 5 to import the first five rows."
   ]
  },
  {
   "cell_type": "code",
   "execution_count": 19,
   "metadata": {},
   "outputs": [],
   "source": [
    "# Read the first five row: with header\n",
    "iris <-read_excel(example, n_max =5, col_names =TRUE)"
   ]
  },
  {
   "cell_type": "markdown",
   "metadata": {},
   "source": [
    "We can also use the argument range to select rows and columns in the spreadsheet. In the code below, we use the excel style to select the range A1 to B5."
   ]
  },
  {
   "cell_type": "code",
   "execution_count": 20,
   "metadata": {},
   "outputs": [
    {
     "name": "stderr",
     "output_type": "stream",
     "text": [
      "New names:\n",
      "* `` -> ...1\n",
      "* `` -> ...2\n",
      "* `` -> ...3\n",
      "* `` -> ...4\n",
      "* `` -> ...5\n"
     ]
    }
   ],
   "source": [
    "# Read the first five row: without header\n",
    "iris_no_header <-read_excel(example, n_max =5, col_names =FALSE)"
   ]
  },
  {
   "cell_type": "markdown",
   "metadata": {},
   "source": [
    "We can also use the argument range to select rows and columns in the spreadsheet. In the code below, we use the excel style to select the range A1 to B5."
   ]
  },
  {
   "cell_type": "code",
   "execution_count": 18,
   "metadata": {},
   "outputs": [
    {
     "data": {
      "text/html": [
       "<ol class=list-inline>\n",
       "\t<li>4</li>\n",
       "\t<li>2</li>\n",
       "</ol>\n"
      ],
      "text/latex": [
       "\\begin{enumerate*}\n",
       "\\item 4\n",
       "\\item 2\n",
       "\\end{enumerate*}\n"
      ],
      "text/markdown": [
       "1. 4\n",
       "2. 2\n",
       "\n",
       "\n"
      ],
      "text/plain": [
       "[1] 4 2"
      ]
     },
     "metadata": {},
     "output_type": "display_data"
    }
   ],
   "source": [
    "# Read rows A1 to B5\n",
    "example_1 <-read_excel(example, range = \"A1:B5\", col_names =TRUE)\n",
    "dim(example_1)"
   ]
  },
  {
   "cell_type": "markdown",
   "metadata": {},
   "source": [
    "In the second example, we use the function cell_rows() which controls the range of rows to return. If we want to import the rows 1 to 5, we can set cell_rows(1:5). Note that, cell_rows(1:5) returns the same output as cell_rows(5:1)."
   ]
  },
  {
   "cell_type": "code",
   "execution_count": 22,
   "metadata": {},
   "outputs": [
    {
     "data": {
      "text/html": [
       "<ol class=list-inline>\n",
       "\t<li>4</li>\n",
       "\t<li>5</li>\n",
       "</ol>\n"
      ],
      "text/latex": [
       "\\begin{enumerate*}\n",
       "\\item 4\n",
       "\\item 5\n",
       "\\end{enumerate*}\n"
      ],
      "text/markdown": [
       "1. 4\n",
       "2. 5\n",
       "\n",
       "\n"
      ],
      "text/plain": [
       "[1] 4 5"
      ]
     },
     "metadata": {},
     "output_type": "display_data"
    }
   ],
   "source": [
    "# Read rows 1 to 5\n",
    "example_2 <-read_excel(example, range =cell_rows(1:5),col_names =TRUE)\t\t\t\n",
    "dim(example_2)"
   ]
  },
  {
   "cell_type": "code",
   "execution_count": 24,
   "metadata": {},
   "outputs": [
    {
     "name": "stderr",
     "output_type": "stream",
     "text": [
      "New names:\n",
      "* `` -> ...1\n",
      "* `` -> ...2\n",
      "* `` -> ...3\n",
      "* `` -> ...4\n",
      "* `` -> ...5\n"
     ]
    }
   ],
   "source": [
    "iris_row_with_header <-read_excel(example, range =cell_rows(2:3), col_names=TRUE)\n",
    "iris_row_no_header <-read_excel(example, range =cell_rows(2:3),col_names =FALSE)"
   ]
  },
  {
   "cell_type": "code",
   "execution_count": 26,
   "metadata": {},
   "outputs": [
    {
     "data": {
      "text/html": [
       "<ol class=list-inline>\n",
       "\t<li>150</li>\n",
       "\t<li>2</li>\n",
       "</ol>\n"
      ],
      "text/latex": [
       "\\begin{enumerate*}\n",
       "\\item 150\n",
       "\\item 2\n",
       "\\end{enumerate*}\n"
      ],
      "text/markdown": [
       "1. 150\n",
       "2. 2\n",
       "\n",
       "\n"
      ],
      "text/plain": [
       "[1] 150   2"
      ]
     },
     "metadata": {},
     "output_type": "display_data"
    }
   ],
   "source": [
    "#We can select the columns with the letter, like in Excel.\n",
    "# Select columns A and B\n",
    "col <-read_excel(example, range =cell_cols(\"A:B\"))\n",
    "dim(col)"
   ]
  }
 ],
 "metadata": {
  "kernelspec": {
   "display_name": "R",
   "language": "R",
   "name": "ir"
  },
  "language_info": {
   "codemirror_mode": "r",
   "file_extension": ".r",
   "mimetype": "text/x-r-source",
   "name": "R",
   "pygments_lexer": "r",
   "version": "3.5.1"
  }
 },
 "nbformat": 4,
 "nbformat_minor": 2
}
