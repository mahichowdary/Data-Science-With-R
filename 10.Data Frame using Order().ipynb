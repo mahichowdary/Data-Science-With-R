{
 "cells": [
  {
   "cell_type": "markdown",
   "metadata": {},
   "source": [
    "##### R Sort a Data Frame using Order()\n",
    "\n",
    "\n",
    "In data analysis you can sort your data according to a certain variable in the dataset. In R, we can use the help of the function order(). In R, we can easily sort a vector of continuous variable or factor variable. Arranging the data can be of ascending or descending orde\n",
    "\n",
    "**Syntax:**"
   ]
  },
  {
   "cell_type": "raw",
   "metadata": {},
   "source": [
    "sort(x, decreasing = FALSE, na.last = TRUE):"
   ]
  },
  {
   "cell_type": "markdown",
   "metadata": {},
   "source": [
    "**Argument:**\n",
    "\n",
    "* x: A vector containing continuous or factor variable\n",
    "* decreasing: Control for the order of the sort method. By default, decreasing is set to `FALSE`.\n",
    "* last: Indicates whether the `NA` 's value should be put last or not\n",
    "\n",
    "**Example 1**\n",
    "\n",
    "For instance, we can create a tibble data frame and sort one or multiple variables. A tibble data frame is a new approach to data frame. It improves the syntax of data frame and avoid frustrating data type formatting, especially for character to factor. It is also a convenient way to create a data frame by hand, which is our purpose here. To learn more about tibble, please refer to the vignette:"
   ]
  },
  {
   "cell_type": "code",
   "execution_count": 18,
   "metadata": {},
   "outputs": [
    {
     "data": {
      "text/html": [
       "<table>\n",
       "<thead><tr><th scope=col>c1</th><th scope=col>c2</th><th scope=col>c3</th><th scope=col>c4</th><th scope=col>c5</th></tr></thead>\n",
       "<tbody>\n",
       "\t<tr><td>1.322440</td><td>3.639334</td><td>5.806369</td><td>4.021724</td><td>5.703920</td></tr>\n",
       "\t<tr><td>1.533396</td><td>3.770007</td><td>5.683970</td><td>3.674046</td><td>5.677196</td></tr>\n",
       "\t<tr><td>2.061345</td><td>7.521732</td><td>5.614586</td><td>4.884843</td><td>9.332627</td></tr>\n",
       "\t<tr><td>2.411030</td><td>4.019910</td><td>6.548102</td><td>5.037843</td><td>4.144006</td></tr>\n",
       "\t<tr><td>3.200111</td><td>5.495674</td><td>5.208288</td><td>6.259778</td><td>6.073279</td></tr>\n",
       "\t<tr><td>3.201848</td><td>4.098260</td><td>3.503930</td><td>3.880371</td><td>4.312994</td></tr>\n",
       "</tbody>\n",
       "</table>\n"
      ],
      "text/latex": [
       "\\begin{tabular}{r|lllll}\n",
       " c1 & c2 & c3 & c4 & c5\\\\\n",
       "\\hline\n",
       "\t 1.322440 & 3.639334 & 5.806369 & 4.021724 & 5.703920\\\\\n",
       "\t 1.533396 & 3.770007 & 5.683970 & 3.674046 & 5.677196\\\\\n",
       "\t 2.061345 & 7.521732 & 5.614586 & 4.884843 & 9.332627\\\\\n",
       "\t 2.411030 & 4.019910 & 6.548102 & 5.037843 & 4.144006\\\\\n",
       "\t 3.200111 & 5.495674 & 5.208288 & 6.259778 & 6.073279\\\\\n",
       "\t 3.201848 & 4.098260 & 3.503930 & 3.880371 & 4.312994\\\\\n",
       "\\end{tabular}\n"
      ],
      "text/markdown": [
       "\n",
       "c1 | c2 | c3 | c4 | c5 | \n",
       "|---|---|---|---|---|---|\n",
       "| 1.322440 | 3.639334 | 5.806369 | 4.021724 | 5.703920 | \n",
       "| 1.533396 | 3.770007 | 5.683970 | 3.674046 | 5.677196 | \n",
       "| 2.061345 | 7.521732 | 5.614586 | 4.884843 | 9.332627 | \n",
       "| 2.411030 | 4.019910 | 6.548102 | 5.037843 | 4.144006 | \n",
       "| 3.200111 | 5.495674 | 5.208288 | 6.259778 | 6.073279 | \n",
       "| 3.201848 | 4.098260 | 3.503930 | 3.880371 | 4.312994 | \n",
       "\n",
       "\n"
      ],
      "text/plain": [
       "  c1       c2       c3       c4       c5      \n",
       "1 1.322440 3.639334 5.806369 4.021724 5.703920\n",
       "2 1.533396 3.770007 5.683970 3.674046 5.677196\n",
       "3 2.061345 7.521732 5.614586 4.884843 9.332627\n",
       "4 2.411030 4.019910 6.548102 5.037843 4.144006\n",
       "5 3.200111 5.495674 5.208288 6.259778 6.073279\n",
       "6 3.201848 4.098260 3.503930 3.880371 4.312994"
      ]
     },
     "metadata": {},
     "output_type": "display_data"
    }
   ],
   "source": [
    "library(dplyr)\n",
    "set.seed(2)\n",
    "data_frame <- tibble(  \n",
    "    c1 = rnorm(50, 5, 1.5),   \n",
    "    c2 = rnorm(50, 5, 1.5),  \n",
    "    c3 = rnorm(50, 5, 1.5),\n",
    "    c4 = rnorm(50, 5, 1.5), \n",
    "    c5 = rnorm(50, 5, 1.5)\n",
    ")\n",
    "# Sort by c1\n",
    "df <-data_frame[order(data_frame$c1),]\n",
    "head(df)"
   ]
  },
  {
   "cell_type": "code",
   "execution_count": 5,
   "metadata": {
    "collapsed": true
   },
   "outputs": [
    {
     "data": {
      "text/html": [
       "<table>\n",
       "<thead><tr><th scope=col>c1</th><th scope=col>c2</th><th scope=col>c3</th><th scope=col>c4</th><th scope=col>c5</th></tr></thead>\n",
       "<tbody>\n",
       "\t<tr><td>4.573763</td><td>2.941596</td><td>1.975632</td><td>3.302843</td><td>4.955078</td></tr>\n",
       "\t<tr><td>5.434455</td><td>2.884942</td><td>2.386355</td><td>2.563611</td><td>8.387378</td></tr>\n",
       "\t<tr><td>6.188305</td><td>6.578788</td><td>2.414015</td><td>6.231742</td><td>4.439435</td></tr>\n",
       "\t<tr><td>4.630231</td><td>5.580042</td><td>2.819285</td><td>5.755463</td><td>4.118240</td></tr>\n",
       "\t<tr><td>5.007407</td><td>4.919416</td><td>3.433656</td><td>3.642997</td><td>5.105660</td></tr>\n",
       "\t<tr><td>5.626476</td><td>2.317637</td><td>3.458929</td><td>5.597701</td><td>6.539369</td></tr>\n",
       "</tbody>\n",
       "</table>\n"
      ],
      "text/latex": [
       "\\begin{tabular}{r|lllll}\n",
       " c1 & c2 & c3 & c4 & c5\\\\\n",
       "\\hline\n",
       "\t 4.573763 & 2.941596 & 1.975632 & 3.302843 & 4.955078\\\\\n",
       "\t 5.434455 & 2.884942 & 2.386355 & 2.563611 & 8.387378\\\\\n",
       "\t 6.188305 & 6.578788 & 2.414015 & 6.231742 & 4.439435\\\\\n",
       "\t 4.630231 & 5.580042 & 2.819285 & 5.755463 & 4.118240\\\\\n",
       "\t 5.007407 & 4.919416 & 3.433656 & 3.642997 & 5.105660\\\\\n",
       "\t 5.626476 & 2.317637 & 3.458929 & 5.597701 & 6.539369\\\\\n",
       "\\end{tabular}\n"
      ],
      "text/markdown": [
       "\n",
       "c1 | c2 | c3 | c4 | c5 | \n",
       "|---|---|---|---|---|---|\n",
       "| 4.573763 | 2.941596 | 1.975632 | 3.302843 | 4.955078 | \n",
       "| 5.434455 | 2.884942 | 2.386355 | 2.563611 | 8.387378 | \n",
       "| 6.188305 | 6.578788 | 2.414015 | 6.231742 | 4.439435 | \n",
       "| 4.630231 | 5.580042 | 2.819285 | 5.755463 | 4.118240 | \n",
       "| 5.007407 | 4.919416 | 3.433656 | 3.642997 | 5.105660 | \n",
       "| 5.626476 | 2.317637 | 3.458929 | 5.597701 | 6.539369 | \n",
       "\n",
       "\n"
      ],
      "text/plain": [
       "  c1       c2       c3       c4       c5      \n",
       "1 4.573763 2.941596 1.975632 3.302843 4.955078\n",
       "2 5.434455 2.884942 2.386355 2.563611 8.387378\n",
       "3 6.188305 6.578788 2.414015 6.231742 4.439435\n",
       "4 4.630231 5.580042 2.819285 5.755463 4.118240\n",
       "5 5.007407 4.919416 3.433656 3.642997 5.105660\n",
       "6 5.626476 2.317637 3.458929 5.597701 6.539369"
      ]
     },
     "metadata": {},
     "output_type": "display_data"
    }
   ],
   "source": [
    "# Sort by c3 and c4\n",
    "df <-data_frame[order(data_frame$c3, data_frame$c4),]\n",
    "head(df)"
   ]
  },
  {
   "cell_type": "code",
   "execution_count": 19,
   "metadata": {
    "collapsed": true
   },
   "outputs": [
    {
     "data": {
      "text/html": [
       "<table>\n",
       "<thead><tr><th scope=col>c1</th><th scope=col>c2</th><th scope=col>c3</th><th scope=col>c4</th><th scope=col>c5</th></tr></thead>\n",
       "<tbody>\n",
       "\t<tr><td>4.161407</td><td>4.419576</td><td>8.165110</td><td>4.018835</td><td>5.143886</td></tr>\n",
       "\t<tr><td>5.198630</td><td>2.051183</td><td>8.072060</td><td>2.985334</td><td>5.575757</td></tr>\n",
       "\t<tr><td>4.640453</td><td>6.403794</td><td>8.013031</td><td>5.696304</td><td>4.474179</td></tr>\n",
       "\t<tr><td>7.384457</td><td>4.787509</td><td>7.565947</td><td>5.085288</td><td>3.810207</td></tr>\n",
       "\t<tr><td>3.440497</td><td>5.237247</td><td>7.038410</td><td>5.539819</td><td>2.848705</td></tr>\n",
       "\t<tr><td>8.136229</td><td>3.618087</td><td>6.861800</td><td>6.632993</td><td>5.597219</td></tr>\n",
       "</tbody>\n",
       "</table>\n"
      ],
      "text/latex": [
       "\\begin{tabular}{r|lllll}\n",
       " c1 & c2 & c3 & c4 & c5\\\\\n",
       "\\hline\n",
       "\t 4.161407 & 4.419576 & 8.165110 & 4.018835 & 5.143886\\\\\n",
       "\t 5.198630 & 2.051183 & 8.072060 & 2.985334 & 5.575757\\\\\n",
       "\t 4.640453 & 6.403794 & 8.013031 & 5.696304 & 4.474179\\\\\n",
       "\t 7.384457 & 4.787509 & 7.565947 & 5.085288 & 3.810207\\\\\n",
       "\t 3.440497 & 5.237247 & 7.038410 & 5.539819 & 2.848705\\\\\n",
       "\t 8.136229 & 3.618087 & 6.861800 & 6.632993 & 5.597219\\\\\n",
       "\\end{tabular}\n"
      ],
      "text/markdown": [
       "\n",
       "c1 | c2 | c3 | c4 | c5 | \n",
       "|---|---|---|---|---|---|\n",
       "| 4.161407 | 4.419576 | 8.165110 | 4.018835 | 5.143886 | \n",
       "| 5.198630 | 2.051183 | 8.072060 | 2.985334 | 5.575757 | \n",
       "| 4.640453 | 6.403794 | 8.013031 | 5.696304 | 4.474179 | \n",
       "| 7.384457 | 4.787509 | 7.565947 | 5.085288 | 3.810207 | \n",
       "| 3.440497 | 5.237247 | 7.038410 | 5.539819 | 2.848705 | \n",
       "| 8.136229 | 3.618087 | 6.861800 | 6.632993 | 5.597219 | \n",
       "\n",
       "\n"
      ],
      "text/plain": [
       "  c1       c2       c3       c4       c5      \n",
       "1 4.161407 4.419576 8.165110 4.018835 5.143886\n",
       "2 5.198630 2.051183 8.072060 2.985334 5.575757\n",
       "3 4.640453 6.403794 8.013031 5.696304 4.474179\n",
       "4 7.384457 4.787509 7.565947 5.085288 3.810207\n",
       "5 3.440497 5.237247 7.038410 5.539819 2.848705\n",
       "6 8.136229 3.618087 6.861800 6.632993 5.597219"
      ]
     },
     "metadata": {},
     "output_type": "display_data"
    }
   ],
   "source": [
    "# Sort by c3(descending) and c4(acending)\n",
    "df <-data_frame[order(-data_frame$c3, data_frame$c4),]\n",
    "head(df)"
   ]
  },
  {
   "cell_type": "code",
   "execution_count": null,
   "metadata": {},
   "outputs": [],
   "source": []
  }
 ],
 "metadata": {
  "kernelspec": {
   "display_name": "R",
   "language": "R",
   "name": "ir"
  },
  "language_info": {
   "codemirror_mode": "r",
   "file_extension": ".r",
   "mimetype": "text/x-r-source",
   "name": "R",
   "pygments_lexer": "r",
   "version": "3.5.1"
  }
 },
 "nbformat": 4,
 "nbformat_minor": 2
}
