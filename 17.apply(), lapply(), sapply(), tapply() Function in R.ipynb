{
 "cells": [
  {
   "cell_type": "markdown",
   "metadata": {},
   "source": [
    "We are Going to Learn about the apply() function collection. \n",
    "\n",
    "**The apply() function is the most basic of all collection. We will also learn sapply(), lapply() and tapply(). The apply collection can be viewed as a substitute to the loop**\n",
    "\n",
    "The apply() collection is bundled with r essential package if you install R with Anaconda. The apply() function can be feed with many functions to perform redundant application on a collection of object (data frame, list, vector, etc.). The purpose of apply() is primarily to avoid explicit uses of loop constructs. They can be used for an input list, matrix or array and apply a function. Any function can be passed into apply().\n",
    "\n",
    "In this tutorial, you will learn\n",
    "\n",
    "**1. apply() function**\n",
    "\n",
    "**2. lapply( )function**\n",
    "\n",
    "**3. sapply() function**\n",
    "\n",
    "**4. Slice vector**\n",
    "\n",
    "**5. tapply() function**\n",
    "\n",
    "    \n",
    "### apply() function\n",
    "We use apply() over a matrice. This function takes 5 arguments:"
   ]
  },
  {
   "cell_type": "raw",
   "metadata": {},
   "source": [
    "apply(X, MARGIN, FUN)\n",
    "Here:\n",
    "-x: an array or matrix\n",
    "-MARGIN:  take a value or range between 1 and 2 to define where to apply the function:\n",
    "-MARGIN=1`: the manipulation is performed on rows\n",
    "-MARGIN=2`: the manipulation is performed on columns\n",
    "-MARGIN=c(1,2)` the manipulation is performed on rows and columns\n",
    "-FUN: tells which function to apply. Built functions like mean, median, sum, min, max and even user-defined functions can be applied"
   ]
  },
  {
   "cell_type": "markdown",
   "metadata": {},
   "source": [
    "The simplest example is to sum a matrice over all the columns. The code apply(m1, 2, sum) will apply the sum function to the matrix 5x6 and return the sum of each column accessible in the dataset."
   ]
  },
  {
   "cell_type": "code",
   "execution_count": 4,
   "metadata": {},
   "outputs": [
    {
     "data": {
      "text/html": [
       "<table>\n",
       "<tbody>\n",
       "\t<tr><td>1 </td><td> 6</td><td>1 </td><td> 6</td><td>1 </td><td> 6</td></tr>\n",
       "\t<tr><td>2 </td><td> 7</td><td>2 </td><td> 7</td><td>2 </td><td> 7</td></tr>\n",
       "\t<tr><td>3 </td><td> 8</td><td>3 </td><td> 8</td><td>3 </td><td> 8</td></tr>\n",
       "\t<tr><td>4 </td><td> 9</td><td>4 </td><td> 9</td><td>4 </td><td> 9</td></tr>\n",
       "\t<tr><td>5 </td><td>10</td><td>5 </td><td>10</td><td>5 </td><td>10</td></tr>\n",
       "</tbody>\n",
       "</table>\n"
      ],
      "text/latex": [
       "\\begin{tabular}{llllll}\n",
       "\t 1  &  6 & 1  &  6 & 1  &  6\\\\\n",
       "\t 2  &  7 & 2  &  7 & 2  &  7\\\\\n",
       "\t 3  &  8 & 3  &  8 & 3  &  8\\\\\n",
       "\t 4  &  9 & 4  &  9 & 4  &  9\\\\\n",
       "\t 5  & 10 & 5  & 10 & 5  & 10\\\\\n",
       "\\end{tabular}\n"
      ],
      "text/markdown": [
       "\n",
       "| 1  |  6 | 1  |  6 | 1  |  6 | \n",
       "| 2  |  7 | 2  |  7 | 2  |  7 | \n",
       "| 3  |  8 | 3  |  8 | 3  |  8 | \n",
       "| 4  |  9 | 4  |  9 | 4  |  9 | \n",
       "| 5  | 10 | 5  | 10 | 5  | 10 | \n",
       "\n",
       "\n"
      ],
      "text/plain": [
       "     [,1] [,2] [,3] [,4] [,5] [,6]\n",
       "[1,] 1     6   1     6   1     6  \n",
       "[2,] 2     7   2     7   2     7  \n",
       "[3,] 3     8   3     8   3     8  \n",
       "[4,] 4     9   4     9   4     9  \n",
       "[5,] 5    10   5    10   5    10  "
      ]
     },
     "metadata": {},
     "output_type": "display_data"
    }
   ],
   "source": [
    "m1 <- matrix(C<-(1:10),nrow=5, ncol=6)\n",
    "m1\n"
   ]
  },
  {
   "cell_type": "code",
   "execution_count": 5,
   "metadata": {},
   "outputs": [
    {
     "data": {
      "text/html": [
       "<ol class=list-inline>\n",
       "\t<li>21</li>\n",
       "\t<li>27</li>\n",
       "\t<li>33</li>\n",
       "\t<li>39</li>\n",
       "\t<li>45</li>\n",
       "</ol>\n"
      ],
      "text/latex": [
       "\\begin{enumerate*}\n",
       "\\item 21\n",
       "\\item 27\n",
       "\\item 33\n",
       "\\item 39\n",
       "\\item 45\n",
       "\\end{enumerate*}\n"
      ],
      "text/markdown": [
       "1. 21\n",
       "2. 27\n",
       "3. 33\n",
       "4. 39\n",
       "5. 45\n",
       "\n",
       "\n"
      ],
      "text/plain": [
       "[1] 21 27 33 39 45"
      ]
     },
     "metadata": {},
     "output_type": "display_data"
    }
   ],
   "source": [
    "a_m1 <- apply(m1, 1, sum)  # ROW\n",
    "a_m1  "
   ]
  },
  {
   "cell_type": "code",
   "execution_count": 10,
   "metadata": {},
   "outputs": [
    {
     "data": {
      "text/html": [
       "<ol class=list-inline>\n",
       "\t<li>15</li>\n",
       "\t<li>40</li>\n",
       "\t<li>15</li>\n",
       "\t<li>40</li>\n",
       "\t<li>15</li>\n",
       "\t<li>40</li>\n",
       "</ol>\n"
      ],
      "text/latex": [
       "\\begin{enumerate*}\n",
       "\\item 15\n",
       "\\item 40\n",
       "\\item 15\n",
       "\\item 40\n",
       "\\item 15\n",
       "\\item 40\n",
       "\\end{enumerate*}\n"
      ],
      "text/markdown": [
       "1. 15\n",
       "2. 40\n",
       "3. 15\n",
       "4. 40\n",
       "5. 15\n",
       "6. 40\n",
       "\n",
       "\n"
      ],
      "text/plain": [
       "[1] 15 40 15 40 15 40"
      ]
     },
     "metadata": {},
     "output_type": "display_data"
    }
   ],
   "source": [
    "a_m1 <- apply(m1, 2, sum)   # COL\n",
    "a_m1"
   ]
  },
  {
   "cell_type": "code",
   "execution_count": 9,
   "metadata": {},
   "outputs": [
    {
     "data": {
      "text/html": [
       "<ol class=list-inline>\n",
       "\t<li>3</li>\n",
       "\t<li>8</li>\n",
       "\t<li>3</li>\n",
       "\t<li>8</li>\n",
       "\t<li>3</li>\n",
       "\t<li>8</li>\n",
       "</ol>\n"
      ],
      "text/latex": [
       "\\begin{enumerate*}\n",
       "\\item 3\n",
       "\\item 8\n",
       "\\item 3\n",
       "\\item 8\n",
       "\\item 3\n",
       "\\item 8\n",
       "\\end{enumerate*}\n"
      ],
      "text/markdown": [
       "1. 3\n",
       "2. 8\n",
       "3. 3\n",
       "4. 8\n",
       "5. 3\n",
       "6. 8\n",
       "\n",
       "\n"
      ],
      "text/plain": [
       "[1] 3 8 3 8 3 8"
      ]
     },
     "metadata": {},
     "output_type": "display_data"
    }
   ],
   "source": [
    "Mean<- apply(m1,2,mean)\n",
    "Mean"
   ]
  },
  {
   "cell_type": "markdown",
   "metadata": {},
   "source": [
    "\n",
    "<img src='Image/apply.png'/>\n",
    "\n",
    "\n",
    "#### lapply() function"
   ]
  },
  {
   "cell_type": "raw",
   "metadata": {},
   "source": [
    "lapply(X, FUN)\n",
    "Arguments:\n",
    "-X: A vector or an object\n",
    "-FUN: Function applied to each element of x\t"
   ]
  },
  {
   "cell_type": "code",
   "execution_count": 2,
   "metadata": {},
   "outputs": [
    {
     "name": "stdout",
     "output_type": "stream",
     "text": [
      "List of 4\n",
      " $ : chr \"spyderman\"\n",
      " $ : chr \"batman\"\n",
      " $ : chr \"vertigo\"\n",
      " $ : chr \"chinatown\"\n"
     ]
    }
   ],
   "source": [
    "movies <- c(\"SPYDERMAN\",\"BATMAN\",\"VERTIGO\",\"CHINATOWN\")\n",
    "movies_lower <-lapply(movies, tolower)\n",
    "str(movies_lower)"
   ]
  },
  {
   "cell_type": "code",
   "execution_count": 4,
   "metadata": {},
   "outputs": [
    {
     "name": "stdout",
     "output_type": "stream",
     "text": [
      " chr [1:4] \"spyderman\" \"batman\" \"vertigo\" \"chinatown\"\n"
     ]
    }
   ],
   "source": [
    "movies_lower <-unlist(lapply(movies,tolower))\n",
    "str(movies_lower)"
   ]
  },
  {
   "cell_type": "markdown",
   "metadata": {},
   "source": [
    "#### sapply() function\n",
    "sapply() function does the same jobs as lapply() function but returns a vector."
   ]
  },
  {
   "cell_type": "raw",
   "metadata": {},
   "source": [
    "sapply(X, FUN)\n",
    "Arguments:\n",
    "-X: A vector or an object\n",
    "-FUN: Function applied to each element of x"
   ]
  },
  {
   "cell_type": "code",
   "execution_count": 6,
   "metadata": {},
   "outputs": [
    {
     "data": {
      "text/html": [
       "<dl>\n",
       "\t<dt>$speed</dt>\n",
       "\t\t<dd>4</dd>\n",
       "\t<dt>$dist</dt>\n",
       "\t\t<dd>2</dd>\n",
       "</dl>\n"
      ],
      "text/latex": [
       "\\begin{description}\n",
       "\\item[\\$speed] 4\n",
       "\\item[\\$dist] 2\n",
       "\\end{description}\n"
      ],
      "text/markdown": [
       "$speed\n",
       ":   4\n",
       "$dist\n",
       ":   2\n",
       "\n",
       "\n"
      ],
      "text/plain": [
       "$speed\n",
       "[1] 4\n",
       "\n",
       "$dist\n",
       "[1] 2\n"
      ]
     },
     "metadata": {},
     "output_type": "display_data"
    }
   ],
   "source": [
    "dt <- cars\n",
    "lmn_cars <- lapply(dt, min)\n",
    "smn_cars <- sapply(dt, min)\n",
    "lmn_cars"
   ]
  },
  {
   "cell_type": "code",
   "execution_count": 8,
   "metadata": {},
   "outputs": [
    {
     "data": {
      "text/html": [
       "<dl>\n",
       "\t<dt>$speed</dt>\n",
       "\t\t<dd>25</dd>\n",
       "\t<dt>$dist</dt>\n",
       "\t\t<dd>120</dd>\n",
       "</dl>\n"
      ],
      "text/latex": [
       "\\begin{description}\n",
       "\\item[\\$speed] 25\n",
       "\\item[\\$dist] 120\n",
       "\\end{description}\n"
      ],
      "text/markdown": [
       "$speed\n",
       ":   25\n",
       "$dist\n",
       ":   120\n",
       "\n",
       "\n"
      ],
      "text/plain": [
       "$speed\n",
       "[1] 25\n",
       "\n",
       "$dist\n",
       "[1] 120\n"
      ]
     },
     "metadata": {},
     "output_type": "display_data"
    }
   ],
   "source": [
    "lmxcars <- lapply(dt, max)\n",
    "smxcars <- sapply(dt, max)\n",
    "lmxcars"
   ]
  },
  {
   "cell_type": "code",
   "execution_count": 9,
   "metadata": {},
   "outputs": [
    {
     "data": {
      "text/html": [
       "<dl class=dl-horizontal>\n",
       "\t<dt>speed</dt>\n",
       "\t\t<dd>25</dd>\n",
       "\t<dt>dist</dt>\n",
       "\t\t<dd>120</dd>\n",
       "</dl>\n"
      ],
      "text/latex": [
       "\\begin{description*}\n",
       "\\item[speed] 25\n",
       "\\item[dist] 120\n",
       "\\end{description*}\n"
      ],
      "text/markdown": [
       "speed\n",
       ":   25dist\n",
       ":   120\n",
       "\n"
      ],
      "text/plain": [
       "speed  dist \n",
       "   25   120 "
      ]
     },
     "metadata": {},
     "output_type": "display_data"
    }
   ],
   "source": [
    "smxcars"
   ]
  },
  {
   "cell_type": "code",
   "execution_count": 11,
   "metadata": {},
   "outputs": [
    {
     "data": {
      "text/html": [
       "<dl class=dl-horizontal>\n",
       "\t<dt>speed</dt>\n",
       "\t\t<dd>14.5</dd>\n",
       "\t<dt>dist</dt>\n",
       "\t\t<dd>61</dd>\n",
       "</dl>\n"
      ],
      "text/latex": [
       "\\begin{description*}\n",
       "\\item[speed] 14.5\n",
       "\\item[dist] 61\n",
       "\\end{description*}\n"
      ],
      "text/markdown": [
       "speed\n",
       ":   14.5dist\n",
       ":   61\n",
       "\n"
      ],
      "text/plain": [
       "speed  dist \n",
       " 14.5  61.0 "
      ]
     },
     "metadata": {},
     "output_type": "display_data"
    }
   ],
   "source": [
    "avg <- function(x) {  \n",
    "  ( min(x) + max(x) ) / 2}\n",
    "fcars <- sapply(dt, avg)\n",
    "fcars"
   ]
  },
  {
   "cell_type": "markdown",
   "metadata": {},
   "source": [
    "We can summarize the difference between apply(), sapply() and `lapply() in the following table:\n",
    "\n",
    "|Function|Arguments|Objective|Input|Output|\n",
    "|--------|---------|---------|-----|------|\n",
    "|apply|apply(x, MARGIN, FUN)|Apply a function to the rows or columns or both|Data frame or matrix|vector, list, array|\n",
    "|lapply|lapply(X, FUN)|Apply a function to all the elements of the input|List, vector or data frame|list|\n",
    "|sapply|sappy(X FUN)|Apply a function to all the elements of the input|List, vector or data frame|vector or matrix"
   ]
  },
  {
   "cell_type": "markdown",
   "metadata": {},
   "source": [
    "### Slice vector\n",
    "We can use lapply() or sapply() interchangeable to slice a data frame. We create a function, below_average(), that takes a vector of numerical values and returns a vector that only contains the values that are strictly above the average. We compare both results with the identical() function."
   ]
  },
  {
   "cell_type": "code",
   "execution_count": 14,
   "metadata": {},
   "outputs": [
    {
     "data": {
      "text/html": [
       "TRUE"
      ],
      "text/latex": [
       "TRUE"
      ],
      "text/markdown": [
       "TRUE"
      ],
      "text/plain": [
       "[1] TRUE"
      ]
     },
     "metadata": {},
     "output_type": "display_data"
    }
   ],
   "source": [
    "below_ave <- function(x) {  \n",
    "    ave <- mean(x) \n",
    "    return(x[x > ave])\n",
    "}\n",
    "dt_s<- sapply(dt, below_ave)\n",
    "dt_l<- lapply(dt, below_ave)\n",
    "identical(dt_s, dt_l)"
   ]
  },
  {
   "cell_type": "markdown",
   "metadata": {},
   "source": [
    "#### tapply() function\n",
    "\n",
    "The function tapply() computes a measure (mean, median, min, max, etc..) or a function for each factor variable in a vector."
   ]
  },
  {
   "cell_type": "raw",
   "metadata": {},
   "source": [
    "tapply(X, INDEX, FUN = NULL)\n",
    "Arguments:\n",
    "-X: An object, usually a vector\n",
    "-INDEX: A list containing factor\n",
    "-FUN: Function applied to each element of x"
   ]
  },
  {
   "cell_type": "code",
   "execution_count": 17,
   "metadata": {},
   "outputs": [
    {
     "name": "stderr",
     "output_type": "stream",
     "text": [
      "Warning message in data(car):\n",
      "\"data set 'car' not found\"ERROR while rich displaying an object: Error in dn[[2L]]: subscript out of bounds\n",
      "\n",
      "Traceback:\n",
      "1. FUN(X[[i]], ...)\n",
      "2. tryCatch(withCallingHandlers({\n",
      " .     rpr <- mime2repr[[mime]](obj)\n",
      " .     if (is.null(rpr)) \n",
      " .         return(NULL)\n",
      " .     prepare_content(is.raw(rpr), rpr)\n",
      " . }, error = error_handler), error = outer_handler)\n",
      "3. tryCatchList(expr, classes, parentenv, handlers)\n",
      "4. tryCatchOne(expr, names, parentenv, handlers[[1L]])\n",
      "5. doTryCatch(return(expr), name, parentenv, handler)\n",
      "6. withCallingHandlers({\n",
      " .     rpr <- mime2repr[[mime]](obj)\n",
      " .     if (is.null(rpr)) \n",
      " .         return(NULL)\n",
      " .     prepare_content(is.raw(rpr), rpr)\n",
      " . }, error = error_handler)\n",
      "7. mime2repr[[mime]](obj)\n",
      "8. repr_markdown.numeric(obj)\n",
      "9. repr_vector_generic(html_escape_names(obj), \"%s. %s\\n\", \"%s\\n:   %s\", \n",
      " .     \"**%s:** %s\", \"%s\\n\\n\", item_uses_numbers = TRUE, escape_fun = html_escape)\n",
      "10. html_escape_names(obj)\n",
      "11. .escape_names(obj, \"html\")\n",
      "12. colnames(obj)\n",
      "ERROR while rich displaying an object: Error in dn[[2L]]: subscript out of bounds\n",
      "\n",
      "Traceback:\n",
      "1. FUN(X[[i]], ...)\n",
      "2. tryCatch(withCallingHandlers({\n",
      " .     rpr <- mime2repr[[mime]](obj)\n",
      " .     if (is.null(rpr)) \n",
      " .         return(NULL)\n",
      " .     prepare_content(is.raw(rpr), rpr)\n",
      " . }, error = error_handler), error = outer_handler)\n",
      "3. tryCatchList(expr, classes, parentenv, handlers)\n",
      "4. tryCatchOne(expr, names, parentenv, handlers[[1L]])\n",
      "5. doTryCatch(return(expr), name, parentenv, handler)\n",
      "6. withCallingHandlers({\n",
      " .     rpr <- mime2repr[[mime]](obj)\n",
      " .     if (is.null(rpr)) \n",
      " .         return(NULL)\n",
      " .     prepare_content(is.raw(rpr), rpr)\n",
      " . }, error = error_handler)\n",
      "7. mime2repr[[mime]](obj)\n",
      "8. repr_latex.numeric(obj)\n",
      "9. repr_vector_generic(latex_escape_names(obj), \"\\\\item %s\\n\", \"\\\\item[%s] %s\\n\", \n",
      " .     \"\\\\textbf{%s:} %s\", enum_wrap = \"\\\\begin{enumerate*}\\n%s\\\\end{enumerate*}\\n\", \n",
      " .     named_wrap = \"\\\\begin{description*}\\n%s\\\\end{description*}\\n\", \n",
      " .     only_named_item = \"\\\\textbf{%s:} %s\", escape_fun = latex_escape)\n",
      "10. latex_escape_names(obj)\n",
      "11. .escape_names(obj, \"latex\")\n",
      "12. colnames(obj)\n"
     ]
    },
    {
     "data": {
      "text/html": [
       "<dl class=dl-horizontal>\n",
       "\t<dt>setosa</dt>\n",
       "\t\t<dd>3.428</dd>\n",
       "\t<dt>versicolor</dt>\n",
       "\t\t<dd>2.77</dd>\n",
       "\t<dt>virginica</dt>\n",
       "\t\t<dd>2.974</dd>\n",
       "</dl>\n"
      ],
      "text/plain": [
       "    setosa versicolor  virginica \n",
       "     3.428      2.770      2.974 "
      ]
     },
     "metadata": {},
     "output_type": "display_data"
    }
   ],
   "source": [
    "data(car)\n",
    "tapply(iris$Sepal.Width, iris$Species, mean)"
   ]
  }
 ],
 "metadata": {
  "kernelspec": {
   "display_name": "R",
   "language": "R",
   "name": "ir"
  },
  "language_info": {
   "codemirror_mode": "r",
   "file_extension": ".r",
   "mimetype": "text/x-r-source",
   "name": "R",
   "pygments_lexer": "r",
   "version": "3.5.1"
  }
 },
 "nbformat": 4,
 "nbformat_minor": 2
}
