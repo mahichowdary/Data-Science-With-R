{
 "cells": [
  {
   "cell_type": "markdown",
   "metadata": {},
   "source": [
    "### What is Factor in R?\n",
    "Factors are variables in R which take on a limited number of different values; such variables are often referred to as categorical variables.\n",
    "\n",
    "In a dataset, we can distinguish two types of variables: categorical and continuous.\n",
    "\n",
    "1. In a categorical variable, the value is limited and usually based on a particular finite group. For example, a categorical variable can be countries, year, gender, occupation.\n",
    "2. A continuous variable, however, can take any values, from integer to decimal. For example, we can have the revenue, price of a share, etc..\n",
    "\n",
    "**Categorical Variables**\n",
    "\n",
    "R stores categorical variables into a factor. Let's check the code below to convert a character variable into a factor variable. Characters are not supported in machine learning algorithm, and the only way is to convert a string to an integer."
   ]
  },
  {
   "cell_type": "raw",
   "metadata": {},
   "source": [
    "factor(x = character(), levels, labels = levels, ordered = is.ordered(x))"
   ]
  },
  {
   "cell_type": "markdown",
   "metadata": {},
   "source": [
    "#### Arguments:\n",
    "\n",
    "1. x: A vector of data. Need to be a string or integer, not decimal.\n",
    "2. Levels: A vector of possible values taken by x. This argument is optional. The default value is the unique list of items of the vector x.\n",
    "3. Labels: Add a label to the x data. For example, 1 can take the label `male` while 0, the label `female`.\n",
    "4. ordered: Determine if the levels should be ordered.\n",
    "\n",
    "\n",
    "**Example:**\n",
    "\n",
    "Let's create a factor data frame."
   ]
  },
  {
   "cell_type": "code",
   "execution_count": 1,
   "metadata": {},
   "outputs": [
    {
     "data": {
      "text/html": [
       "'character'"
      ],
      "text/latex": [
       "'character'"
      ],
      "text/markdown": [
       "'character'"
      ],
      "text/plain": [
       "[1] \"character\""
      ]
     },
     "metadata": {},
     "output_type": "display_data"
    },
    {
     "data": {
      "text/html": [
       "'factor'"
      ],
      "text/latex": [
       "'factor'"
      ],
      "text/markdown": [
       "'factor'"
      ],
      "text/plain": [
       "[1] \"factor\""
      ]
     },
     "metadata": {},
     "output_type": "display_data"
    }
   ],
   "source": [
    "# Create gender vector\n",
    "gender_vector <- c(\"Male\", \"Female\", \"Female\", \"Male\", \"Male\")\n",
    "class(gender_vector)\n",
    "# Convert gender_vector to a factor\n",
    "factor_gender_vector <-factor(gender_vector)\n",
    "class(factor_gender_vector)"
   ]
  },
  {
   "cell_type": "markdown",
   "metadata": {},
   "source": [
    "It is important to transform a string into factor when we perform Machine Learning task.\n",
    "\n",
    "A categorical variable can be divided into nominal categorical variable and ordinal categorical variable.\n",
    "\n",
    "**Nominal Categorical Variable**\n",
    "\n",
    "A categorical variable has several values but the order does not matter. For instance, male or female categorical variable do not have ordering."
   ]
  },
  {
   "cell_type": "code",
   "execution_count": 3,
   "metadata": {},
   "outputs": [
    {
     "data": {
      "text/html": [
       "<ol class=list-inline>\n",
       "\t<li>blue</li>\n",
       "\t<li>red</li>\n",
       "\t<li>green</li>\n",
       "\t<li>white</li>\n",
       "\t<li>black</li>\n",
       "\t<li>yellow</li>\n",
       "</ol>\n",
       "\n",
       "<details>\n",
       "\t<summary style=display:list-item;cursor:pointer>\n",
       "\t\t<strong>Levels</strong>:\n",
       "\t</summary>\n",
       "\t<ol class=list-inline>\n",
       "\t\t<li>'black'</li>\n",
       "\t\t<li>'blue'</li>\n",
       "\t\t<li>'green'</li>\n",
       "\t\t<li>'red'</li>\n",
       "\t\t<li>'white'</li>\n",
       "\t\t<li>'yellow'</li>\n",
       "\t</ol>\n",
       "</details>"
      ],
      "text/latex": [
       "\\begin{enumerate*}\n",
       "\\item blue\n",
       "\\item red\n",
       "\\item green\n",
       "\\item white\n",
       "\\item black\n",
       "\\item yellow\n",
       "\\end{enumerate*}\n",
       "\n",
       "\\emph{Levels}: \\begin{enumerate*}\n",
       "\\item 'black'\n",
       "\\item 'blue'\n",
       "\\item 'green'\n",
       "\\item 'red'\n",
       "\\item 'white'\n",
       "\\item 'yellow'\n",
       "\\end{enumerate*}\n"
      ],
      "text/markdown": [
       "1. blue\n",
       "2. red\n",
       "3. green\n",
       "4. white\n",
       "5. black\n",
       "6. yellow\n",
       "\n",
       "\n",
       "\n",
       "**Levels**: 1. 'black'\n",
       "2. 'blue'\n",
       "3. 'green'\n",
       "4. 'red'\n",
       "5. 'white'\n",
       "6. 'yellow'\n",
       "\n",
       "\n"
      ],
      "text/plain": [
       "[1] blue   red    green  white  black  yellow\n",
       "Levels: black blue green red white yellow"
      ]
     },
     "metadata": {},
     "output_type": "display_data"
    }
   ],
   "source": [
    "# Create a color vector\n",
    "color_vector <- c('blue', 'red', 'green', 'white', 'black', 'yellow')\n",
    "# Convert the vector to factor\n",
    "factor_color <- factor(color_vector)\n",
    "factor_color"
   ]
  },
  {
   "cell_type": "markdown",
   "metadata": {},
   "source": [
    "From the factor_color, we can't tell any order.\n",
    "\n",
    "#### Ordinal Categorical Variable\n",
    "Ordinal categorical variables do have a natural ordering. We can specify the order, from the lowest to the highest with order = TRUE and highest to lowest with order = FALSE.\n",
    "\n",
    "**Example:**\n",
    "\n",
    "We can use summary to count the values for each factor."
   ]
  },
  {
   "cell_type": "code",
   "execution_count": 5,
   "metadata": {},
   "outputs": [
    {
     "data": {
      "text/html": [
       "<ol class=list-inline>\n",
       "\t<li>evening</li>\n",
       "\t<li>morning</li>\n",
       "\t<li>afternoon</li>\n",
       "\t<li>midday</li>\n",
       "\t<li>midnight</li>\n",
       "\t<li>evening</li>\n",
       "</ol>\n",
       "\n",
       "<details>\n",
       "\t<summary style=display:list-item;cursor:pointer>\n",
       "\t\t<strong>Levels</strong>:\n",
       "\t</summary>\n",
       "\t<ol class=list-inline>\n",
       "\t\t<li>'morning'</li>\n",
       "\t\t<li>'midday'</li>\n",
       "\t\t<li>'afternoon'</li>\n",
       "\t\t<li>'evening'</li>\n",
       "\t\t<li>'midnight'</li>\n",
       "\t</ol>\n",
       "</details>"
      ],
      "text/latex": [
       "\\begin{enumerate*}\n",
       "\\item evening\n",
       "\\item morning\n",
       "\\item afternoon\n",
       "\\item midday\n",
       "\\item midnight\n",
       "\\item evening\n",
       "\\end{enumerate*}\n",
       "\n",
       "\\emph{Levels}: \\begin{enumerate*}\n",
       "\\item 'morning'\n",
       "\\item 'midday'\n",
       "\\item 'afternoon'\n",
       "\\item 'evening'\n",
       "\\item 'midnight'\n",
       "\\end{enumerate*}\n"
      ],
      "text/markdown": [
       "1. evening\n",
       "2. morning\n",
       "3. afternoon\n",
       "4. midday\n",
       "5. midnight\n",
       "6. evening\n",
       "\n",
       "\n",
       "\n",
       "**Levels**: 1. 'morning'\n",
       "2. 'midday'\n",
       "3. 'afternoon'\n",
       "4. 'evening'\n",
       "5. 'midnight'\n",
       "\n",
       "\n"
      ],
      "text/plain": [
       "[1] evening   morning   afternoon midday    midnight  evening  \n",
       "Levels: morning < midday < afternoon < evening < midnight"
      ]
     },
     "metadata": {},
     "output_type": "display_data"
    }
   ],
   "source": [
    "# Create Ordinal categorical vector \n",
    "day_vector <- c('evening', 'morning', 'afternoon', 'midday', 'midnight', 'evening')\n",
    "# Convert `day_vector` to a factor with ordered level\n",
    "factor_day <- factor(day_vector, order = TRUE, levels =c('morning', 'midday', 'afternoon', 'evening', 'midnight'))\n",
    "# Print the new variable\n",
    "factor_day"
   ]
  },
  {
   "cell_type": "code",
   "execution_count": 7,
   "metadata": {},
   "outputs": [
    {
     "data": {
      "text/html": [
       "<dl class=dl-horizontal>\n",
       "\t<dt>morning</dt>\n",
       "\t\t<dd>1</dd>\n",
       "\t<dt>midday</dt>\n",
       "\t\t<dd>1</dd>\n",
       "\t<dt>afternoon</dt>\n",
       "\t\t<dd>1</dd>\n",
       "\t<dt>evening</dt>\n",
       "\t\t<dd>2</dd>\n",
       "\t<dt>midnight</dt>\n",
       "\t\t<dd>1</dd>\n",
       "</dl>\n"
      ],
      "text/latex": [
       "\\begin{description*}\n",
       "\\item[morning] 1\n",
       "\\item[midday] 1\n",
       "\\item[afternoon] 1\n",
       "\\item[evening] 2\n",
       "\\item[midnight] 1\n",
       "\\end{description*}\n"
      ],
      "text/markdown": [
       "morning\n",
       ":   1midday\n",
       ":   1afternoon\n",
       ":   1evening\n",
       ":   2midnight\n",
       ":   1\n",
       "\n"
      ],
      "text/plain": [
       "  morning    midday afternoon   evening  midnight \n",
       "        1         1         1         2         1 "
      ]
     },
     "metadata": {},
     "output_type": "display_data"
    }
   ],
   "source": [
    "## Levels: morning < midday < afternoon < evening < midnight\n",
    "# Append the line to above code\n",
    "# Count the number of occurence of each level\n",
    "summary(factor_day)"
   ]
  },
  {
   "cell_type": "markdown",
   "metadata": {},
   "source": [
    "#### Continuous Variables\n",
    "Continuous class variables are the default value in R. They are stored as numeric or integer. We can see it from the dataset below. mtcars is a built-in dataset. It gathers information on different types of car. We can import it by using mtcars and check the class of the variable mpg, mile per gallon. It returns a numeric value, indicating a continuous variable."
   ]
  },
  {
   "cell_type": "code",
   "execution_count": 14,
   "metadata": {},
   "outputs": [
    {
     "data": {
      "text/html": [
       "<table>\n",
       "<thead><tr><th></th><th scope=col>mpg</th><th scope=col>cyl</th><th scope=col>disp</th><th scope=col>hp</th><th scope=col>drat</th><th scope=col>wt</th><th scope=col>qsec</th><th scope=col>vs</th><th scope=col>am</th><th scope=col>gear</th><th scope=col>carb</th></tr></thead>\n",
       "<tbody>\n",
       "\t<tr><th scope=row>Mazda RX4</th><td>21.0 </td><td>6    </td><td>160  </td><td>110  </td><td>3.90 </td><td>2.620</td><td>16.46</td><td>0    </td><td>1    </td><td>4    </td><td>4    </td></tr>\n",
       "\t<tr><th scope=row>Mazda RX4 Wag</th><td>21.0 </td><td>6    </td><td>160  </td><td>110  </td><td>3.90 </td><td>2.875</td><td>17.02</td><td>0    </td><td>1    </td><td>4    </td><td>4    </td></tr>\n",
       "\t<tr><th scope=row>Datsun 710</th><td>22.8 </td><td>4    </td><td>108  </td><td> 93  </td><td>3.85 </td><td>2.320</td><td>18.61</td><td>1    </td><td>1    </td><td>4    </td><td>1    </td></tr>\n",
       "\t<tr><th scope=row>Hornet 4 Drive</th><td>21.4 </td><td>6    </td><td>258  </td><td>110  </td><td>3.08 </td><td>3.215</td><td>19.44</td><td>1    </td><td>0    </td><td>3    </td><td>1    </td></tr>\n",
       "\t<tr><th scope=row>Hornet Sportabout</th><td>18.7 </td><td>8    </td><td>360  </td><td>175  </td><td>3.15 </td><td>3.440</td><td>17.02</td><td>0    </td><td>0    </td><td>3    </td><td>2    </td></tr>\n",
       "\t<tr><th scope=row>Valiant</th><td>18.1 </td><td>6    </td><td>225  </td><td>105  </td><td>2.76 </td><td>3.460</td><td>20.22</td><td>1    </td><td>0    </td><td>3    </td><td>1    </td></tr>\n",
       "</tbody>\n",
       "</table>\n"
      ],
      "text/latex": [
       "\\begin{tabular}{r|lllllllllll}\n",
       "  & mpg & cyl & disp & hp & drat & wt & qsec & vs & am & gear & carb\\\\\n",
       "\\hline\n",
       "\tMazda RX4 & 21.0  & 6     & 160   & 110   & 3.90  & 2.620 & 16.46 & 0     & 1     & 4     & 4    \\\\\n",
       "\tMazda RX4 Wag & 21.0  & 6     & 160   & 110   & 3.90  & 2.875 & 17.02 & 0     & 1     & 4     & 4    \\\\\n",
       "\tDatsun 710 & 22.8  & 4     & 108   &  93   & 3.85  & 2.320 & 18.61 & 1     & 1     & 4     & 1    \\\\\n",
       "\tHornet 4 Drive & 21.4  & 6     & 258   & 110   & 3.08  & 3.215 & 19.44 & 1     & 0     & 3     & 1    \\\\\n",
       "\tHornet Sportabout & 18.7  & 8     & 360   & 175   & 3.15  & 3.440 & 17.02 & 0     & 0     & 3     & 2    \\\\\n",
       "\tValiant & 18.1  & 6     & 225   & 105   & 2.76  & 3.460 & 20.22 & 1     & 0     & 3     & 1    \\\\\n",
       "\\end{tabular}\n"
      ],
      "text/markdown": [
       "\n",
       "| <!--/--> | mpg | cyl | disp | hp | drat | wt | qsec | vs | am | gear | carb | \n",
       "|---|---|---|---|---|---|\n",
       "| Mazda RX4 | 21.0  | 6     | 160   | 110   | 3.90  | 2.620 | 16.46 | 0     | 1     | 4     | 4     | \n",
       "| Mazda RX4 Wag | 21.0  | 6     | 160   | 110   | 3.90  | 2.875 | 17.02 | 0     | 1     | 4     | 4     | \n",
       "| Datsun 710 | 22.8  | 4     | 108   |  93   | 3.85  | 2.320 | 18.61 | 1     | 1     | 4     | 1     | \n",
       "| Hornet 4 Drive | 21.4  | 6     | 258   | 110   | 3.08  | 3.215 | 19.44 | 1     | 0     | 3     | 1     | \n",
       "| Hornet Sportabout | 18.7  | 8     | 360   | 175   | 3.15  | 3.440 | 17.02 | 0     | 0     | 3     | 2     | \n",
       "| Valiant | 18.1  | 6     | 225   | 105   | 2.76  | 3.460 | 20.22 | 1     | 0     | 3     | 1     | \n",
       "\n",
       "\n"
      ],
      "text/plain": [
       "                  mpg  cyl disp hp  drat wt    qsec  vs am gear carb\n",
       "Mazda RX4         21.0 6   160  110 3.90 2.620 16.46 0  1  4    4   \n",
       "Mazda RX4 Wag     21.0 6   160  110 3.90 2.875 17.02 0  1  4    4   \n",
       "Datsun 710        22.8 4   108   93 3.85 2.320 18.61 1  1  4    1   \n",
       "Hornet 4 Drive    21.4 6   258  110 3.08 3.215 19.44 1  0  3    1   \n",
       "Hornet Sportabout 18.7 8   360  175 3.15 3.440 17.02 0  0  3    2   \n",
       "Valiant           18.1 6   225  105 2.76 3.460 20.22 1  0  3    1   "
      ]
     },
     "metadata": {},
     "output_type": "display_data"
    }
   ],
   "source": [
    "dataset <- mtcars\n",
    "head(dataset)"
   ]
  },
  {
   "cell_type": "code",
   "execution_count": 11,
   "metadata": {},
   "outputs": [
    {
     "data": {
      "text/html": [
       "'numeric'"
      ],
      "text/latex": [
       "'numeric'"
      ],
      "text/markdown": [
       "'numeric'"
      ],
      "text/plain": [
       "[1] \"numeric\""
      ]
     },
     "metadata": {},
     "output_type": "display_data"
    }
   ],
   "source": [
    "class(dataset$mpg)"
   ]
  }
 ],
 "metadata": {
  "kernelspec": {
   "display_name": "R",
   "language": "R",
   "name": "ir"
  },
  "language_info": {
   "codemirror_mode": "r",
   "file_extension": ".r",
   "mimetype": "text/x-r-source",
   "name": "R",
   "pygments_lexer": "r",
   "version": "3.5.1"
  }
 },
 "nbformat": 4,
 "nbformat_minor": 2
}
