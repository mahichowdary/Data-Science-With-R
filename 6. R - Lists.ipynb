{
 "cells": [
  {
   "cell_type": "markdown",
   "metadata": {},
   "source": [
    "Lists are the R objects which contain elements of different types like − numbers, strings, vectors and another list inside it. A list can also contain a matrix or a function as its elements. List is created using list() function.\n",
    "\n",
    "**Creating a List**\n",
    "\n",
    "Following is an example to create a list containing strings, numbers, vectors and a logical values.\n",
    "![](https://lh3.googleusercontent.com/-9KOWjtskLOg/XM-NgdPi4qI/AAAAAAAAFMM/ZfuYU2sBtLMK1ABk9BM2jzOzs7wEazodQCK8BGAs/s0/2019-05-05.png)"
   ]
  },
  {
   "cell_type": "code",
   "execution_count": 1,
   "metadata": {},
   "outputs": [
    {
     "data": {
      "text/html": [
       "<ol>\n",
       "\t<li>'Red'</li>\n",
       "\t<li>'Green'</li>\n",
       "\t<li><ol class=list-inline>\n",
       "\t<li>21</li>\n",
       "\t<li>32</li>\n",
       "\t<li>11</li>\n",
       "</ol>\n",
       "</li>\n",
       "\t<li>TRUE</li>\n",
       "\t<li>51.23</li>\n",
       "\t<li>119.1</li>\n",
       "</ol>\n"
      ],
      "text/latex": [
       "\\begin{enumerate}\n",
       "\\item 'Red'\n",
       "\\item 'Green'\n",
       "\\item \\begin{enumerate*}\n",
       "\\item 21\n",
       "\\item 32\n",
       "\\item 11\n",
       "\\end{enumerate*}\n",
       "\n",
       "\\item TRUE\n",
       "\\item 51.23\n",
       "\\item 119.1\n",
       "\\end{enumerate}\n"
      ],
      "text/markdown": [
       "1. 'Red'\n",
       "2. 'Green'\n",
       "3. 1. 21\n",
       "2. 32\n",
       "3. 11\n",
       "\n",
       "\n",
       "\n",
       "4. TRUE\n",
       "5. 51.23\n",
       "6. 119.1\n",
       "\n",
       "\n"
      ],
      "text/plain": [
       "[[1]]\n",
       "[1] \"Red\"\n",
       "\n",
       "[[2]]\n",
       "[1] \"Green\"\n",
       "\n",
       "[[3]]\n",
       "[1] 21 32 11\n",
       "\n",
       "[[4]]\n",
       "[1] TRUE\n",
       "\n",
       "[[5]]\n",
       "[1] 51.23\n",
       "\n",
       "[[6]]\n",
       "[1] 119.1\n"
      ]
     },
     "metadata": {},
     "output_type": "display_data"
    }
   ],
   "source": [
    "list_data <- list(\"Red\", \"Green\", c(21,32,11), TRUE, 51.23, 119.1)\n",
    "list_data"
   ]
  },
  {
   "cell_type": "markdown",
   "metadata": {},
   "source": [
    "**Naming List Elements**\n",
    "The list elements can be given names and they can be accessed using these names."
   ]
  },
  {
   "cell_type": "code",
   "execution_count": 2,
   "metadata": {},
   "outputs": [
    {
     "data": {
      "text/html": [
       "<ol>\n",
       "\t<li>10</li>\n",
       "\t<li><ol class=list-inline>\n",
       "\t<li>'Jan'</li>\n",
       "\t<li>'Feb'</li>\n",
       "\t<li>'Mar'</li>\n",
       "</ol>\n",
       "</li>\n",
       "\t<li><table>\n",
       "<tbody>\n",
       "\t<tr><td>3 </td><td>5 </td><td>-2</td></tr>\n",
       "\t<tr><td>9 </td><td>1 </td><td> 8</td></tr>\n",
       "</tbody>\n",
       "</table>\n",
       "</li>\n",
       "\t<li><ol>\n",
       "\t<li>'green'</li>\n",
       "\t<li>12.3</li>\n",
       "</ol>\n",
       "</li>\n",
       "</ol>\n"
      ],
      "text/latex": [
       "\\begin{enumerate}\n",
       "\\item 10\n",
       "\\item \\begin{enumerate*}\n",
       "\\item 'Jan'\n",
       "\\item 'Feb'\n",
       "\\item 'Mar'\n",
       "\\end{enumerate*}\n",
       "\n",
       "\\item \\begin{tabular}{lll}\n",
       "\t 3  & 5  & -2\\\\\n",
       "\t 9  & 1  &  8\\\\\n",
       "\\end{tabular}\n",
       "\n",
       "\\item \\begin{enumerate}\n",
       "\\item 'green'\n",
       "\\item 12.3\n",
       "\\end{enumerate}\n",
       "\n",
       "\\end{enumerate}\n"
      ],
      "text/markdown": [
       "1. 10\n",
       "2. 1. 'Jan'\n",
       "2. 'Feb'\n",
       "3. 'Mar'\n",
       "\n",
       "\n",
       "\n",
       "3. \n",
       "| 3  | 5  | -2 | \n",
       "| 9  | 1  |  8 | \n",
       "\n",
       "\n",
       "\n",
       "4. 1. 'green'\n",
       "2. 12.3\n",
       "\n",
       "\n",
       "\n",
       "\n",
       "\n"
      ],
      "text/plain": [
       "[[1]]\n",
       "[1] 10\n",
       "\n",
       "[[2]]\n",
       "[1] \"Jan\" \"Feb\" \"Mar\"\n",
       "\n",
       "[[3]]\n",
       "     [,1] [,2] [,3]\n",
       "[1,]    3    5   -2\n",
       "[2,]    9    1    8\n",
       "\n",
       "[[4]]\n",
       "[[4]][[1]]\n",
       "[1] \"green\"\n",
       "\n",
       "[[4]][[2]]\n",
       "[1] 12.3\n",
       "\n"
      ]
     },
     "metadata": {},
     "output_type": "display_data"
    }
   ],
   "source": [
    "# Create a list containing a vector, a matrix and a list.\n",
    "list_data <- list(10,c(\"Jan\",\"Feb\",\"Mar\"), matrix(c(3,9,5,1,-2,8), nrow = 2),\n",
    "   list(\"green\",12.3))\n",
    "list_data"
   ]
  },
  {
   "cell_type": "code",
   "execution_count": 3,
   "metadata": {},
   "outputs": [
    {
     "data": {
      "text/html": [
       "<dl>\n",
       "\t<dt>$`1st Quarter`</dt>\n",
       "\t\t<dd>10</dd>\n",
       "\t<dt>$A_Matrix</dt>\n",
       "\t\t<dd><ol class=list-inline>\n",
       "\t<li>'Jan'</li>\n",
       "\t<li>'Feb'</li>\n",
       "\t<li>'Mar'</li>\n",
       "</ol>\n",
       "</dd>\n",
       "\t<dt>$`A Inner list`</dt>\n",
       "\t\t<dd><table>\n",
       "<tbody>\n",
       "\t<tr><td>3 </td><td>5 </td><td>-2</td></tr>\n",
       "\t<tr><td>9 </td><td>1 </td><td> 8</td></tr>\n",
       "</tbody>\n",
       "</table>\n",
       "</dd>\n",
       "\t<dt>$`NA`</dt>\n",
       "\t\t<dd><ol>\n",
       "\t<li>'green'</li>\n",
       "\t<li>12.3</li>\n",
       "</ol>\n",
       "</dd>\n",
       "</dl>\n"
      ],
      "text/latex": [
       "\\begin{description}\n",
       "\\item[\\$`1st Quarter`] 10\n",
       "\\item[\\$A\\_Matrix] \\begin{enumerate*}\n",
       "\\item 'Jan'\n",
       "\\item 'Feb'\n",
       "\\item 'Mar'\n",
       "\\end{enumerate*}\n",
       "\n",
       "\\item[\\$`A Inner list`] \\begin{tabular}{lll}\n",
       "\t 3  & 5  & -2\\\\\n",
       "\t 9  & 1  &  8\\\\\n",
       "\\end{tabular}\n",
       "\n",
       "\\item[\\$`NA`] \\begin{enumerate}\n",
       "\\item 'green'\n",
       "\\item 12.3\n",
       "\\end{enumerate}\n",
       "\n",
       "\\end{description}\n"
      ],
      "text/markdown": [
       "$`1st Quarter`\n",
       ":   10\n",
       "$A_Matrix\n",
       ":   1. 'Jan'\n",
       "2. 'Feb'\n",
       "3. 'Mar'\n",
       "\n",
       "\n",
       "\n",
       "$`A Inner list`\n",
       ":   \n",
       "| 3  | 5  | -2 | \n",
       "| 9  | 1  |  8 | \n",
       "\n",
       "\n",
       "\n",
       "$`NA`\n",
       ":   1. 'green'\n",
       "2. 12.3\n",
       "\n",
       "\n",
       "\n",
       "\n",
       "\n"
      ],
      "text/plain": [
       "$`1st Quarter`\n",
       "[1] 10\n",
       "\n",
       "$A_Matrix\n",
       "[1] \"Jan\" \"Feb\" \"Mar\"\n",
       "\n",
       "$`A Inner list`\n",
       "     [,1] [,2] [,3]\n",
       "[1,]    3    5   -2\n",
       "[2,]    9    1    8\n",
       "\n",
       "$<NA>\n",
       "$<NA>[[1]]\n",
       "[1] \"green\"\n",
       "\n",
       "$<NA>[[2]]\n",
       "[1] 12.3\n",
       "\n"
      ]
     },
     "metadata": {},
     "output_type": "display_data"
    }
   ],
   "source": [
    "# Give names to the elements in the list.\n",
    "names(list_data) <- c(\"1st Quarter\", \"A_Matrix\", \"A Inner list\")\n",
    "\n",
    "# Show the list.\n",
    "list_data"
   ]
  },
  {
   "cell_type": "markdown",
   "metadata": {},
   "source": [
    "**Accessing List Elements**\n",
    "\n",
    "Elements of the list can be accessed by the index of the element in the list. In case of named lists it can also be accessed using the names."
   ]
  },
  {
   "cell_type": "code",
   "execution_count": 6,
   "metadata": {},
   "outputs": [
    {
     "data": {
      "text/html": [
       "<ol>\n",
       "\t<li><ol class=list-inline>\n",
       "\t<li>'Jan'</li>\n",
       "\t<li>'Feb'</li>\n",
       "\t<li>'Mar'</li>\n",
       "</ol>\n",
       "</li>\n",
       "\t<li><table>\n",
       "<tbody>\n",
       "\t<tr><td>3 </td><td>5 </td><td>-2</td></tr>\n",
       "\t<tr><td>9 </td><td>1 </td><td> 8</td></tr>\n",
       "</tbody>\n",
       "</table>\n",
       "</li>\n",
       "\t<li><ol>\n",
       "\t<li>'green'</li>\n",
       "\t<li>12.3</li>\n",
       "</ol>\n",
       "</li>\n",
       "</ol>\n"
      ],
      "text/latex": [
       "\\begin{enumerate}\n",
       "\\item \\begin{enumerate*}\n",
       "\\item 'Jan'\n",
       "\\item 'Feb'\n",
       "\\item 'Mar'\n",
       "\\end{enumerate*}\n",
       "\n",
       "\\item \\begin{tabular}{lll}\n",
       "\t 3  & 5  & -2\\\\\n",
       "\t 9  & 1  &  8\\\\\n",
       "\\end{tabular}\n",
       "\n",
       "\\item \\begin{enumerate}\n",
       "\\item 'green'\n",
       "\\item 12.3\n",
       "\\end{enumerate}\n",
       "\n",
       "\\end{enumerate}\n"
      ],
      "text/markdown": [
       "1. 1. 'Jan'\n",
       "2. 'Feb'\n",
       "3. 'Mar'\n",
       "\n",
       "\n",
       "\n",
       "2. \n",
       "| 3  | 5  | -2 | \n",
       "| 9  | 1  |  8 | \n",
       "\n",
       "\n",
       "\n",
       "3. 1. 'green'\n",
       "2. 12.3\n",
       "\n",
       "\n",
       "\n",
       "\n",
       "\n"
      ],
      "text/plain": [
       "[[1]]\n",
       "[1] \"Jan\" \"Feb\" \"Mar\"\n",
       "\n",
       "[[2]]\n",
       "     [,1] [,2] [,3]\n",
       "[1,]    3    5   -2\n",
       "[2,]    9    1    8\n",
       "\n",
       "[[3]]\n",
       "[[3]][[1]]\n",
       "[1] \"green\"\n",
       "\n",
       "[[3]][[2]]\n",
       "[1] 12.3\n",
       "\n"
      ]
     },
     "metadata": {},
     "output_type": "display_data"
    }
   ],
   "source": [
    "# Create a list containing a vector, a matrix and a list.\n",
    "list_data <- list(c(\"Jan\",\"Feb\",\"Mar\"), matrix(c(3,9,5,1,-2,8), nrow = 2),list(\"green\",12.3))\n",
    "list_data"
   ]
  },
  {
   "cell_type": "code",
   "execution_count": 9,
   "metadata": {},
   "outputs": [
    {
     "name": "stdout",
     "output_type": "stream",
     "text": [
      "$`1st Quarter`\n",
      "[1] \"Jan\" \"Feb\" \"Mar\"\n",
      "\n"
     ]
    }
   ],
   "source": [
    "# Give names to the elements in the list.\n",
    "names(list_data) <- c(\"1st Quarter\", \"A_Matrix\", \"A Inner list\")\n",
    "\n",
    "# Access the first element of the list.\n",
    "print(list_data[1])"
   ]
  },
  {
   "cell_type": "code",
   "execution_count": 11,
   "metadata": {},
   "outputs": [
    {
     "name": "stdout",
     "output_type": "stream",
     "text": [
      "$`A Inner list`\n",
      "$`A Inner list`[[1]]\n",
      "[1] \"green\"\n",
      "\n",
      "$`A Inner list`[[2]]\n",
      "[1] 12.3\n",
      "\n",
      "\n"
     ]
    }
   ],
   "source": [
    "# Access the thrid element. As it is also a list, all its elements will be printed.\n",
    "print(list_data[3])"
   ]
  },
  {
   "cell_type": "code",
   "execution_count": 12,
   "metadata": {},
   "outputs": [
    {
     "name": "stdout",
     "output_type": "stream",
     "text": [
      "     [,1] [,2] [,3]\n",
      "[1,]    3    5   -2\n",
      "[2,]    9    1    8\n"
     ]
    }
   ],
   "source": [
    "# Access the list element using the name of the element.\n",
    "print(list_data$A_Matrix)"
   ]
  },
  {
   "cell_type": "markdown",
   "metadata": {},
   "source": [
    "**Manipulating List Elements**\n",
    "\n",
    "We can add, delete and update list elements as shown below. We can add and delete elements only at the end of a list. But we can update any element."
   ]
  },
  {
   "cell_type": "code",
   "execution_count": 15,
   "metadata": {},
   "outputs": [
    {
     "data": {
      "text/html": [
       "<ol>\n",
       "\t<li><ol class=list-inline>\n",
       "\t<li>'Jan'</li>\n",
       "\t<li>'Feb'</li>\n",
       "\t<li>'Mar'</li>\n",
       "</ol>\n",
       "</li>\n",
       "\t<li><table>\n",
       "<tbody>\n",
       "\t<tr><td>3 </td><td>5 </td><td>-2</td></tr>\n",
       "\t<tr><td>9 </td><td>1 </td><td> 8</td></tr>\n",
       "</tbody>\n",
       "</table>\n",
       "</li>\n",
       "\t<li><ol>\n",
       "\t<li>'green'</li>\n",
       "\t<li>12.3</li>\n",
       "</ol>\n",
       "</li>\n",
       "</ol>\n"
      ],
      "text/latex": [
       "\\begin{enumerate}\n",
       "\\item \\begin{enumerate*}\n",
       "\\item 'Jan'\n",
       "\\item 'Feb'\n",
       "\\item 'Mar'\n",
       "\\end{enumerate*}\n",
       "\n",
       "\\item \\begin{tabular}{lll}\n",
       "\t 3  & 5  & -2\\\\\n",
       "\t 9  & 1  &  8\\\\\n",
       "\\end{tabular}\n",
       "\n",
       "\\item \\begin{enumerate}\n",
       "\\item 'green'\n",
       "\\item 12.3\n",
       "\\end{enumerate}\n",
       "\n",
       "\\end{enumerate}\n"
      ],
      "text/markdown": [
       "1. 1. 'Jan'\n",
       "2. 'Feb'\n",
       "3. 'Mar'\n",
       "\n",
       "\n",
       "\n",
       "2. \n",
       "| 3  | 5  | -2 | \n",
       "| 9  | 1  |  8 | \n",
       "\n",
       "\n",
       "\n",
       "3. 1. 'green'\n",
       "2. 12.3\n",
       "\n",
       "\n",
       "\n",
       "\n",
       "\n"
      ],
      "text/plain": [
       "[[1]]\n",
       "[1] \"Jan\" \"Feb\" \"Mar\"\n",
       "\n",
       "[[2]]\n",
       "     [,1] [,2] [,3]\n",
       "[1,]    3    5   -2\n",
       "[2,]    9    1    8\n",
       "\n",
       "[[3]]\n",
       "[[3]][[1]]\n",
       "[1] \"green\"\n",
       "\n",
       "[[3]][[2]]\n",
       "[1] 12.3\n",
       "\n"
      ]
     },
     "metadata": {},
     "output_type": "display_data"
    }
   ],
   "source": [
    "# Create a list containing a vector, a matrix and a list.\n",
    "list_data <- list(c(\"Jan\",\"Feb\",\"Mar\"), matrix(c(3,9,5,1,-2,8), nrow = 2),\n",
    "   list(\"green\",12.3))\n",
    "list_data"
   ]
  },
  {
   "cell_type": "code",
   "execution_count": 17,
   "metadata": {},
   "outputs": [
    {
     "name": "stdout",
     "output_type": "stream",
     "text": [
      "$<NA>\n",
      "[1] \"New element\"\n",
      "\n"
     ]
    }
   ],
   "source": [
    "# Give names to the elements in the list.\n",
    "names(list_data) <- c(\"1st Quarter\", \"A_Matrix\", \"A Inner list\")\n",
    "\n",
    "# Add element at the end of the list.\n",
    "list_data[4] <- \"New element\"\n",
    "print(list_data[4])\n"
   ]
  },
  {
   "cell_type": "code",
   "execution_count": 20,
   "metadata": {},
   "outputs": [
    {
     "name": "stdout",
     "output_type": "stream",
     "text": [
      "$<NA>\n",
      "NULL\n",
      "\n"
     ]
    }
   ],
   "source": [
    "# Remove the last element.\n",
    "list_data[4] <- NULL\n",
    "\n",
    "# Print the 4th Element.\n",
    "print(list_data[4])"
   ]
  },
  {
   "cell_type": "code",
   "execution_count": 21,
   "metadata": {},
   "outputs": [
    {
     "name": "stdout",
     "output_type": "stream",
     "text": [
      "$`A Inner list`\n",
      "[1] \"updated element\"\n",
      "\n"
     ]
    }
   ],
   "source": [
    "\n",
    "# Update the 3rd Element.\n",
    "list_data[3] <- \"updated element\"\n",
    "print(list_data[3])\n"
   ]
  },
  {
   "cell_type": "markdown",
   "metadata": {},
   "source": [
    "**Merging Lists**\n",
    "\n",
    "You can merge many lists into one list by placing all the lists inside one list() function."
   ]
  },
  {
   "cell_type": "code",
   "execution_count": 23,
   "metadata": {},
   "outputs": [
    {
     "data": {
      "text/html": [
       "<ol>\n",
       "\t<li>1</li>\n",
       "\t<li>2</li>\n",
       "\t<li>3</li>\n",
       "\t<li>'Sun'</li>\n",
       "\t<li>'Mon'</li>\n",
       "\t<li>'Tue'</li>\n",
       "</ol>\n"
      ],
      "text/latex": [
       "\\begin{enumerate}\n",
       "\\item 1\n",
       "\\item 2\n",
       "\\item 3\n",
       "\\item 'Sun'\n",
       "\\item 'Mon'\n",
       "\\item 'Tue'\n",
       "\\end{enumerate}\n"
      ],
      "text/markdown": [
       "1. 1\n",
       "2. 2\n",
       "3. 3\n",
       "4. 'Sun'\n",
       "5. 'Mon'\n",
       "6. 'Tue'\n",
       "\n",
       "\n"
      ],
      "text/plain": [
       "[[1]]\n",
       "[1] 1\n",
       "\n",
       "[[2]]\n",
       "[1] 2\n",
       "\n",
       "[[3]]\n",
       "[1] 3\n",
       "\n",
       "[[4]]\n",
       "[1] \"Sun\"\n",
       "\n",
       "[[5]]\n",
       "[1] \"Mon\"\n",
       "\n",
       "[[6]]\n",
       "[1] \"Tue\"\n"
      ]
     },
     "metadata": {},
     "output_type": "display_data"
    }
   ],
   "source": [
    "# Create two lists.\n",
    "list1 <- list(1,2,3)\n",
    "list2 <- list(\"Sun\",\"Mon\",\"Tue\")\n",
    "\n",
    "# Merge the two lists By using Vectore.\n",
    "merged.list <- c(list1,list2)\n",
    "\n",
    "# Print the merged list.\n",
    "merged.list"
   ]
  },
  {
   "cell_type": "markdown",
   "metadata": {},
   "source": [
    "`Converting List to Vector`\n",
    "A list can be converted to a vector so that the elements of the vector can be used for further manipulation. All the arithmetic operations on vectors can be applied after the list is converted into vectors. To do this conversion, we use the unlist() function. It takes the list as input and produces a vector."
   ]
  },
  {
   "cell_type": "code",
   "execution_count": 24,
   "metadata": {},
   "outputs": [
    {
     "name": "stdout",
     "output_type": "stream",
     "text": [
      "[[1]]\n",
      "[1] 1 2 3 4 5\n",
      "\n",
      "[[1]]\n",
      "[1] 10 11 12 13 14\n",
      "\n"
     ]
    }
   ],
   "source": [
    "# Create lists.\n",
    "list1 <- list(1:5)\n",
    "print(list1)\n",
    "\n",
    "list2 <-list(10:14)\n",
    "print(list2)"
   ]
  },
  {
   "cell_type": "code",
   "execution_count": 25,
   "metadata": {},
   "outputs": [
    {
     "name": "stdout",
     "output_type": "stream",
     "text": [
      "[1] 1 2 3 4 5\n",
      "[1] 10 11 12 13 14\n"
     ]
    }
   ],
   "source": [
    "# Convert the lists to vectors.\n",
    "v1 <- unlist(list1)\n",
    "v2 <- unlist(list2)\n",
    "\n",
    "print(v1)\n",
    "print(v2)"
   ]
  },
  {
   "cell_type": "code",
   "execution_count": 26,
   "metadata": {},
   "outputs": [
    {
     "name": "stdout",
     "output_type": "stream",
     "text": [
      "[1] 11 13 15 17 19\n"
     ]
    }
   ],
   "source": [
    "# Now add the vectors\n",
    "result <- v1+v2\n",
    "print(result)"
   ]
  }
 ],
 "metadata": {
  "kernelspec": {
   "display_name": "R",
   "language": "R",
   "name": "ir"
  },
  "language_info": {
   "codemirror_mode": "r",
   "file_extension": ".r",
   "mimetype": "text/x-r-source",
   "name": "R",
   "pygments_lexer": "r",
   "version": "3.5.1"
  }
 },
 "nbformat": 4,
 "nbformat_minor": 2
}
