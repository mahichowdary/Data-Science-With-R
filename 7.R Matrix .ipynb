{
 "cells": [
  {
   "cell_type": "markdown",
   "metadata": {},
   "source": [
    "**What is a Matrix?**\n",
    "\n",
    "A matrix is a 2-dimensional array that has m number of rows and n number of columns. In other words, matrix is a combination of two or more vectors with the same data type.\n",
    "\n",
    "Note: It is possible to create more than two dimensions arrays with R."
   ]
  },
  {
   "cell_type": "markdown",
   "metadata": {},
   "source": [
    "![](https://lh3.googleusercontent.com/-5tIe91y_Bw0/XXik-6o9p0I/AAAAAAAAhmY/fY4V5MVu8pwncyirg_2il_d8HVD0wEuVwCK8BGAsYHg/s0/2019-09-11.png)\n",
    "\n",
    "\n",
    "**How to Create a Matrix in R**\n",
    "\n",
    "We can create a matrix with the function matrix(). This function takes three arguments:\n",
    "\n",
    "\n"
   ]
  },
  {
   "cell_type": "raw",
   "metadata": {},
   "source": [
    "matrix(data, nrow, ncol, byrow = FALSE)"
   ]
  },
  {
   "cell_type": "markdown",
   "metadata": {},
   "source": [
    "**Arguments:**\n",
    "\n",
    "* **data**: The collection of elements that R will arrange into the rows and columns of the matrix \\\n",
    "* **nrow**: Number of rows \n",
    "* **ncol**: Number of columns \n",
    "* **byrow**: The rows are filled from the left to the right. We use `byrow = FALSE` (default values), if we want the matrix to be filled by the columns i.e. the values are filled top to bottom.\n",
    "\n",
    "Let's construct two 5x2 matrix with a sequence of number from 1 to 10, one with byrow = TRUE and one with byrow = FALSE to see the difference."
   ]
  },
  {
   "cell_type": "code",
   "execution_count": 5,
   "metadata": {},
   "outputs": [
    {
     "data": {
      "text/html": [
       "<table>\n",
       "<tbody>\n",
       "\t<tr><td>1 </td><td> 2</td></tr>\n",
       "\t<tr><td>3 </td><td> 4</td></tr>\n",
       "\t<tr><td>5 </td><td> 6</td></tr>\n",
       "\t<tr><td>7 </td><td> 8</td></tr>\n",
       "\t<tr><td>9 </td><td>10</td></tr>\n",
       "</tbody>\n",
       "</table>\n"
      ],
      "text/latex": [
       "\\begin{tabular}{ll}\n",
       "\t 1  &  2\\\\\n",
       "\t 3  &  4\\\\\n",
       "\t 5  &  6\\\\\n",
       "\t 7  &  8\\\\\n",
       "\t 9  & 10\\\\\n",
       "\\end{tabular}\n"
      ],
      "text/markdown": [
       "\n",
       "| 1  |  2 | \n",
       "| 3  |  4 | \n",
       "| 5  |  6 | \n",
       "| 7  |  8 | \n",
       "| 9  | 10 | \n",
       "\n",
       "\n"
      ],
      "text/plain": [
       "     [,1] [,2]\n",
       "[1,] 1     2  \n",
       "[2,] 3     4  \n",
       "[3,] 5     6  \n",
       "[4,] 7     8  \n",
       "[5,] 9    10  "
      ]
     },
     "metadata": {},
     "output_type": "display_data"
    }
   ],
   "source": [
    "# Construct a matrix with 5 rows that contain the numbers 1 up to 10 and byrow =  TRUE \n",
    "matrix_a <-matrix(1:10, byrow = TRUE, nrow = 5)\n",
    "matrix_a"
   ]
  },
  {
   "cell_type": "markdown",
   "metadata": {},
   "source": [
    "##### Print dimension of the matrix with dim()"
   ]
  },
  {
   "cell_type": "code",
   "execution_count": 6,
   "metadata": {},
   "outputs": [
    {
     "data": {
      "text/html": [
       "<ol class=list-inline>\n",
       "\t<li>5</li>\n",
       "\t<li>2</li>\n",
       "</ol>\n"
      ],
      "text/latex": [
       "\\begin{enumerate*}\n",
       "\\item 5\n",
       "\\item 2\n",
       "\\end{enumerate*}\n"
      ],
      "text/markdown": [
       "1. 5\n",
       "2. 2\n",
       "\n",
       "\n"
      ],
      "text/plain": [
       "[1] 5 2"
      ]
     },
     "metadata": {},
     "output_type": "display_data"
    }
   ],
   "source": [
    "# Print dimension of the matrix with dim()\n",
    "dim(matrix_a)"
   ]
  },
  {
   "cell_type": "code",
   "execution_count": 8,
   "metadata": {},
   "outputs": [
    {
     "data": {
      "text/html": [
       "<table>\n",
       "<tbody>\n",
       "\t<tr><td>1 </td><td> 6</td></tr>\n",
       "\t<tr><td>2 </td><td> 7</td></tr>\n",
       "\t<tr><td>3 </td><td> 8</td></tr>\n",
       "\t<tr><td>4 </td><td> 9</td></tr>\n",
       "\t<tr><td>5 </td><td>10</td></tr>\n",
       "</tbody>\n",
       "</table>\n"
      ],
      "text/latex": [
       "\\begin{tabular}{ll}\n",
       "\t 1  &  6\\\\\n",
       "\t 2  &  7\\\\\n",
       "\t 3  &  8\\\\\n",
       "\t 4  &  9\\\\\n",
       "\t 5  & 10\\\\\n",
       "\\end{tabular}\n"
      ],
      "text/markdown": [
       "\n",
       "| 1  |  6 | \n",
       "| 2  |  7 | \n",
       "| 3  |  8 | \n",
       "| 4  |  9 | \n",
       "| 5  | 10 | \n",
       "\n",
       "\n"
      ],
      "text/plain": [
       "     [,1] [,2]\n",
       "[1,] 1     6  \n",
       "[2,] 2     7  \n",
       "[3,] 3     8  \n",
       "[4,] 4     9  \n",
       "[5,] 5    10  "
      ]
     },
     "metadata": {},
     "output_type": "display_data"
    }
   ],
   "source": [
    "# Construct a matrix with 5 rows that contain the numbers 1 up to 10 and byrow =  FALSE\n",
    "matrix_b <-matrix(1:10, byrow = FALSE, nrow = 5)\n",
    "matrix_b"
   ]
  },
  {
   "cell_type": "code",
   "execution_count": 10,
   "metadata": {},
   "outputs": [
    {
     "data": {
      "text/html": [
       "<ol class=list-inline>\n",
       "\t<li>5</li>\n",
       "\t<li>2</li>\n",
       "</ol>\n"
      ],
      "text/latex": [
       "\\begin{enumerate*}\n",
       "\\item 5\n",
       "\\item 2\n",
       "\\end{enumerate*}\n"
      ],
      "text/markdown": [
       "1. 5\n",
       "2. 2\n",
       "\n",
       "\n"
      ],
      "text/plain": [
       "[1] 5 2"
      ]
     },
     "metadata": {},
     "output_type": "display_data"
    }
   ],
   "source": [
    "dim(matrix_b)"
   ]
  },
  {
   "cell_type": "code",
   "execution_count": 12,
   "metadata": {},
   "outputs": [
    {
     "data": {
      "text/html": [
       "<table>\n",
       "<tbody>\n",
       "\t<tr><td>1 </td><td>5 </td><td> 9</td></tr>\n",
       "\t<tr><td>2 </td><td>6 </td><td>10</td></tr>\n",
       "\t<tr><td>3 </td><td>7 </td><td>11</td></tr>\n",
       "\t<tr><td>4 </td><td>8 </td><td>12</td></tr>\n",
       "</tbody>\n",
       "</table>\n"
      ],
      "text/latex": [
       "\\begin{tabular}{lll}\n",
       "\t 1  & 5  &  9\\\\\n",
       "\t 2  & 6  & 10\\\\\n",
       "\t 3  & 7  & 11\\\\\n",
       "\t 4  & 8  & 12\\\\\n",
       "\\end{tabular}\n"
      ],
      "text/markdown": [
       "\n",
       "| 1  | 5  |  9 | \n",
       "| 2  | 6  | 10 | \n",
       "| 3  | 7  | 11 | \n",
       "| 4  | 8  | 12 | \n",
       "\n",
       "\n"
      ],
      "text/plain": [
       "     [,1] [,2] [,3]\n",
       "[1,] 1    5     9  \n",
       "[2,] 2    6    10  \n",
       "[3,] 3    7    11  \n",
       "[4,] 4    8    12  "
      ]
     },
     "metadata": {},
     "output_type": "display_data"
    }
   ],
   "source": [
    "matrix_c <-matrix(1:12, byrow = FALSE, ncol = 3)\n",
    "matrix_c"
   ]
  },
  {
   "cell_type": "code",
   "execution_count": 20,
   "metadata": {},
   "outputs": [
    {
     "data": {
      "text/html": [
       "<ol class=list-inline>\n",
       "\t<li>6</li>\n",
       "\t<li>2</li>\n",
       "</ol>\n"
      ],
      "text/latex": [
       "\\begin{enumerate*}\n",
       "\\item 6\n",
       "\\item 2\n",
       "\\end{enumerate*}\n"
      ],
      "text/markdown": [
       "1. 6\n",
       "2. 2\n",
       "\n",
       "\n"
      ],
      "text/plain": [
       "[1] 6 2"
      ]
     },
     "metadata": {},
     "output_type": "display_data"
    }
   ],
   "source": [
    "dim(matrix_c) "
   ]
  },
  {
   "cell_type": "markdown",
   "metadata": {},
   "source": [
    "### Add a Column to a Matrix with the cbind()\n",
    "\n",
    "You can add a column to a matrix with the cbind() command. cbind() means column binding. cbind()can concatenate as many matrix or columns as specified. For example, our previous example created a 5x2 matrix. We concatenate a third column and verify the dimension is 5x3"
   ]
  },
  {
   "cell_type": "code",
   "execution_count": 21,
   "metadata": {},
   "outputs": [
    {
     "data": {
      "text/html": [
       "<ol class=list-inline>\n",
       "\t<li>4</li>\n",
       "\t<li>6</li>\n",
       "</ol>\n"
      ],
      "text/latex": [
       "\\begin{enumerate*}\n",
       "\\item 4\n",
       "\\item 6\n",
       "\\end{enumerate*}\n"
      ],
      "text/markdown": [
       "1. 4\n",
       "2. 6\n",
       "\n",
       "\n"
      ],
      "text/plain": [
       "[1] 4 6"
      ]
     },
     "metadata": {},
     "output_type": "display_data"
    }
   ],
   "source": [
    "matrix_a2 <-matrix(13:24, byrow = FALSE, ncol = 3)\n",
    "matrix_c <-matrix(1:12, byrow = FALSE, ncol = 3)\n",
    "matrix_d <- cbind(matrix_a2, matrix_c)\n",
    "dim(matrix_d)"
   ]
  },
  {
   "cell_type": "code",
   "execution_count": 22,
   "metadata": {},
   "outputs": [
    {
     "name": "stderr",
     "output_type": "stream",
     "text": [
      "Warning message in rbind(matrix_b, add_row):\n",
      "\"number of columns of result is not a multiple of vector length (arg 2)\""
     ]
    },
    {
     "data": {
      "text/html": [
       "<ol class=list-inline>\n",
       "\t<li>6</li>\n",
       "\t<li>2</li>\n",
       "</ol>\n"
      ],
      "text/latex": [
       "\\begin{enumerate*}\n",
       "\\item 6\n",
       "\\item 2\n",
       "\\end{enumerate*}\n"
      ],
      "text/markdown": [
       "1. 6\n",
       "2. 2\n",
       "\n",
       "\n"
      ],
      "text/plain": [
       "[1] 6 2"
      ]
     },
     "metadata": {},
     "output_type": "display_data"
    }
   ],
   "source": [
    "matrix_c <-matrix(1:12, byrow = FALSE, ncol = 3)\n",
    "# Create a vector of 3 columns\n",
    "add_row <- c(1:3)\n",
    "# Append to the matrix\n",
    "matrix_c <- rbind(matrix_b, add_row)\n",
    "# Check the dimension\n",
    "dim(matrix_c)"
   ]
  },
  {
   "cell_type": "markdown",
   "metadata": {},
   "source": [
    "cbind()concatenate columns, rbind() appends rows. Let's add one row to our matrix_c matrix and verify the dimension is 6x3"
   ]
  },
  {
   "cell_type": "code",
   "execution_count": 24,
   "metadata": {},
   "outputs": [
    {
     "name": "stderr",
     "output_type": "stream",
     "text": [
      "Warning message in rbind(matrix_b, add_row):\n",
      "\"number of columns of result is not a multiple of vector length (arg 2)\""
     ]
    },
    {
     "data": {
      "text/html": [
       "<ol class=list-inline>\n",
       "\t<li>6</li>\n",
       "\t<li>2</li>\n",
       "</ol>\n"
      ],
      "text/latex": [
       "\\begin{enumerate*}\n",
       "\\item 6\n",
       "\\item 2\n",
       "\\end{enumerate*}\n"
      ],
      "text/markdown": [
       "1. 6\n",
       "2. 2\n",
       "\n",
       "\n"
      ],
      "text/plain": [
       "[1] 6 2"
      ]
     },
     "metadata": {},
     "output_type": "display_data"
    }
   ],
   "source": [
    "matrix_c <-matrix(1:12, byrow = FALSE, ncol = 3)\n",
    "# Create a vector of 3 columns\n",
    "add_row <- c(1:3)\n",
    "# Append to the matrix\n",
    "matrix_c <- rbind(matrix_b, add_row)\n",
    "# Check the dimension\n",
    "dim(matrix_c)"
   ]
  },
  {
   "cell_type": "markdown",
   "metadata": {},
   "source": [
    "#### Slice a Matrix\n",
    "\n",
    "\n",
    "We can select elements one or many elements from a matrix by using the square brackets [ ]. This is where slicing comes into the picture.\n",
    "\n",
    "For example:\n",
    "\n",
    "1. matrix_c[1,2] selects the element at the first row and second column.\n",
    "2. matrix_c[1:3,2:3] results in a matrix with the data on the rows 1, 2, 3 and columns 2, 3,\n",
    "3. matrix_c[,1] selects all elements of the first column.\n",
    "4. matrix_c[1,] selects all elements of the first row.\n",
    "\n",
    "Here is the output you get for the above codes"
   ]
  },
  {
   "cell_type": "markdown",
   "metadata": {},
   "source": [
    "![](https://lh3.googleusercontent.com/-avoFHHAIH9A/XXimoU9TgCI/AAAAAAAAhmk/-uKzlqPnb74_TqB1nS4PVFpQYsJOMexHQCK8BGAsYHg/s0/2019-09-11.png)"
   ]
  },
  {
   "cell_type": "code",
   "execution_count": null,
   "metadata": {},
   "outputs": [],
   "source": []
  }
 ],
 "metadata": {
  "kernelspec": {
   "display_name": "R",
   "language": "R",
   "name": "ir"
  },
  "language_info": {
   "codemirror_mode": "r",
   "file_extension": ".r",
   "mimetype": "text/x-r-source",
   "name": "R",
   "pygments_lexer": "r",
   "version": "3.5.1"
  }
 },
 "nbformat": 4,
 "nbformat_minor": 2
}
