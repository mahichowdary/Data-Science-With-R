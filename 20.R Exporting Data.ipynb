{
 "cells": [
  {
   "cell_type": "markdown",
   "metadata": {},
   "source": [
    "**Create data frame**\n",
    "1. First of all, let's import the mtcars dataset and get the mean of mpg and disp grouped by gear.\n"
   ]
  },
  {
   "cell_type": "code",
   "execution_count": 2,
   "metadata": {},
   "outputs": [
    {
     "data": {
      "text/html": [
       "<table>\n",
       "<thead><tr><th scope=col>gear</th><th scope=col>mean_mpg</th><th scope=col>mean_disp</th></tr></thead>\n",
       "<tbody>\n",
       "\t<tr><td>3       </td><td>16.10667</td><td>326.3000</td></tr>\n",
       "\t<tr><td>4       </td><td>24.53333</td><td>123.0167</td></tr>\n",
       "\t<tr><td>5       </td><td>21.38000</td><td>202.4800</td></tr>\n",
       "</tbody>\n",
       "</table>\n"
      ],
      "text/latex": [
       "\\begin{tabular}{r|lll}\n",
       " gear & mean\\_mpg & mean\\_disp\\\\\n",
       "\\hline\n",
       "\t 3        & 16.10667 & 326.3000\\\\\n",
       "\t 4        & 24.53333 & 123.0167\\\\\n",
       "\t 5        & 21.38000 & 202.4800\\\\\n",
       "\\end{tabular}\n"
      ],
      "text/markdown": [
       "\n",
       "| gear | mean_mpg | mean_disp |\n",
       "|---|---|---|\n",
       "| 3        | 16.10667 | 326.3000 |\n",
       "| 4        | 24.53333 | 123.0167 |\n",
       "| 5        | 21.38000 | 202.4800 |\n",
       "\n"
      ],
      "text/plain": [
       "  gear mean_mpg mean_disp\n",
       "1 3    16.10667 326.3000 \n",
       "2 4    24.53333 123.0167 \n",
       "3 5    21.38000 202.4800 "
      ]
     },
     "metadata": {},
     "output_type": "display_data"
    }
   ],
   "source": [
    "require(dplyr)\n",
    "library(dplyr)\n",
    "\n",
    "df <-mtcars %>%\n",
    "    select(mpg, disp, gear) %>%\n",
    "    group_by(gear) %>%\n",
    "    summarize(mean_mpg = mean(mpg), mean_disp = mean(disp))\n",
    "df"
   ]
  },
  {
   "cell_type": "markdown",
   "metadata": {},
   "source": [
    "The table contains three rows and three columns. You can create a CSV file with the function write.csv().\n",
    "\n",
    "**Export CSV**\n",
    "\n",
    "The basic syntax is:"
   ]
  },
  {
   "cell_type": "raw",
   "metadata": {},
   "source": [
    "write.csv(df, path)\n",
    "arguments\n",
    "-df: Dataset to save. Need to be the same name of the data frame in the environment.\n",
    "-path: A string. Set the destination path. Path + filename + extension i.e. \"/Users/USERNAME/Downloads/mydata.csv\" or the filename + extension if the folder is the same as the working directory"
   ]
  },
  {
   "cell_type": "code",
   "execution_count": 5,
   "metadata": {},
   "outputs": [],
   "source": [
    "write.csv(df, \"Car.csv\")"
   ]
  },
  {
   "cell_type": "code",
   "execution_count": 8,
   "metadata": {},
   "outputs": [],
   "source": [
    "write.dcf(df, \"Car.dcf\")"
   ]
  },
  {
   "cell_type": "code",
   "execution_count": 11,
   "metadata": {},
   "outputs": [],
   "source": [
    "write.table(df,\"Car.table\")"
   ]
  }
 ],
 "metadata": {
  "kernelspec": {
   "display_name": "R",
   "language": "R",
   "name": "ir"
  },
  "language_info": {
   "codemirror_mode": "r",
   "file_extension": ".r",
   "mimetype": "text/x-r-source",
   "name": "R",
   "pygments_lexer": "r",
   "version": "3.6.1"
  }
 },
 "nbformat": 4,
 "nbformat_minor": 2
}
